{
 "cells": [
  {
   "cell_type": "markdown",
   "id": "3b2f649c",
   "metadata": {},
   "source": [
    "### Import packages"
   ]
  },
  {
   "cell_type": "code",
   "execution_count": 3,
   "id": "5de92fab",
   "metadata": {},
   "outputs": [],
   "source": [
    "import pandas as pd\n",
    "import tweepy as tw\n",
    "import os\n",
    "from tqdm import tqdm"
   ]
  },
  {
   "cell_type": "code",
   "execution_count": 4,
   "id": "5faad9dc",
   "metadata": {},
   "outputs": [],
   "source": [
    "# pd.set_option('max_rows', None)"
   ]
  },
  {
   "cell_type": "markdown",
   "id": "97c331d7",
   "metadata": {},
   "source": [
    "### Twitter API authentication"
   ]
  },
  {
   "cell_type": "code",
   "execution_count": 5,
   "id": "7cc392f1",
   "metadata": {},
   "outputs": [
    {
     "name": "stdout",
     "output_type": "stream",
     "text": [
      "Authentication OK\n"
     ]
    }
   ],
   "source": [
    "# Twitter API keys and tokens\n",
    "API_KEY = os.environ.get(\"API_KEY\")\n",
    "SECRET_KEY = os.environ.get(\"SECRET_KEY\")\n",
    "ACCESS_TOKEN = os.environ.get(\"ACCESS_TOKEN\")\n",
    "SECRET_TOKEN = os.environ.get(\"SECRET_TOKEN\")\n",
    "\n",
    "# establish an instance of tweepy's API\n",
    "auth = tw.OAuthHandler(API_KEY, SECRET_KEY)\n",
    "auth.set_access_token(ACCESS_TOKEN, SECRET_TOKEN)\n",
    "api = tw.API(auth, wait_on_rate_limit=True)\n",
    "\n",
    "try:\n",
    "    api.verify_credentials()\n",
    "\n",
    "    print(\"Authentication OK\")\n",
    "\n",
    "except:\n",
    "\n",
    "  print(\"Error during authentication\")"
   ]
  },
  {
   "cell_type": "markdown",
   "id": "7fd8d077",
   "metadata": {},
   "source": [
    "### Create variables"
   ]
  },
  {
   "cell_type": "code",
   "execution_count": 6,
   "id": "b20ff1f3",
   "metadata": {},
   "outputs": [],
   "source": [
    "# Date \n",
    "since_date = '2022-05-01'\n",
    "until_date = '2022-05-02'\n",
    "filename_date = since_date.replace('-', '_')\n",
    "\n",
    "# Count\n",
    "count_en = 10000\n",
    "count_other = 5000\n",
    "\n",
    "# Query  \n",
    "query_ukraine_en = f'ukraine OR ukrainian OR kyiv OR kharkiv OR odessa OR donetsk OR lviv OR mariupol OR luhansk OR donbas OR donbass OR kherson -Zelenskiy -Zelensky -Zelenskyy -@ZelenskyyUa -russia -russian -moscow -putin -@KremlinRussia_E since:{since_date} until:{until_date} -filter:retweets'\n",
    "query_ukraine_es = f'ucrania OR ucraniano OR kyiv OR kharkiv OR odessa OR donetsk OR lviv OR mariupol OR lugansk OR donbas OR donbass OR kherson -zelenskiy -@ZelenskyyUa -rusia -ruso -moscú -putin -@KremlinRussia_E since:{since_date} until:{until_date} -filter:retweets'\n",
    "query_ukraine_pt = f'ucrânia OR ucraniano OR kyiv OR kharkiv OR odessa OR donetsk OR lviv OR mariupol OR luhansk OR donbas OR donbass OR kherson -zelenskyy -@ZelenskyyUa -rússia -russo -moscou -putin -@KremlinRussia_E since:{since_date} until:{until_date} -filter:retweets'\n",
    "query_ukraine_fr = f'ukraine OR ukrainien OR kyiv OR kharkiv OR odessa OR donetsk OR lviv OR mariupol OR luhansk OR donbas OR donbass OR kherson -zelensky -@ZelenskyyUa -russie -russe -moscou -poutine -@KremlinRussia_E since:{since_date} until:{until_date} -filter:retweets'\n",
    "query_ukraine_de = f'ukraine OR ukrainisch OR kiew OR charkiw OR odessa OR donezk OR lemberg OR mariupol OR luhansk OR donbass OR donbass OR cherson -selenskyj -Selenskyi -@ZelenskyyUa -russland -russisch -moskau -putin -@KremlinRussia_E since:{since_date} until:{until_date} -filter:retweets'\n",
    "query_ukraine_ru = f'украина OR украинский OR киев OR харьков OR одесса OR донецк OR львов OR мариуполь OR луганск OR донбасс OR донбасс OR херсон -Зеленский -@ZelenskyyUa -россия -русский -москва -путин -@KremlinRussia_E since:{since_date} until:{until_date} -filter:retweets'\n",
    "query_ukraine_uk = f'україна OR український OR київ OR харків OR одеса OR донецьк OR львів OR маріуполь OR луганськ OR донбас OR донбас OR херсон -Зеленський -@ZelenskyyUa -росія -росія -москва -путін -@KremlinRussia_E since:{since_date} until:{until_date} -filter:retweets'\n",
    "query_ukraine_zh = f'乌克兰 OR 乌克兰人 OR 乌国 OR 基辅 OR 烏國 OR 烏克蘭 OR 烏克蘭人 OR 基輔 -泽连斯基 -澤倫斯基 -@ZelenskyyUa -俄罗斯 -俄国 -莫斯科 -普京 -俄羅斯 -俄國 -@KremlinRussia_E since:{since_date} until:{until_date} -filter:retweets'\n",
    "query_ukraine_ja = f'ウクライナ OR キーウ -ゼレンスキー -@ZelenskyyUa -ロシア -モスクワ -プーチン -@KremlinRussia_E since:{since_date} until:{until_date} -filter:retweets'\n",
    "query_ukraine_hi = f'यूक्रेन OR यूक्रेनी OR कीव OR खार्किव OR ओडेसा OR डोनेट्स्क OR लविव OR मारियुपोल OR लुहांस्क OR डोनबास OR डोनबास OR खेरसन -ज़ेलेंस्की -रूसिया -मॉस्को -पुतिन -@ZelenskyyUa -@KremlinRussia_E since:{since_date} until:{until_date} -filter:retweets'\n",
    "\n",
    "query_russia_en = f'russia OR russian OR moscow -ukraine -ukrainian -kyiv -Zelenskiy -Zelensky -@ZelenskyyUa -putin -@KremlinRussia_E since:{since_date} until:{until_date} -filter:retweets'\n",
    "query_russia_es = f'rusia OR ruso OR moscú -ucrania -ucraniano -kyiv -zelenskiy -@ZelenskyyUa -putin -@KremlinRussia_E since:{since_date} until:{until_date} -filter:retweets'\n",
    "query_russia_pt = f'rússia OR russo OR moscou -ucrânia -ucraniano -kyiv -zelenskyy -@ZelenskyyUa -putin -@KremlinRussia_E since:{since_date} until:{until_date} -filter:retweets'\n",
    "query_russia_fr = f'russie OR russe OR moscou -ukraine -ukrainien -kyiv -zelensky -@ZelenskyyUa -poutine -@KremlinRussia_E since:{since_date} until:{until_date} -filter:retweets'\n",
    "query_russia_de = f'russland OR russisch OR moskau -ukraine -ukrainisch -kiew -selenskyj -@KremlinRussia_E since:{since_date} until:{until_date} -filter:retweets'\n",
    "query_russia_ru = f'россия OR русский OR москва -украина -украинский -киев -зеленский -путин -@ZelenskyyUa -@KremlinRussia_E since:{since_date} until:{until_date} -filter:retweets'\n",
    "query_russia_uk = f'росія OR російська OR москва -україна -український -київ -зеленський -путін -@ZelenskyyUa -@KremlinRussia_E since:{since_date} until:{until_date} -filter:retweets'\n",
    "query_russia_zh = f'俄罗斯 OR 俄国 OR 莫斯科 OR 俄羅斯 OR 俄國 -乌克兰 -乌克兰人 -乌国 -基辅 -烏國 -烏克蘭 -烏克蘭人 -基輔 -泽连斯基 -澤倫斯基 -@ZelenskyyUa -普京 -@KremlinRussia_E since:{since_date} until:{until_date} -filter:retweets'\n",
    "query_russia_ja = f'ロシア OR モスクワ -ウクライナ -キーウ -ゼレンスキー -プーチン -@ZelenskyyUa -@KremlinRussia_E since:{since_date} until:{until_date} -filter:retweets'\n",
    "query_russia_hi = f'रूस OR रूसी OR मास्को -यूक्रेन -यूक्रेनी -कीव -ज़ेलेंस्की -पुतिन -@ZelenskyyUa -@KremlinRussia_E since:{since_date} until:{until_date} -filter:retweets'\n",
    "\n",
    "query_zelenskyy_en = f'Zelenskiy OR Zelensky OR Zelenskyy OR @ZelenskyyUa -ukraine -ukrainian -kyiv -russia -russian -moscow -putin -@KremlinRussia_E since:{since_date} until:{until_date} -filter:retweets'\n",
    "query_zelenskyy_es = f'zelenskiy OR @ZelenskyyUa -ucrania -ucraniano -kyiv -rusia -ruso -moscú -putin -@KremlinRussia_E since:{since_date} until:{until_date} -filter:retweets'\n",
    "query_zelenskyy_pt = f'zelenskyy OR @ZelenskyyUa -ucrânia -ucraniano -kyiv -rússia -russo -moscou -putin -@KremlinRussia_E since:{since_date} until:{until_date} -filter:retweets'\n",
    "query_zelenskyy_fr = f'zelensky OR @ZelenskyyUa -ukraine -ukrainien -kyiv -russie -russe -moscou -poutine -@KremlinRussia_E since:{since_date} until:{until_date} -filter:retweets'\n",
    "query_zelenskyy_de = f'selenskyj OR @ZelenskyyUa -ukraine -ukrainisch -kiew -russland -russisch -moskau -putin -@KremlinRussia_E since:{since_date} until:{until_date} -filter:retweets'\n",
    "query_zelenskyy_ru = f'Зеленский OR @ZelenskyyUa -украина -украинский -киев -россия -российский -москва -путин -@KremlinRussia_E since:{since_date} until:{until_date} -filter:retweets'\n",
    "query_zelenskyy_uk = f'Зеленський OR @ZelenskyyUa -україна -український -київ -росія -рос. -московська -путін -@KremlinRussia_E since:{since_date} until:{until_date} -filter:retweets'\n",
    "query_zelenskyy_zh = f'泽连斯基 OR 澤倫斯基 OR @ZelenskyyUa -俄罗斯 -俄国 -莫斯科 -俄羅斯 -俄國 -乌克兰 -乌克兰人 -乌国 -基辅 -烏國 -烏克蘭 -烏克蘭人 -基輔 -普京 -@KremlinRussia_E since:{since_date} until:{until_date} -filter:retweets'\n",
    "query_zelenskyy_ja = f'ゼレンスキー OR @ZelenskyyUa -ロシア -モスクワ -ウクライナ -キーウ -プーチン -@KremlinRussia_E since:{since_date} until:{until_date} -filter:retweets'\n",
    "query_zelenskyy_hi = f'ज़ेलेंस्की OR @ZelenskyyUa -रूस -रूसी -मास्को -यूक्रेन -यूक्रेनी -कीव -पुतिन -@KremlinRussia_E since:{since_date} until:{until_date} -filter:retweets'\n",
    "\n",
    "query_putin_en = f'putin OR @KremlinRussia_E -russia -russian -moscow -ukraine -ukrainian -kyiv -Zelenskiy -Zelensky -Zelenskyy -@ZelenskyyUa since:{since_date} until:{until_date} -filter:retweets'\n",
    "query_putin_es = f'putin OR @KremlinRussia_E -rusia -ruso -moscú -ucrania -ucraniano -kyiv -zelenskiy -@ZelenskyyUa since:{since_date} until:{until_date} -filter:retweets'\n",
    "query_putin_pt = f'putin OR @KremlinRussia_E -rússia -russo -moscou -ucrânia -ucraniano -kyiv -zelenskyy -@ZelenskyyUa since:{since_date} until:{until_date} -filter:retweets'\n",
    "query_putin_fr = f'poutine OR @KremlinRussia_E -russie -russe -moscou -ukraine -ukrainien -kyiv -zelensky -@ZelenskyyUa since:{since_date} until:{until_date} -filter:retweets'\n",
    "query_putin_de = f'putin OR @KremlinRussia_E -russland -russisch -moskau -ukraine -ukrainisch -kiew -selenskyj -@ZelenskyyUa since:{since_date} until:{until_date} -filter:retweets'\n",
    "query_putin_ru = f'путин OR @KremlinRussia_E -Зеленский -@ZelenskyyUa -украина -украинский -киев -россия -российский -москва since:{since_date} until:{until_date} -filter:retweets'\n",
    "query_putin_uk = f'путін OR @KremlinRussia_E -Зеленський -@ZelenskyyUa -україна -український -київ -росія -рос. -московська since:{since_date} until:{until_date} -filter:retweets'\n",
    "query_putin_zh = f'普京 OR @KremlinRussia_E -泽连斯基 -澤倫斯基 -@ZelenskyyUa -俄罗斯 -俄国 -莫斯科 -俄羅斯 -俄國 -乌克兰 -乌克兰人 -乌国 -基辅 -烏國 -烏克蘭 -烏克蘭人 -基輔 since:{since_date} until:{until_date} -filter:retweets'\n",
    "query_putin_ja = f'プーチン OR @KremlinRussia_E -ゼレンスキー -@ZelenskyyUa -ロシア -モスクワ -ウクライナ -キーウ since:{since_date} until:{until_date} -filter:retweets'\n",
    "query_putin_hi = f'पुतिन OR @KremlinRussia_E -ज़ेलेंस्की -@ZelenskyyUa -रूस -रूसी -मास्को -यूक्रेन -यूक्रेनी -कीव since:{since_date} until:{until_date} -filter:retweets'\n",
    "\n",
    "query_nato_en = f'NATO OR \"North Atlantic Treaty Organization\" OR @NATO since:{since_date} until:{until_date} -filter:retweets'\n",
    "query_nato_es = f'OTAN OR \"Organización del Tratado del Atlántico Norte\" OR @NATO since:{since_date} until:{until_date} -filter:retweets'\n",
    "query_nato_pt = f'OTAN OR \"Organização do Tratado do Atlântico Norte\" OR @NATO since:{since_date} until:{until_date} -filter:retweets'\n",
    "query_nato_fr = f'OTAN OR \"Organisation du Traité de l\\'Atlantique Nord\" OR @NATO since:{since_date} until:{until_date} -filter:retweets'\n",
    "query_nato_de = f'Nato OR \"Organisation des Nordatlantikvertrags\" OR @NATO since:{since_date} until:{until_date} -filter:retweets'\n",
    "\n",
    "query_eu_en = f'\"European Union\" OR @EU_Commission since:{since_date} until:{until_date} -filter:retweets'\n",
    "query_eu_es = f'\"Unión Europea\" OR @EU_Commission since:{since_date} until:{until_date} -filter:retweets'\n",
    "query_eu_pt = f'\"União Européia\" OR @EU_Commission since:{since_date} until:{until_date} -filter:retweets'\n",
    "query_eu_fr = f'\"Union Européenne\" OR @EU_Commission since:{since_date} until:{until_date} -filter:retweets'\n",
    "query_eu_de = f'\"Europäische Union\" OR @EU_Commission since:{since_date} until:{until_date} -filter:retweets'\n",
    "\n",
    "query_biden = f'\"Joe Biden\" OR @JoeBiden OR @POTUS since:{since_date} until:{until_date} -filter:retweets'\n",
    "\n",
    "query_johnson = f'\"Boris Johnson\" OR @10DowningStreet OR @BorisJohnson since:{since_date} until:{until_date} -filter:retweets'\n",
    "\n",
    "query_macron = f'\"Emmanuel Macron\" OR @EmmanuelMacron since:{since_date} until:{until_date} -filter:retweets'\n",
    "\n",
    "query_scholz = f'\"Olaf Scholz\" OR @OlafScholz since:{since_date} until:{until_date} -filter:retweets'"
   ]
  },
  {
   "cell_type": "markdown",
   "id": "42274c07",
   "metadata": {},
   "source": [
    "### Create functions to get tweets from Twitter API"
   ]
  },
  {
   "cell_type": "code",
   "execution_count": 7,
   "id": "3cda773f",
   "metadata": {},
   "outputs": [],
   "source": [
    "# get_tweets with encode('utf-8') for en, es, pt, fr, de\n",
    "def get_tweets_utf8(query, lang, count, keyword):\n",
    "    tweets = pd.DataFrame(columns=['tweet_id',  'acct_desc', 'date', 'location', 'friends_ount','followers_ount', 'text'])\n",
    "    counter = 0\n",
    "    for tweet in tqdm(tw.Cursor(api.search_tweets, count=count, tweet_mode='extended', q=query, lang=lang).items()): \n",
    "            appending_dataframe = pd.DataFrame([[tweet.id, tweet.user.description, tweet.created_at, tweet.user.location, tweet.user.friends_count, tweet.user.followers_count, tweet.full_text.encode('utf-8')]], columns=['tweet_id',  'acct_desc', 'date', 'location', 'friends_ount','followers_ount', 'text'])\n",
    "            tweets = tweets.append(appending_dataframe)\n",
    "            counter+=1\n",
    "            if counter >= count:\n",
    "                break\n",
    "    tweets.to_csv(f'../data/tweets/tweets_{keyword}/tweets_{keyword}_{lang}/tweets_{keyword}_{lang}_{filename_date}.csv', index=False)\n",
    "\n",
    "# get_tweets without encode('utf-8') for ru, uk, zh, ja, hi\n",
    "def get_tweets(query, lang, count, keyword):\n",
    "    tweets = pd.DataFrame(columns=['tweet_id',  'acct_desc', 'date', 'location', 'friends_ount','followers_ount', 'text'])\n",
    "    counter = 0\n",
    "    for tweet in tqdm(tw.Cursor(api.search_tweets, count=count, tweet_mode='extended', q=query, lang=lang).items()): \n",
    "            appending_dataframe = pd.DataFrame([[tweet.id, tweet.user.description, tweet.created_at, tweet.user.location, tweet.user.friends_count, tweet.user.followers_count, tweet.full_text]], columns=['tweet_id',  'acct_desc', 'date', 'location', 'friends_ount','followers_ount', 'text'])\n",
    "            tweets = tweets.append(appending_dataframe)\n",
    "            counter+=1\n",
    "            if counter >= count:\n",
    "                break\n",
    "    tweets.to_csv(f'../data/tweets/tweets_{keyword}/tweets_{keyword}_{lang}/tweets_{keyword}_{lang}_{filename_date}.csv', index=False)\n"
   ]
  },
  {
   "cell_type": "markdown",
   "id": "d4ecaa35",
   "metadata": {},
   "source": [
    "### Get tweets from Twitter API using Standard Search"
   ]
  },
  {
   "cell_type": "code",
   "execution_count": 6,
   "id": "be193b05",
   "metadata": {},
   "outputs": [
    {
     "name": "stderr",
     "output_type": "stream",
     "text": [
      "9999it [02:10, 76.50it/s] \n",
      "4999it [01:03, 78.96it/s] \n",
      "2671it [00:31, 130.87it/s]Rate limit reached. Sleeping for: 675\n",
      "3652it [12:03,  5.05it/s] \n",
      "4999it [01:04, 77.91it/s] \n",
      "4999it [01:01, 81.84it/s] \n",
      "4999it [00:56, 88.42it/s] \n",
      "1893it [00:21, 95.21it/s] Rate limit reached. Sleeping for: 680\n",
      "3053it [11:53,  4.28it/s] \n",
      "4999it [00:48, 102.11it/s]\n",
      "2867it [00:27, 105.88it/s]\n",
      "516it [00:05, 101.39it/s]\n"
     ]
    }
   ],
   "source": [
    "# ukraine\n",
    "get_tweets_utf8(query_ukraine_en, \"en\", count_en, \"ukraine\")\n",
    "get_tweets_utf8(query_ukraine_es, \"es\", count_other, \"ukraine\")\n",
    "get_tweets_utf8(query_ukraine_pt, \"pt\", count_other, \"ukraine\")\n",
    "get_tweets_utf8(query_ukraine_fr, \"fr\", count_other, \"ukraine\")\n",
    "get_tweets_utf8(query_ukraine_de, \"de\", count_other, \"ukraine\")\n",
    "get_tweets(query_ukraine_ru, \"ru\", count_other, \"ukraine\")\n",
    "get_tweets(query_ukraine_uk, \"uk\", count_other, \"ukraine\")\n",
    "get_tweets(query_ukraine_ja, \"ja\", count_other, \"ukraine\")\n",
    "get_tweets(query_ukraine_zh, \"zh\", count_other, \"ukraine\")\n",
    "get_tweets(query_ukraine_hi, \"hi\", count_other, \"ukraine\")"
   ]
  },
  {
   "cell_type": "code",
   "execution_count": 7,
   "id": "dbb3afa6",
   "metadata": {
    "scrolled": true
   },
   "outputs": [
    {
     "name": "stderr",
     "output_type": "stream",
     "text": [
      "7774it [01:10, 143.61it/s]Rate limit reached. Sleeping for: 739\n",
      "9999it [13:54, 11.98it/s] \n",
      "4999it [01:06, 75.13it/s] \n",
      "4126it [00:52, 77.89it/s] \n",
      "4999it [00:55, 90.43it/s] \n",
      "1375it [00:20, 76.21it/s] Rate limit reached. Sleeping for: 680\n",
      "4999it [12:24,  6.71it/s] \n",
      "4999it [01:05, 76.89it/s] \n",
      "864it [00:12, 67.51it/s] \n",
      "4999it [01:05, 76.80it/s] \n",
      "2339it [00:28, 82.54it/s] \n",
      "188it [00:02, 81.60it/s] \n"
     ]
    }
   ],
   "source": [
    "# russia\n",
    "get_tweets_utf8(query_russia_en, \"en\", count_en, \"russia\")\n",
    "get_tweets_utf8(query_russia_es, \"es\", count_other, \"russia\")\n",
    "get_tweets_utf8(query_russia_pt, \"pt\", count_other, \"russia\")\n",
    "get_tweets_utf8(query_russia_fr, \"fr\", count_other, \"russia\")\n",
    "get_tweets_utf8(query_russia_de, \"de\", count_other, \"russia\")\n",
    "get_tweets(query_russia_ru, \"ru\", count_other, \"russia\")\n",
    "get_tweets(query_russia_uk, \"uk\", count_other, \"russia\")\n",
    "get_tweets(query_russia_ja, \"ja\", count_other, \"russia\")\n",
    "get_tweets(query_russia_zh, \"zh\", count_other, \"russia\")\n",
    "get_tweets(query_russia_hi, \"hi\", count_other, \"russia\")"
   ]
  },
  {
   "cell_type": "code",
   "execution_count": 8,
   "id": "04421e33",
   "metadata": {},
   "outputs": [
    {
     "name": "stderr",
     "output_type": "stream",
     "text": [
      "484it [00:07, 89.61it/s] Rate limit reached. Sleeping for: 674\n",
      "9999it [13:38, 12.22it/s] \n",
      "208it [00:02, 70.88it/s] \n",
      "73it [00:01, 60.30it/s]\n",
      "758it [00:08, 86.93it/s] \n",
      "653it [00:07, 90.71it/s] \n",
      "1185it [00:17, 69.47it/s] \n",
      "1103it [00:15, 71.60it/s] \n",
      "785it [00:09, 87.14it/s] \n",
      "182it [00:03, 58.27it/s]\n",
      "29it [00:01, 26.39it/s]\n"
     ]
    }
   ],
   "source": [
    "# zelenskyy\n",
    "get_tweets_utf8(query_zelenskyy_en, \"en\", count_en, \"zelenskyy\")\n",
    "get_tweets_utf8(query_zelenskyy_es, \"es\", count_other, \"zelenskyy\")\n",
    "get_tweets_utf8(query_zelenskyy_pt, \"pt\", count_other, \"zelenskyy\")\n",
    "get_tweets_utf8(query_zelenskyy_fr, \"fr\", count_other, \"zelenskyy\")\n",
    "get_tweets_utf8(query_zelenskyy_de, \"de\", count_other, \"zelenskyy\")\n",
    "get_tweets(query_zelenskyy_ru, \"ru\", count_other, \"zelenskyy\")\n",
    "get_tweets(query_zelenskyy_uk, \"uk\", count_other, \"zelenskyy\")\n",
    "get_tweets(query_zelenskyy_ja, \"ja\", count_other, \"zelenskyy\")\n",
    "get_tweets(query_zelenskyy_zh, \"zh\", count_other, \"zelenskyy\")\n",
    "get_tweets(query_zelenskyy_hi, \"hi\", count_other, \"zelenskyy\")"
   ]
  },
  {
   "cell_type": "code",
   "execution_count": 9,
   "id": "2070a5db",
   "metadata": {},
   "outputs": [
    {
     "name": "stderr",
     "output_type": "stream",
     "text": [
      "364it [00:05, 83.11it/s]Rate limit reached. Sleeping for: 695\n",
      "9999it [13:46, 12.10it/s] \n",
      "4999it [01:06, 75.57it/s] \n",
      "1703it [00:19, 89.56it/s] \n",
      "1283it [00:17, 88.02it/s]Rate limit reached. Sleeping for: 673\n",
      "4267it [12:06,  5.87it/s] \n",
      "4999it [00:57, 87.06it/s] \n",
      "3565it [00:46, 76.40it/s] \n",
      "502it [00:05, 84.08it/s] \n",
      "4687it [00:58, 79.89it/s] \n",
      "675it [00:08, 79.88it/s] Rate limit reached. Sleeping for: 688\n",
      "789it [11:40,  1.13it/s]\n",
      "71it [00:01, 44.28it/s]\n"
     ]
    }
   ],
   "source": [
    "# putin\n",
    "get_tweets_utf8(query_putin_en, \"en\", count_en, \"putin\")\n",
    "get_tweets_utf8(query_putin_es, \"es\", count_other, \"putin\")\n",
    "get_tweets_utf8(query_putin_pt, \"pt\", count_other, \"putin\")\n",
    "get_tweets_utf8(query_putin_fr, \"fr\", count_other, \"putin\")\n",
    "get_tweets_utf8(query_putin_de, \"de\", count_other, \"putin\")\n",
    "get_tweets(query_putin_ru, \"ru\", count_other, \"putin\")\n",
    "get_tweets(query_putin_uk, \"uk\", count_other, \"putin\")\n",
    "get_tweets(query_putin_ja, \"ja\", count_other, \"putin\")\n",
    "get_tweets(query_putin_zh, \"zh\", count_other, \"putin\")\n",
    "get_tweets(query_putin_hi, \"hi\", count_other, \"putin\")"
   ]
  },
  {
   "cell_type": "code",
   "execution_count": 10,
   "id": "741c9992",
   "metadata": {},
   "outputs": [
    {
     "name": "stderr",
     "output_type": "stream",
     "text": [
      "9999it [02:02, 81.75it/s] \n",
      "3138it [00:37, 84.19it/s] \n",
      "726it [00:10, 69.66it/s] \n",
      "2660it [00:31, 83.31it/s] \n",
      "475it [00:07, 72.44it/s]Rate limit reached. Sleeping for: 687\n",
      "4546it [12:28,  6.07it/s] \n"
     ]
    }
   ],
   "source": [
    "# nato\n",
    "get_tweets_utf8(query_nato_en, \"en\", count_en, \"nato\")\n",
    "get_tweets_utf8(query_nato_es, \"es\", count_other, \"nato\")\n",
    "get_tweets_utf8(query_nato_pt, \"pt\", count_other, \"nato\")\n",
    "get_tweets_utf8(query_nato_fr, \"fr\", count_other, \"nato\")\n",
    "get_tweets_utf8(query_nato_de, \"de\", count_other, \"nato\")"
   ]
  },
  {
   "cell_type": "code",
   "execution_count": 11,
   "id": "b5f1edb7",
   "metadata": {},
   "outputs": [
    {
     "name": "stderr",
     "output_type": "stream",
     "text": [
      "2366it [00:27, 86.42it/s] \n",
      "723it [00:09, 80.02it/s] \n",
      "213it [00:03, 55.32it/s] \n",
      "623it [00:09, 66.81it/s] \n",
      "64it [00:01, 43.74it/s]\n"
     ]
    }
   ],
   "source": [
    "# eu\n",
    "get_tweets_utf8(query_eu_en, \"en\", count_en, \"eu\")\n",
    "get_tweets_utf8(query_eu_es, \"es\", count_other, \"eu\")\n",
    "get_tweets_utf8(query_eu_pt, \"pt\", count_other, \"eu\")\n",
    "get_tweets_utf8(query_eu_fr, \"fr\", count_other, \"eu\")\n",
    "get_tweets_utf8(query_eu_de, \"de\", count_other, \"eu\")"
   ]
  },
  {
   "cell_type": "code",
   "execution_count": 12,
   "id": "ce419c3c",
   "metadata": {},
   "outputs": [
    {
     "name": "stderr",
     "output_type": "stream",
     "text": [
      "6785it [01:34, 74.81it/s] Rate limit reached. Sleeping for: 702\n",
      "9999it [14:13, 11.72it/s] \n",
      "1628it [00:24, 67.47it/s] \n",
      "221it [00:03, 62.07it/s] \n",
      "453it [00:07, 60.51it/s] \n",
      "197it [00:04, 46.12it/s]\n"
     ]
    }
   ],
   "source": [
    "# biden\n",
    "get_tweets_utf8(query_biden, \"en\", count_en, \"biden\")\n",
    "get_tweets_utf8(query_biden, \"es\", count_other, \"biden\")\n",
    "get_tweets_utf8(query_biden, \"pt\", count_other, \"biden\")\n",
    "get_tweets_utf8(query_biden, \"fr\", count_other, \"biden\")\n",
    "get_tweets_utf8(query_biden, \"de\", count_other, \"biden\")"
   ]
  },
  {
   "cell_type": "code",
   "execution_count": 13,
   "id": "b572c7e4",
   "metadata": {},
   "outputs": [
    {
     "name": "stderr",
     "output_type": "stream",
     "text": [
      "9999it [02:04, 80.04it/s] \n",
      "119it [00:02, 39.78it/s]\n",
      "42it [00:01, 25.34it/s]\n",
      "0it [00:00, ?it/s]Rate limit reached. Sleeping for: 676\n",
      "88it [11:19,  7.73s/it]\n",
      "39it [00:01, 24.39it/s]\n"
     ]
    }
   ],
   "source": [
    "# johnson\n",
    "get_tweets_utf8(query_johnson, \"en\", count_en, \"johnson\")\n",
    "get_tweets_utf8(query_johnson, \"es\", count_other, \"johnson\")\n",
    "get_tweets_utf8(query_johnson, \"pt\", count_other, \"johnson\")\n",
    "get_tweets_utf8(query_johnson, \"fr\", count_other, \"johnson\")\n",
    "get_tweets_utf8(query_johnson, \"de\", count_other, \"johnson\")"
   ]
  },
  {
   "cell_type": "code",
   "execution_count": 14,
   "id": "a24a1fff",
   "metadata": {},
   "outputs": [
    {
     "name": "stderr",
     "output_type": "stream",
     "text": [
      "1954it [00:30, 63.18it/s] \n",
      "234it [00:05, 46.01it/s]\n",
      "198it [00:03, 60.74it/s]\n",
      "4999it [01:02, 80.37it/s] \n",
      "84it [00:01, 56.02it/s]\n"
     ]
    }
   ],
   "source": [
    "# macron\n",
    "get_tweets_utf8(query_macron, \"en\", count_en, \"macron\")\n",
    "get_tweets_utf8(query_macron, \"es\", count_other, \"macron\")\n",
    "get_tweets_utf8(query_macron, \"pt\", count_other, \"macron\")\n",
    "get_tweets_utf8(query_macron, \"fr\", count_other, \"macron\")\n",
    "get_tweets_utf8(query_macron, \"de\", count_other, \"macron\")"
   ]
  },
  {
   "cell_type": "code",
   "execution_count": 15,
   "id": "3b5e3ee0",
   "metadata": {},
   "outputs": [
    {
     "name": "stderr",
     "output_type": "stream",
     "text": [
      "1383it [00:17, 81.24it/s] \n",
      "38it [00:01, 21.68it/s]\n",
      "22it [00:01, 20.93it/s]\n",
      "49it [00:01, 47.24it/s]\n",
      "2823it [00:36, 76.33it/s] \n"
     ]
    }
   ],
   "source": [
    "# scholz\n",
    "get_tweets_utf8(query_scholz, \"en\", count_en, \"scholz\")\n",
    "get_tweets_utf8(query_scholz, \"es\", count_other, \"scholz\")\n",
    "get_tweets_utf8(query_scholz, \"pt\", count_other, \"scholz\")\n",
    "get_tweets_utf8(query_scholz, \"fr\", count_other, \"scholz\")\n",
    "get_tweets_utf8(query_scholz, \"de\", count_other, \"scholz\")"
   ]
  },
  {
   "cell_type": "markdown",
   "id": "4de6eeac",
   "metadata": {},
   "source": [
    "### Get archived tweets before the war using api.search_full_archive"
   ]
  },
  {
   "cell_type": "code",
   "execution_count": 30,
   "id": "d95d1e97",
   "metadata": {},
   "outputs": [],
   "source": [
    "# labels of dates\n",
    "since_date = '202201070000'\n",
    "until_date = '202201080000'\n",
    "filename_date = '2022_01_07'\n",
    "\n",
    "# count of tweets\n",
    "count_archive = 100 \n",
    "\n",
    "# query for english tweets\n",
    "query_full_archive_ukraine = '(ukraine OR ukrainian) -Zelenskiy -Zelensky -Zelenskyy -@ZelenskyyUa -russia -russian -moscow -putin lang:en'\n",
    "query_full_archive_russia = '(russia OR russian) -ukraine -ukrainian -kyiv -Zelenskiy -Zelensky -@ZelenskyyUa -putin lang:en'\n",
    "query_full_archive_zelenskyy = '(Zelenskiy OR Zelensky OR Zelenskyy OR @ZelenskyyUa) -ukraine -ukrainian -russia -russian -putin lang:en'\n",
    "query_full_archive_putin = 'putin -russia -russian -moscow -ukraine -ukrainian -Zelenskiy -Zelensky -Zelenskyy -@ZelenskyyUa lang:en'\n",
    "query_full_archive_biden = '((\"Joe Biden\") OR @JoeBiden OR @POTUS) lang:en'\n",
    "query_full_archive_johnson = '((\"Boris Johnson\") OR @10DowningStreet OR @BorisJohnson) lang:en'"
   ]
  },
  {
   "cell_type": "code",
   "execution_count": 14,
   "id": "6e1e56fc",
   "metadata": {
    "scrolled": true
   },
   "outputs": [],
   "source": [
    "# get full archive with encode('utf-8') for english tweets\n",
    "def get_full_archive_utf8(query, count, keyword):\n",
    "    tweets = pd.DataFrame(columns=['tweet_id',  'acct_desc', 'date', 'location', 'friends_ount','followers_ount', 'text'])\n",
    "    counter = 0\n",
    "    for tweet in tqdm(tw.Cursor(api.search_full_archive, label = 'fullarchive', query = query,fromDate = since_date, toDate = until_date, maxResults = count).items()): \n",
    "            appending_dataframe = pd.DataFrame([[tweet.id, tweet.user.description, tweet.created_at, tweet.user.location, tweet.user.friends_count, tweet.user.followers_count, tweet.text.encode('utf-8')]], columns=['tweet_id',  'acct_desc', 'date', 'location', 'friends_ount','followers_ount', 'text'])\n",
    "            tweets = tweets.append(appending_dataframe)\n",
    "            counter+=1\n",
    "            if counter >= count:\n",
    "                break\n",
    "    tweets.to_csv(f'../data/tweets/tweets_{keyword}/tweets_{keyword}_en/tweets_{keyword}_en_{filename_date}.csv', index=False)"
   ]
  },
  {
   "cell_type": "code",
   "execution_count": 31,
   "id": "38a56f1e",
   "metadata": {},
   "outputs": [
    {
     "name": "stderr",
     "output_type": "stream",
     "text": [
      "99it [00:01, 64.70it/s]\n",
      "99it [00:01, 78.81it/s] \n",
      "99it [00:00, 103.75it/s]\n",
      "99it [00:01, 64.56it/s]\n",
      "99it [00:01, 62.94it/s]\n",
      "99it [00:02, 45.47it/s]\n"
     ]
    }
   ],
   "source": [
    "# get English tweets from archive\n",
    "get_full_archive_utf8(query_full_archive_ukraine, count_archive, 'ukraine')\n",
    "get_full_archive_utf8(query_full_archive_russia, count_archive, 'russia')\n",
    "get_full_archive_utf8(query_full_archive_zelenskyy, count_archive, 'zelenskyy')\n",
    "get_full_archive_utf8(query_full_archive_putin, count_archive, 'putin')\n",
    "get_full_archive_utf8(query_full_archive_biden, count_archive, 'biden')\n",
    "get_full_archive_utf8(query_full_archive_johnson, count_archive, 'johnson')"
   ]
  },
  {
   "cell_type": "code",
   "execution_count": null,
   "id": "3615a270",
   "metadata": {},
   "outputs": [],
   "source": []
  },
  {
   "cell_type": "code",
   "execution_count": null,
   "id": "104340b7",
   "metadata": {},
   "outputs": [],
   "source": []
  },
  {
   "cell_type": "code",
   "execution_count": null,
   "id": "a4997c64",
   "metadata": {},
   "outputs": [],
   "source": []
  }
 ],
 "metadata": {
  "kernelspec": {
   "display_name": "Python 3 (ipykernel)",
   "language": "python",
   "name": "python3"
  },
  "language_info": {
   "codemirror_mode": {
    "name": "ipython",
    "version": 3
   },
   "file_extension": ".py",
   "mimetype": "text/x-python",
   "name": "python",
   "nbconvert_exporter": "python",
   "pygments_lexer": "ipython3",
   "version": "3.7.1"
  }
 },
 "nbformat": 4,
 "nbformat_minor": 5
}
