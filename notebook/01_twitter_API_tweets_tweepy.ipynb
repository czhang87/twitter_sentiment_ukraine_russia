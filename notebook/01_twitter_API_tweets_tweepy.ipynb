{
 "cells": [
  {
   "cell_type": "markdown",
   "id": "3b2f649c",
   "metadata": {},
   "source": [
    "### Import packages"
   ]
  },
  {
   "cell_type": "code",
   "execution_count": 1,
   "id": "5de92fab",
   "metadata": {},
   "outputs": [],
   "source": [
    "import pandas as pd\n",
    "import tweepy as tw\n",
    "import os\n",
    "from tqdm import tqdm"
   ]
  },
  {
   "cell_type": "code",
   "execution_count": 2,
   "id": "5faad9dc",
   "metadata": {},
   "outputs": [],
   "source": [
    "# pd.set_option('max_rows', None)"
   ]
  },
  {
   "cell_type": "markdown",
   "id": "97c331d7",
   "metadata": {},
   "source": [
    "### Twitter API authentication"
   ]
  },
  {
   "cell_type": "code",
   "execution_count": 3,
   "id": "7cc392f1",
   "metadata": {},
   "outputs": [
    {
     "name": "stdout",
     "output_type": "stream",
     "text": [
      "Authentication OK\n"
     ]
    }
   ],
   "source": [
    "# Twitter API keys and tokens\n",
    "API_KEY = os.environ.get(\"API_KEY\")\n",
    "SECRET_KEY = os.environ.get(\"SECRET_KEY\")\n",
    "ACCESS_TOKEN = os.environ.get(\"ACCESS_TOKEN\")\n",
    "SECRET_TOKEN = os.environ.get(\"SECRET_TOKEN\")\n",
    "\n",
    "# establish an instance of tweepy's API\n",
    "auth = tw.OAuthHandler(API_KEY, SECRET_KEY)\n",
    "auth.set_access_token(ACCESS_TOKEN, SECRET_TOKEN)\n",
    "api = tw.API(auth, wait_on_rate_limit=True)\n",
    "\n",
    "try:\n",
    "    api.verify_credentials()\n",
    "\n",
    "    print(\"Authentication OK\")\n",
    "\n",
    "except:\n",
    "\n",
    "  print(\"Error during authentication\")"
   ]
  },
  {
   "cell_type": "markdown",
   "id": "7fd8d077",
   "metadata": {},
   "source": [
    "### Create variables"
   ]
  },
  {
   "cell_type": "code",
   "execution_count": 4,
   "id": "b20ff1f3",
   "metadata": {},
   "outputs": [],
   "source": [
    "# Date \n",
    "since_date = '2022-04-27'\n",
    "until_date = '2022-04-28'\n",
    "filename_date = since_date.replace('-', '_')\n",
    "\n",
    "# Count\n",
    "count_en = 10000\n",
    "count_other = 5000\n",
    "\n",
    "# Query  \n",
    "query_ukraine_en = f'ukraine OR ukrainian OR kyiv OR kharkiv OR odessa OR donetsk OR lviv OR mariupol OR luhansk OR donbas OR donbass OR kherson -Zelenskiy -Zelensky -Zelenskyy -@ZelenskyyUa -russia -russian -moscow -putin -@KremlinRussia_E since:{since_date} until:{until_date} -filter:retweets'\n",
    "query_ukraine_es = f'ucrania OR ucraniano OR kyiv OR kharkiv OR odessa OR donetsk OR lviv OR mariupol OR lugansk OR donbas OR donbass OR kherson -zelenskiy -@ZelenskyyUa -rusia -ruso -moscú -putin -@KremlinRussia_E since:{since_date} until:{until_date} -filter:retweets'\n",
    "query_ukraine_pt = f'ucrânia OR ucraniano OR kyiv OR kharkiv OR odessa OR donetsk OR lviv OR mariupol OR luhansk OR donbas OR donbass OR kherson -zelenskyy -@ZelenskyyUa -rússia -russo -moscou -putin -@KremlinRussia_E since:{since_date} until:{until_date} -filter:retweets'\n",
    "query_ukraine_fr = f'ukraine OR ukrainien OR kyiv OR kharkiv OR odessa OR donetsk OR lviv OR mariupol OR luhansk OR donbas OR donbass OR kherson -zelensky -@ZelenskyyUa -russie -russe -moscou -poutine -@KremlinRussia_E since:{since_date} until:{until_date} -filter:retweets'\n",
    "query_ukraine_de = f'ukraine OR ukrainisch OR kiew OR charkiw OR odessa OR donezk OR lemberg OR mariupol OR luhansk OR donbass OR donbass OR cherson -selenskyj -Selenskyi -@ZelenskyyUa -russland -russisch -moskau -putin -@KremlinRussia_E since:{since_date} until:{until_date} -filter:retweets'\n",
    "query_ukraine_ru = f'украина OR украинский OR киев OR харьков OR одесса OR донецк OR львов OR мариуполь OR луганск OR донбасс OR донбасс OR херсон -Зеленский -@ZelenskyyUa -россия -русский -москва -путин -@KremlinRussia_E since:{since_date} until:{until_date} -filter:retweets'\n",
    "query_ukraine_uk = f'україна OR український OR київ OR харків OR одеса OR донецьк OR львів OR маріуполь OR луганськ OR донбас OR донбас OR херсон -Зеленський -@ZelenskyyUa -росія -росія -москва -путін -@KremlinRussia_E since:{since_date} until:{until_date} -filter:retweets'\n",
    "query_ukraine_zh = f'乌克兰 OR 乌克兰人 OR 乌国 OR 基辅 OR 烏國 OR 烏克蘭 OR 烏克蘭人 OR 基輔 -泽连斯基 -澤倫斯基 -@ZelenskyyUa -俄罗斯 -俄国 -莫斯科 -普京 -俄羅斯 -俄國 -@KremlinRussia_E since:{since_date} until:{until_date} -filter:retweets'\n",
    "query_ukraine_ja = f'ウクライナ OR キーウ -ゼレンスキー -@ZelenskyyUa -ロシア -モスクワ -プーチン -@KremlinRussia_E since:{since_date} until:{until_date} -filter:retweets'\n",
    "query_ukraine_hi = f'यूक्रेन OR यूक्रेनी OR कीव OR खार्किव OR ओडेसा OR डोनेट्स्क OR लविव OR मारियुपोल OR लुहांस्क OR डोनबास OR डोनबास OR खेरसन -ज़ेलेंस्की -रूसिया -मॉस्को -पुतिन -@ZelenskyyUa -@KremlinRussia_E since:{since_date} until:{until_date} -filter:retweets'\n",
    "\n",
    "query_russia_en = f'russia OR russian OR moscow -ukraine -ukrainian -kyiv -Zelenskiy -Zelensky -@ZelenskyyUa -putin -@KremlinRussia_E since:{since_date} until:{until_date} -filter:retweets'\n",
    "query_russia_es = f'rusia OR ruso OR moscú -ucrania -ucraniano -kyiv -zelenskiy -@ZelenskyyUa -putin -@KremlinRussia_E since:{since_date} until:{until_date} -filter:retweets'\n",
    "query_russia_pt = f'rússia OR russo OR moscou -ucrânia -ucraniano -kyiv -zelenskyy -@ZelenskyyUa -putin -@KremlinRussia_E since:{since_date} until:{until_date} -filter:retweets'\n",
    "query_russia_fr = f'russie OR russe OR moscou -ukraine -ukrainien -kyiv -zelensky -@ZelenskyyUa -poutine -@KremlinRussia_E since:{since_date} until:{until_date} -filter:retweets'\n",
    "query_russia_de = f'russland OR russisch OR moskau -ukraine -ukrainisch -kiew -selenskyj -@KremlinRussia_E since:{since_date} until:{until_date} -filter:retweets'\n",
    "query_russia_ru = f'россия OR русский OR москва -украина -украинский -киев -зеленский -путин -@ZelenskyyUa -@KremlinRussia_E since:{since_date} until:{until_date} -filter:retweets'\n",
    "query_russia_uk = f'росія OR російська OR москва -україна -український -київ -зеленський -путін -@ZelenskyyUa -@KremlinRussia_E since:{since_date} until:{until_date} -filter:retweets'\n",
    "query_russia_zh = f'俄罗斯 OR 俄国 OR 莫斯科 OR 俄羅斯 OR 俄國 -乌克兰 -乌克兰人 -乌国 -基辅 -烏國 -烏克蘭 -烏克蘭人 -基輔 -泽连斯基 -澤倫斯基 -@ZelenskyyUa -普京 -@KremlinRussia_E since:{since_date} until:{until_date} -filter:retweets'\n",
    "query_russia_ja = f'ロシア OR モスクワ -ウクライナ -キーウ -ゼレンスキー -プーチン -@ZelenskyyUa -@KremlinRussia_E since:{since_date} until:{until_date} -filter:retweets'\n",
    "query_russia_hi = f'रूस OR रूसी OR मास्को -यूक्रेन -यूक्रेनी -कीव -ज़ेलेंस्की -पुतिन -@ZelenskyyUa -@KremlinRussia_E since:{since_date} until:{until_date} -filter:retweets'\n",
    "\n",
    "query_zelenskyy_en = f'Zelenskiy OR Zelensky OR Zelenskyy OR @ZelenskyyUa -ukraine -ukrainian -kyiv -russia -russian -moscow -putin -@KremlinRussia_E since:{since_date} until:{until_date} -filter:retweets'\n",
    "query_zelenskyy_es = f'zelenskiy OR @ZelenskyyUa -ucrania -ucraniano -kyiv -rusia -ruso -moscú -putin -@KremlinRussia_E since:{since_date} until:{until_date} -filter:retweets'\n",
    "query_zelenskyy_pt = f'zelenskyy OR @ZelenskyyUa -ucrânia -ucraniano -kyiv -rússia -russo -moscou -putin -@KremlinRussia_E since:{since_date} until:{until_date} -filter:retweets'\n",
    "query_zelenskyy_fr = f'zelensky OR @ZelenskyyUa -ukraine -ukrainien -kyiv -russie -russe -moscou -poutine -@KremlinRussia_E since:{since_date} until:{until_date} -filter:retweets'\n",
    "query_zelenskyy_de = f'selenskyj OR @ZelenskyyUa -ukraine -ukrainisch -kiew -russland -russisch -moskau -putin -@KremlinRussia_E since:{since_date} until:{until_date} -filter:retweets'\n",
    "query_zelenskyy_ru = f'Зеленский OR @ZelenskyyUa -украина -украинский -киев -россия -российский -москва -путин -@KremlinRussia_E since:{since_date} until:{until_date} -filter:retweets'\n",
    "query_zelenskyy_uk = f'Зеленський OR @ZelenskyyUa -україна -український -київ -росія -рос. -московська -путін -@KremlinRussia_E since:{since_date} until:{until_date} -filter:retweets'\n",
    "query_zelenskyy_zh = f'泽连斯基 OR 澤倫斯基 OR @ZelenskyyUa -俄罗斯 -俄国 -莫斯科 -俄羅斯 -俄國 -乌克兰 -乌克兰人 -乌国 -基辅 -烏國 -烏克蘭 -烏克蘭人 -基輔 -普京 -@KremlinRussia_E since:{since_date} until:{until_date} -filter:retweets'\n",
    "query_zelenskyy_ja = f'ゼレンスキー OR @ZelenskyyUa -ロシア -モスクワ -ウクライナ -キーウ -プーチン -@KremlinRussia_E since:{since_date} until:{until_date} -filter:retweets'\n",
    "query_zelenskyy_hi = f'ज़ेलेंस्की OR @ZelenskyyUa -रूस -रूसी -मास्को -यूक्रेन -यूक्रेनी -कीव -पुतिन -@KremlinRussia_E since:{since_date} until:{until_date} -filter:retweets'\n",
    "\n",
    "query_putin_en = f'putin OR @KremlinRussia_E -russia -russian -moscow -ukraine -ukrainian -kyiv -Zelenskiy -Zelensky -Zelenskyy -@ZelenskyyUa since:{since_date} until:{until_date} -filter:retweets'\n",
    "query_putin_es = f'putin OR @KremlinRussia_E -rusia -ruso -moscú -ucrania -ucraniano -kyiv -zelenskiy -@ZelenskyyUa since:{since_date} until:{until_date} -filter:retweets'\n",
    "query_putin_pt = f'putin OR @KremlinRussia_E -rússia -russo -moscou -ucrânia -ucraniano -kyiv -zelenskyy -@ZelenskyyUa since:{since_date} until:{until_date} -filter:retweets'\n",
    "query_putin_fr = f'poutine OR @KremlinRussia_E -russie -russe -moscou -ukraine -ukrainien -kyiv -zelensky -@ZelenskyyUa since:{since_date} until:{until_date} -filter:retweets'\n",
    "query_putin_de = f'putin OR @KremlinRussia_E -russland -russisch -moskau -ukraine -ukrainisch -kiew -selenskyj -@ZelenskyyUa since:{since_date} until:{until_date} -filter:retweets'\n",
    "query_putin_ru = f'путин OR @KremlinRussia_E -Зеленский -@ZelenskyyUa -украина -украинский -киев -россия -российский -москва since:{since_date} until:{until_date} -filter:retweets'\n",
    "query_putin_uk = f'путін OR @KremlinRussia_E -Зеленський -@ZelenskyyUa -україна -український -київ -росія -рос. -московська since:{since_date} until:{until_date} -filter:retweets'\n",
    "query_putin_zh = f'普京 OR @KremlinRussia_E -泽连斯基 -澤倫斯基 -@ZelenskyyUa -俄罗斯 -俄国 -莫斯科 -俄羅斯 -俄國 -乌克兰 -乌克兰人 -乌国 -基辅 -烏國 -烏克蘭 -烏克蘭人 -基輔 since:{since_date} until:{until_date} -filter:retweets'\n",
    "query_putin_ja = f'プーチン OR @KremlinRussia_E -ゼレンスキー -@ZelenskyyUa -ロシア -モスクワ -ウクライナ -キーウ since:{since_date} until:{until_date} -filter:retweets'\n",
    "query_putin_hi = f'पुतिन OR @KremlinRussia_E -ज़ेलेंस्की -@ZelenskyyUa -रूस -रूसी -मास्को -यूक्रेन -यूक्रेनी -कीव since:{since_date} until:{until_date} -filter:retweets'\n",
    "\n",
    "query_nato_en = f'NATO OR \"North Atlantic Treaty Organization\" OR @NATO since:{since_date} until:{until_date} -filter:retweets'\n",
    "query_nato_es = f'OTAN OR \"Organización del Tratado del Atlántico Norte\" OR @NATO since:{since_date} until:{until_date} -filter:retweets'\n",
    "query_nato_pt = f'OTAN OR \"Organização do Tratado do Atlântico Norte\" OR @NATO since:{since_date} until:{until_date} -filter:retweets'\n",
    "query_nato_fr = f'OTAN OR \"Organisation du Traité de l\\'Atlantique Nord\" OR @NATO since:{since_date} until:{until_date} -filter:retweets'\n",
    "query_nato_de = f'Nato OR \"Organisation des Nordatlantikvertrags\" OR @NATO since:{since_date} until:{until_date} -filter:retweets'\n",
    "\n",
    "query_eu_en = f'\"European Union\" OR @EU_Commission since:{since_date} until:{until_date} -filter:retweets'\n",
    "query_eu_es = f'\"Unión Europea\" OR @EU_Commission since:{since_date} until:{until_date} -filter:retweets'\n",
    "query_eu_pt = f'\"União Européia\" OR @EU_Commission since:{since_date} until:{until_date} -filter:retweets'\n",
    "query_eu_fr = f'\"Union Européenne\" OR @EU_Commission since:{since_date} until:{until_date} -filter:retweets'\n",
    "query_eu_de = f'\"Europäische Union\" OR @EU_Commission since:{since_date} until:{until_date} -filter:retweets'\n",
    "\n",
    "query_biden = f'\"Joe Biden\" OR @JoeBiden OR @POTUS since:{since_date} until:{until_date} -filter:retweets'\n",
    "\n",
    "query_johnson = f'\"Boris Johnson\" OR @10DowningStreet OR @BorisJohnson since:{since_date} until:{until_date} -filter:retweets'\n",
    "\n",
    "query_macron = f'\"Emmanuel Macron\" OR @EmmanuelMacron since:{since_date} until:{until_date} -filter:retweets'\n",
    "\n",
    "query_scholz = f'\"Olaf Scholz\" OR @OlafScholz since:{since_date} until:{until_date} -filter:retweets'"
   ]
  },
  {
   "cell_type": "markdown",
   "id": "42274c07",
   "metadata": {},
   "source": [
    "### Create functions to get tweets from Twitter API"
   ]
  },
  {
   "cell_type": "code",
   "execution_count": 5,
   "id": "3cda773f",
   "metadata": {},
   "outputs": [],
   "source": [
    "# get_tweets with encode('utf-8') for en, es, pt, fr, de\n",
    "def get_tweets_utf8(query, lang, count, keyword):\n",
    "    tweets = pd.DataFrame(columns=['tweet_id',  'acct_desc', 'date', 'location', 'friends_ount','followers_ount', 'text'])\n",
    "    counter = 0\n",
    "    for tweet in tqdm(tw.Cursor(api.search_tweets, count=count, tweet_mode='extended', q=query, lang=lang).items()): \n",
    "            appending_dataframe = pd.DataFrame([[tweet.id, tweet.user.description, tweet.created_at, tweet.user.location, tweet.user.friends_count, tweet.user.followers_count, tweet.full_text.encode('utf-8')]], columns=['tweet_id',  'acct_desc', 'date', 'location', 'friends_ount','followers_ount', 'text'])\n",
    "            tweets = tweets.append(appending_dataframe)\n",
    "            counter+=1\n",
    "            if counter >= count:\n",
    "                break\n",
    "    tweets.to_csv(f'../data/tweets/tweets_{keyword}/tweets_{keyword}_{lang}/tweets_{keyword}_{lang}_{filename_date}.csv', index=False)\n",
    "\n",
    "# get_tweets without encode('utf-8') for ru, uk, zh, ja, hi\n",
    "def get_tweets(query, lang, count, keyword):\n",
    "    tweets = pd.DataFrame(columns=['tweet_id',  'acct_desc', 'date', 'location', 'friends_ount','followers_ount', 'text'])\n",
    "    counter = 0\n",
    "    for tweet in tqdm(tw.Cursor(api.search_tweets, count=count, tweet_mode='extended', q=query, lang=lang).items()): \n",
    "            appending_dataframe = pd.DataFrame([[tweet.id, tweet.user.description, tweet.created_at, tweet.user.location, tweet.user.friends_count, tweet.user.followers_count, tweet.full_text]], columns=['tweet_id',  'acct_desc', 'date', 'location', 'friends_ount','followers_ount', 'text'])\n",
    "            tweets = tweets.append(appending_dataframe)\n",
    "            counter+=1\n",
    "            if counter >= count:\n",
    "                break\n",
    "    tweets.to_csv(f'../data/tweets/tweets_{keyword}/tweets_{keyword}_{lang}/tweets_{keyword}_{lang}_{filename_date}.csv', index=False)\n"
   ]
  },
  {
   "cell_type": "markdown",
   "id": "d4ecaa35",
   "metadata": {},
   "source": [
    "### Get tweets from Twitter API using Standard Search"
   ]
  },
  {
   "cell_type": "code",
   "execution_count": 32,
   "id": "be193b05",
   "metadata": {},
   "outputs": [
    {
     "name": "stderr",
     "output_type": "stream",
     "text": [
      "9999it [02:15, 73.57it/s] \n",
      "4999it [01:06, 75.09it/s] \n",
      "2881it [00:33, 129.99it/s]Rate limit reached. Sleeping for: 664\n",
      "4278it [11:57,  5.97it/s] \n",
      "4999it [00:56, 88.93it/s] \n",
      "4999it [00:53, 93.41it/s] \n",
      "4999it [00:59, 83.89it/s] \n",
      "1386it [00:14, 144.75it/s]Rate limit reached. Sleeping for: 698\n",
      "3458it [12:17,  4.69it/s] \n",
      "4999it [01:00, 82.79it/s] \n",
      "2850it [00:37, 76.11it/s] \n",
      "1176it [00:16, 72.52it/s]\n"
     ]
    }
   ],
   "source": [
    "# ukraine\n",
    "get_tweets_utf8(query_ukraine_en, \"en\", count_en, \"ukraine\")\n",
    "get_tweets_utf8(query_ukraine_es, \"es\", count_other, \"ukraine\")\n",
    "get_tweets_utf8(query_ukraine_pt, \"pt\", count_other, \"ukraine\")\n",
    "get_tweets_utf8(query_ukraine_fr, \"fr\", count_other, \"ukraine\")\n",
    "get_tweets_utf8(query_ukraine_de, \"de\", count_other, \"ukraine\")\n",
    "get_tweets(query_ukraine_ru, \"ru\", count_other, \"ukraine\")\n",
    "get_tweets(query_ukraine_uk, \"uk\", count_other, \"ukraine\")\n",
    "get_tweets(query_ukraine_ja, \"ja\", count_other, \"ukraine\")\n",
    "get_tweets(query_ukraine_zh, \"zh\", count_other, \"ukraine\")\n",
    "get_tweets(query_ukraine_hi, \"hi\", count_other, \"ukraine\")"
   ]
  },
  {
   "cell_type": "code",
   "execution_count": 33,
   "id": "dbb3afa6",
   "metadata": {
    "scrolled": true
   },
   "outputs": [
    {
     "name": "stderr",
     "output_type": "stream",
     "text": [
      "6382it [01:14, 142.10it/s]Rate limit reached. Sleeping for: 687\n",
      "9999it [13:30, 12.34it/s] \n",
      "4999it [00:59, 83.75it/s] \n",
      "4999it [00:58, 85.46it/s] \n",
      "4293it [00:48, 131.02it/s]Rate limit reached. Sleeping for: 686\n",
      "4999it [12:24,  6.72it/s] \n",
      "4999it [00:57, 86.27it/s] \n",
      "4999it [01:02, 79.73it/s] \n",
      "882it [00:09, 88.62it/s] \n",
      "4999it [01:07, 74.09it/s] \n",
      "1085it [00:11, 134.94it/s]Rate limit reached. Sleeping for: 682\n",
      "2874it [11:55,  4.02it/s] \n",
      "256it [00:03, 64.48it/s] \n"
     ]
    }
   ],
   "source": [
    "# russia\n",
    "get_tweets_utf8(query_russia_en, \"en\", count_en, \"russia\")\n",
    "get_tweets_utf8(query_russia_es, \"es\", count_other, \"russia\")\n",
    "get_tweets_utf8(query_russia_pt, \"pt\", count_other, \"russia\")\n",
    "get_tweets_utf8(query_russia_fr, \"fr\", count_other, \"russia\")\n",
    "get_tweets_utf8(query_russia_de, \"de\", count_other, \"russia\")\n",
    "get_tweets(query_russia_ru, \"ru\", count_other, \"russia\")\n",
    "get_tweets(query_russia_uk, \"uk\", count_other, \"russia\")\n",
    "get_tweets(query_russia_ja, \"ja\", count_other, \"russia\")\n",
    "get_tweets(query_russia_zh, \"zh\", count_other, \"russia\")\n",
    "get_tweets(query_russia_hi, \"hi\", count_other, \"russia\")"
   ]
  },
  {
   "cell_type": "code",
   "execution_count": 34,
   "id": "04421e33",
   "metadata": {},
   "outputs": [
    {
     "name": "stderr",
     "output_type": "stream",
     "text": [
      "4752it [00:55, 85.62it/s] \n",
      "137it [00:02, 60.23it/s]\n",
      "42it [00:02, 17.66it/s]\n",
      "537it [00:08, 64.58it/s] \n",
      "416it [00:05, 70.29it/s] \n",
      "835it [00:10, 78.78it/s] \n",
      "645it [00:10, 62.86it/s] \n",
      "1123it [00:15, 73.47it/s] \n",
      "174it [00:02, 69.39it/s] \n",
      "17it [00:01, 14.20it/s]\n"
     ]
    }
   ],
   "source": [
    "# zelenskyy\n",
    "get_tweets_utf8(query_zelenskyy_en, \"en\", count_en, \"zelenskyy\")\n",
    "get_tweets_utf8(query_zelenskyy_es, \"es\", count_other, \"zelenskyy\")\n",
    "get_tweets_utf8(query_zelenskyy_pt, \"pt\", count_other, \"zelenskyy\")\n",
    "get_tweets_utf8(query_zelenskyy_fr, \"fr\", count_other, \"zelenskyy\")\n",
    "get_tweets_utf8(query_zelenskyy_de, \"de\", count_other, \"zelenskyy\")\n",
    "get_tweets(query_zelenskyy_ru, \"ru\", count_other, \"zelenskyy\")\n",
    "get_tweets(query_zelenskyy_uk, \"uk\", count_other, \"zelenskyy\")\n",
    "get_tweets(query_zelenskyy_ja, \"ja\", count_other, \"zelenskyy\")\n",
    "get_tweets(query_zelenskyy_zh, \"zh\", count_other, \"zelenskyy\")\n",
    "get_tweets(query_zelenskyy_hi, \"hi\", count_other, \"zelenskyy\")"
   ]
  },
  {
   "cell_type": "code",
   "execution_count": 35,
   "id": "2070a5db",
   "metadata": {},
   "outputs": [
    {
     "name": "stderr",
     "output_type": "stream",
     "text": [
      "5138it [01:00, 91.19it/s] Rate limit reached. Sleeping for: 700\n",
      "9999it [13:44, 12.13it/s] \n",
      "4999it [01:00, 82.30it/s] \n",
      "1957it [00:25, 76.49it/s] \n",
      "4999it [01:00, 82.82it/s] \n",
      "979it [00:12, 122.65it/s]Rate limit reached. Sleeping for: 679\n",
      "4999it [12:18,  6.77it/s] \n",
      "4624it [00:56, 81.14it/s] \n",
      "512it [00:07, 69.10it/s] \n",
      "4999it [01:03, 78.85it/s] \n",
      "714it [00:08, 81.00it/s] \n",
      "91it [00:02, 44.59it/s] \n"
     ]
    }
   ],
   "source": [
    "# putin\n",
    "get_tweets_utf8(query_putin_en, \"en\", count_en, \"putin\")\n",
    "get_tweets_utf8(query_putin_es, \"es\", count_other, \"putin\")\n",
    "get_tweets_utf8(query_putin_pt, \"pt\", count_other, \"putin\")\n",
    "get_tweets_utf8(query_putin_fr, \"fr\", count_other, \"putin\")\n",
    "get_tweets_utf8(query_putin_de, \"de\", count_other, \"putin\")\n",
    "get_tweets(query_putin_ru, \"ru\", count_other, \"putin\")\n",
    "get_tweets(query_putin_uk, \"uk\", count_other, \"putin\")\n",
    "get_tweets(query_putin_ja, \"ja\", count_other, \"putin\")\n",
    "get_tweets(query_putin_zh, \"zh\", count_other, \"putin\")\n",
    "get_tweets(query_putin_hi, \"hi\", count_other, \"putin\")"
   ]
  },
  {
   "cell_type": "code",
   "execution_count": 36,
   "id": "741c9992",
   "metadata": {},
   "outputs": [
    {
     "name": "stderr",
     "output_type": "stream",
     "text": [
      "2290it [00:28, 101.90it/s]Rate limit reached. Sleeping for: 687\n",
      "9999it [13:34, 12.27it/s] \n",
      "4538it [00:53, 84.67it/s] \n",
      "916it [00:13, 68.00it/s] \n",
      "2416it [00:25, 96.50it/s] \n",
      "1778it [00:20, 86.26it/s] Rate limit reached. Sleeping for: 689\n",
      "4111it [12:21,  5.54it/s] \n"
     ]
    }
   ],
   "source": [
    "# nato\n",
    "get_tweets_utf8(query_nato_en, \"en\", count_en, \"nato\")\n",
    "get_tweets_utf8(query_nato_es, \"es\", count_other, \"nato\")\n",
    "get_tweets_utf8(query_nato_pt, \"pt\", count_other, \"nato\")\n",
    "get_tweets_utf8(query_nato_fr, \"fr\", count_other, \"nato\")\n",
    "get_tweets_utf8(query_nato_de, \"de\", count_other, \"nato\")"
   ]
  },
  {
   "cell_type": "code",
   "execution_count": 37,
   "id": "b5f1edb7",
   "metadata": {},
   "outputs": [
    {
     "name": "stderr",
     "output_type": "stream",
     "text": [
      "5510it [01:02, 88.55it/s] \n",
      "1453it [00:18, 79.45it/s] \n",
      "516it [00:07, 69.90it/s] \n",
      "861it [00:10, 83.04it/s] \n",
      "175it [00:02, 67.49it/s] \n"
     ]
    }
   ],
   "source": [
    "# eu\n",
    "get_tweets_utf8(query_eu_en, \"en\", count_en, \"eu\")\n",
    "get_tweets_utf8(query_eu_es, \"es\", count_other, \"eu\")\n",
    "get_tweets_utf8(query_eu_pt, \"pt\", count_other, \"eu\")\n",
    "get_tweets_utf8(query_eu_fr, \"fr\", count_other, \"eu\")\n",
    "get_tweets_utf8(query_eu_de, \"de\", count_other, \"eu\")"
   ]
  },
  {
   "cell_type": "code",
   "execution_count": 38,
   "id": "ce419c3c",
   "metadata": {},
   "outputs": [
    {
     "name": "stderr",
     "output_type": "stream",
     "text": [
      "4842it [01:07, 78.93it/s] Rate limit reached. Sleeping for: 701\n",
      "9999it [14:12, 11.73it/s] \n",
      "2589it [00:33, 76.53it/s] \n",
      "205it [00:03, 61.66it/s] \n",
      "450it [00:07, 62.96it/s]\n",
      "144it [00:02, 70.56it/s]\n"
     ]
    }
   ],
   "source": [
    "# biden\n",
    "get_tweets_utf8(query_biden, \"en\", count_en, \"biden\")\n",
    "get_tweets_utf8(query_biden, \"es\", count_other, \"biden\")\n",
    "get_tweets_utf8(query_biden, \"pt\", count_other, \"biden\")\n",
    "get_tweets_utf8(query_biden, \"fr\", count_other, \"biden\")\n",
    "get_tweets_utf8(query_biden, \"de\", count_other, \"biden\")"
   ]
  },
  {
   "cell_type": "code",
   "execution_count": 39,
   "id": "b572c7e4",
   "metadata": {},
   "outputs": [
    {
     "name": "stderr",
     "output_type": "stream",
     "text": [
      "7674it [01:40, 93.99it/s] Rate limit reached. Sleeping for: 671\n",
      "9999it [13:18, 12.53it/s] \n",
      "2006it [00:16, 124.80it/s]\n",
      "74it [00:00, 75.72it/s] \n",
      "212it [00:02, 79.38it/s] \n",
      "61it [00:00, 77.60it/s]\n"
     ]
    }
   ],
   "source": [
    "# johnson\n",
    "get_tweets_utf8(query_johnson, \"en\", count_en, \"johnson\")\n",
    "get_tweets_utf8(query_johnson, \"es\", count_other, \"johnson\")\n",
    "get_tweets_utf8(query_johnson, \"pt\", count_other, \"johnson\")\n",
    "get_tweets_utf8(query_johnson, \"fr\", count_other, \"johnson\")\n",
    "get_tweets_utf8(query_johnson, \"de\", count_other, \"johnson\")"
   ]
  },
  {
   "cell_type": "code",
   "execution_count": 6,
   "id": "a24a1fff",
   "metadata": {},
   "outputs": [
    {
     "name": "stderr",
     "output_type": "stream",
     "text": [
      "3212it [00:41, 78.20it/s] \n",
      "741it [00:11, 64.31it/s] \n",
      "411it [00:05, 74.37it/s] \n",
      "4999it [01:02, 79.64it/s] \n",
      "173it [00:03, 50.22it/s]\n"
     ]
    }
   ],
   "source": [
    "# macron\n",
    "get_tweets_utf8(query_macron, \"en\", count_en, \"macron\")\n",
    "get_tweets_utf8(query_macron, \"es\", count_other, \"macron\")\n",
    "get_tweets_utf8(query_macron, \"pt\", count_other, \"macron\")\n",
    "get_tweets_utf8(query_macron, \"fr\", count_other, \"macron\")\n",
    "get_tweets_utf8(query_macron, \"de\", count_other, \"macron\")"
   ]
  },
  {
   "cell_type": "code",
   "execution_count": 7,
   "id": "3b5e3ee0",
   "metadata": {},
   "outputs": [
    {
     "name": "stderr",
     "output_type": "stream",
     "text": [
      "1246it [00:15, 80.95it/s] \n",
      "35it [00:01, 34.72it/s]\n",
      "17it [00:01, 16.74it/s]\n",
      "48it [00:01, 44.64it/s]\n",
      "1196it [00:14, 79.94it/s] \n"
     ]
    }
   ],
   "source": [
    "# scholz\n",
    "get_tweets_utf8(query_scholz, \"en\", count_en, \"scholz\")\n",
    "get_tweets_utf8(query_scholz, \"es\", count_other, \"scholz\")\n",
    "get_tweets_utf8(query_scholz, \"pt\", count_other, \"scholz\")\n",
    "get_tweets_utf8(query_scholz, \"fr\", count_other, \"scholz\")\n",
    "get_tweets_utf8(query_scholz, \"de\", count_other, \"scholz\")"
   ]
  },
  {
   "cell_type": "code",
   "execution_count": 8,
   "id": "80da3e45",
   "metadata": {
    "scrolled": true
   },
   "outputs": [],
   "source": [
    "#pd.read_csv('../data/tweets/tweets_putin/tweets_putin_zh/tweets_putin_zh_2022_04_10.csv')"
   ]
  },
  {
   "cell_type": "code",
   "execution_count": 9,
   "id": "6e1e56fc",
   "metadata": {
    "scrolled": true
   },
   "outputs": [],
   "source": [
    "# # Full archive search 5000 tweets per month\n",
    "# # labels\n",
    "# since_date = '202201010000'\n",
    "# until_date = '202201020000'\n",
    "# filename_date = '2022_04_06'\n",
    "\n",
    "# # tweets in English\n",
    "# search_words = f'russia lang:en'\n",
    "# new_search = search_words + \" -filter:retweets\"\n",
    "\n",
    "# # Download relevant tweets from search and save it in a dataset\n",
    "# tweets = pd.DataFrame(columns=['date', 'location', 'text'])\n",
    "# counter = 0\n",
    "# for tweet in tqdm(tw.Cursor(api.search_full_archive, label = 'fullarchive', query=search_words,fromDate=since_date, toDate=until_date, maxResults =10).items()): \n",
    "#         appending_dataframe = pd.DataFrame([[tweet.created_at, tweet.user.location, tweet.text.encode('utf-8')]], columns=['date', 'location', 'text'])\n",
    "#         tweets = tweets.append(appending_dataframe)\n",
    "#         counter+=1\n",
    "#         if counter >= 10:\n",
    "#             break\n",
    "#tweets.to_csv(f'../data/tweets/tweets_zelenskyy/tweets_zelenskyy_en/tweets_zelenskyy_en_{filename_date}.csv', index=False)"
   ]
  }
 ],
 "metadata": {
  "kernelspec": {
   "display_name": "Python 3 (ipykernel)",
   "language": "python",
   "name": "python3"
  },
  "language_info": {
   "codemirror_mode": {
    "name": "ipython",
    "version": 3
   },
   "file_extension": ".py",
   "mimetype": "text/x-python",
   "name": "python",
   "nbconvert_exporter": "python",
   "pygments_lexer": "ipython3",
   "version": "3.7.1"
  }
 },
 "nbformat": 4,
 "nbformat_minor": 5
}
