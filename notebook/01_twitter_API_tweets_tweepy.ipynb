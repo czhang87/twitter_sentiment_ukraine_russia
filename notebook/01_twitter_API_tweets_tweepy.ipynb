{
 "cells": [
  {
   "cell_type": "markdown",
   "id": "d2f99ac4",
   "metadata": {},
   "source": [
    "## 1. Get Tweets From Twitter API"
   ]
  },
  {
   "cell_type": "markdown",
   "id": "3b2f649c",
   "metadata": {},
   "source": [
    "### Import packages"
   ]
  },
  {
   "cell_type": "code",
   "execution_count": 14,
   "id": "5de92fab",
   "metadata": {},
   "outputs": [],
   "source": [
    "import pandas as pd\n",
    "import tweepy as tw\n",
    "import os\n",
    "from tqdm import tqdm"
   ]
  },
  {
   "cell_type": "code",
   "execution_count": 15,
   "id": "5faad9dc",
   "metadata": {},
   "outputs": [],
   "source": [
    "# pd.set_option('max_rows', None)"
   ]
  },
  {
   "cell_type": "markdown",
   "id": "97c331d7",
   "metadata": {},
   "source": [
    "### Twitter API authentication"
   ]
  },
  {
   "cell_type": "code",
   "execution_count": 16,
   "id": "7cc392f1",
   "metadata": {},
   "outputs": [
    {
     "name": "stdout",
     "output_type": "stream",
     "text": [
      "Authentication OK\n"
     ]
    }
   ],
   "source": [
    "# Twitter API keys and tokens\n",
    "API_KEY = os.environ.get(\"API_KEY\")\n",
    "SECRET_KEY = os.environ.get(\"SECRET_KEY\")\n",
    "ACCESS_TOKEN = os.environ.get(\"ACCESS_TOKEN\")\n",
    "SECRET_TOKEN = os.environ.get(\"SECRET_TOKEN\")\n",
    "\n",
    "# establish an instance of tweepy's API\n",
    "auth = tw.OAuthHandler(API_KEY, SECRET_KEY)\n",
    "auth.set_access_token(ACCESS_TOKEN, SECRET_TOKEN)\n",
    "api = tw.API(auth, wait_on_rate_limit=True)\n",
    "\n",
    "try:\n",
    "    api.verify_credentials()\n",
    "\n",
    "    print(\"Authentication OK\")\n",
    "\n",
    "except:\n",
    "\n",
    "    print(\"Error during authentication\")"
   ]
  },
  {
   "cell_type": "markdown",
   "id": "7fd8d077",
   "metadata": {},
   "source": [
    "### Create variables"
   ]
  },
  {
   "cell_type": "code",
   "execution_count": 17,
   "id": "b20ff1f3",
   "metadata": {},
   "outputs": [],
   "source": [
    "# Date \n",
    "since_date = '2022-05-24'\n",
    "until_date = '2022-05-25'\n",
    "filename_date = since_date.replace('-', '_')\n",
    "\n",
    "# Count\n",
    "count_en = 10000\n",
    "count_other = 5000\n",
    "\n",
    "# Query  \n",
    "query_ukraine_en = f'ukraine OR ukrainian OR kyiv OR kharkiv OR odessa OR donetsk OR lviv OR mariupol OR luhansk OR donbas OR donbass OR kherson -Zelenskiy -Zelensky -Zelenskyy -@ZelenskyyUa -russia -russian -moscow -putin -@KremlinRussia_E since:{since_date} until:{until_date} -filter:retweets'\n",
    "query_ukraine_es = f'ucrania OR ucraniano OR kyiv OR kharkiv OR odessa OR donetsk OR lviv OR mariupol OR lugansk OR donbas OR donbass OR kherson -zelenskiy -@ZelenskyyUa -rusia -ruso -moscú -putin -@KremlinRussia_E since:{since_date} until:{until_date} -filter:retweets'\n",
    "query_ukraine_pt = f'ucrânia OR ucraniano OR kyiv OR kharkiv OR odessa OR donetsk OR lviv OR mariupol OR luhansk OR donbas OR donbass OR kherson -zelenskyy -@ZelenskyyUa -rússia -russo -moscou -putin -@KremlinRussia_E since:{since_date} until:{until_date} -filter:retweets'\n",
    "query_ukraine_fr = f'ukraine OR ukrainien OR kyiv OR kharkiv OR odessa OR donetsk OR lviv OR mariupol OR luhansk OR donbas OR donbass OR kherson -zelensky -@ZelenskyyUa -russie -russe -moscou -poutine -@KremlinRussia_E since:{since_date} until:{until_date} -filter:retweets'\n",
    "\n",
    "query_russia_en = f'russia OR russian OR moscow -ukraine -ukrainian -kyiv -Zelenskiy -Zelensky -@ZelenskyyUa -putin -@KremlinRussia_E since:{since_date} until:{until_date} -filter:retweets'\n",
    "query_russia_es = f'rusia OR ruso OR moscú -ucrania -ucraniano -kyiv -zelenskiy -@ZelenskyyUa -putin -@KremlinRussia_E since:{since_date} until:{until_date} -filter:retweets'\n",
    "query_russia_pt = f'rússia OR russo OR moscou -ucrânia -ucraniano -kyiv -zelenskyy -@ZelenskyyUa -putin -@KremlinRussia_E since:{since_date} until:{until_date} -filter:retweets'\n",
    "query_russia_fr = f'russie OR russe OR moscou -ukraine -ukrainien -kyiv -zelensky -@ZelenskyyUa -poutine -@KremlinRussia_E since:{since_date} until:{until_date} -filter:retweets'\n",
    "\n",
    "query_zelenskyy_en = f'Zelenskiy OR Zelensky OR Zelenskyy OR @ZelenskyyUa -ukraine -ukrainian -kyiv -russia -russian -moscow -putin -@KremlinRussia_E since:{since_date} until:{until_date} -filter:retweets'\n",
    "query_zelenskyy_es = f'zelenskiy OR @ZelenskyyUa -ucrania -ucraniano -kyiv -rusia -ruso -moscú -putin -@KremlinRussia_E since:{since_date} until:{until_date} -filter:retweets'\n",
    "query_zelenskyy_pt = f'zelenskyy OR @ZelenskyyUa -ucrânia -ucraniano -kyiv -rússia -russo -moscou -putin -@KremlinRussia_E since:{since_date} until:{until_date} -filter:retweets'\n",
    "query_zelenskyy_fr = f'zelensky OR @ZelenskyyUa -ukraine -ukrainien -kyiv -russie -russe -moscou -poutine -@KremlinRussia_E since:{since_date} until:{until_date} -filter:retweets'\n",
    "\n",
    "query_putin_en = f'putin OR @KremlinRussia_E -russia -russian -moscow -ukraine -ukrainian -kyiv -Zelenskiy -Zelensky -Zelenskyy -@ZelenskyyUa since:{since_date} until:{until_date} -filter:retweets'\n",
    "query_putin_es = f'putin OR @KremlinRussia_E -rusia -ruso -moscú -ucrania -ucraniano -kyiv -zelenskiy -@ZelenskyyUa since:{since_date} until:{until_date} -filter:retweets'\n",
    "query_putin_pt = f'putin OR @KremlinRussia_E -rússia -russo -moscou -ucrânia -ucraniano -kyiv -zelenskyy -@ZelenskyyUa since:{since_date} until:{until_date} -filter:retweets'\n",
    "query_putin_fr = f'poutine OR @KremlinRussia_E -russie -russe -moscou -ukraine -ukrainien -kyiv -zelensky -@ZelenskyyUa since:{since_date} until:{until_date} -filter:retweets'\n",
    "\n",
    "query_nato_en = f'NATO OR \"North Atlantic Treaty Organization\" OR @NATO since:{since_date} until:{until_date} -filter:retweets'\n",
    "query_nato_es = f'OTAN OR \"Organización del Tratado del Atlántico Norte\" OR @NATO since:{since_date} until:{until_date} -filter:retweets'\n",
    "query_nato_pt = f'OTAN OR \"Organização do Tratado do Atlântico Norte\" OR @NATO since:{since_date} until:{until_date} -filter:retweets'\n",
    "query_nato_fr = f'OTAN OR \"Organisation du Traité de l\\'Atlantique Nord\" OR @NATO since:{since_date} until:{until_date} -filter:retweets'\n",
    "\n",
    "query_eu_en = f'\"European Union\" OR @EU_Commission since:{since_date} until:{until_date} -filter:retweets'\n",
    "query_eu_es = f'\"Unión Europea\" OR @EU_Commission since:{since_date} until:{until_date} -filter:retweets'\n",
    "query_eu_pt = f'\"União Européia\" OR @EU_Commission since:{since_date} until:{until_date} -filter:retweets'\n",
    "query_eu_fr = f'\"Union Européenne\" OR @EU_Commission since:{since_date} until:{until_date} -filter:retweets'\n",
    "\n",
    "query_biden = f'\"Joe Biden\" OR @JoeBiden OR @POTUS since:{since_date} until:{until_date} -filter:retweets'\n",
    "\n",
    "query_johnson = f'\"Boris Johnson\" OR @10DowningStreet OR @BorisJohnson since:{since_date} until:{until_date} -filter:retweets'\n",
    "\n",
    "query_macron = f'\"Emmanuel Macron\" OR @EmmanuelMacron since:{since_date} until:{until_date} -filter:retweets'\n",
    "\n",
    "query_scholz = f'\"Olaf Scholz\" OR @OlafScholz since:{since_date} until:{until_date} -filter:retweets'"
   ]
  },
  {
   "cell_type": "markdown",
   "id": "42274c07",
   "metadata": {},
   "source": [
    "### Create functions to get tweets from Twitter API"
   ]
  },
  {
   "cell_type": "code",
   "execution_count": 18,
   "id": "3cda773f",
   "metadata": {},
   "outputs": [],
   "source": [
    "# get_tweets with encode('utf-8') for en, es, pt, fr\n",
    "def get_tweets_utf8(query, lang, count, keyword):\n",
    "    tweets = pd.DataFrame(columns=['tweet_id',  'acct_desc', 'date', 'location', 'friends_ount','followers_ount', 'text'])\n",
    "    counter = 0\n",
    "    for tweet in tqdm(tw.Cursor(api.search_tweets, count=count, tweet_mode='extended', q=query, lang=lang).items()): \n",
    "            appending_dataframe = pd.DataFrame([[tweet.id, tweet.user.description, tweet.created_at, tweet.user.location, tweet.user.friends_count, tweet.user.followers_count, tweet.full_text.encode('utf-8')]], columns=['tweet_id',  'acct_desc', 'date', 'location', 'friends_ount','followers_ount', 'text'])\n",
    "            tweets = tweets.append(appending_dataframe)\n",
    "            counter+=1\n",
    "            if counter >= count:\n",
    "                break\n",
    "    tweets.to_csv(f'../data/tweets/tweets_{keyword}/tweets_{keyword}_{lang}/tweets_{keyword}_{lang}_{filename_date}.csv', index=False)\n"
   ]
  },
  {
   "cell_type": "markdown",
   "id": "d4ecaa35",
   "metadata": {},
   "source": [
    "### Get tweets from Twitter API using Standard Search"
   ]
  },
  {
   "cell_type": "code",
   "execution_count": null,
   "id": "be193b05",
   "metadata": {},
   "outputs": [],
   "source": [
    "# ukraine\n",
    "get_tweets_utf8(query_ukraine_en, \"en\", count_en, \"ukraine\")\n",
    "get_tweets_utf8(query_ukraine_es, \"es\", count_other, \"ukraine\")\n",
    "get_tweets_utf8(query_ukraine_pt, \"pt\", count_other, \"ukraine\")\n",
    "get_tweets_utf8(query_ukraine_fr, \"fr\", count_other, \"ukraine\")"
   ]
  },
  {
   "cell_type": "code",
   "execution_count": null,
   "id": "dbb3afa6",
   "metadata": {
    "scrolled": true
   },
   "outputs": [],
   "source": [
    "# russia\n",
    "get_tweets_utf8(query_russia_en, \"en\", count_en, \"russia\")\n",
    "get_tweets_utf8(query_russia_es, \"es\", count_other, \"russia\")\n",
    "get_tweets_utf8(query_russia_pt, \"pt\", count_other, \"russia\")\n",
    "get_tweets_utf8(query_russia_fr, \"fr\", count_other, \"russia\")"
   ]
  },
  {
   "cell_type": "code",
   "execution_count": null,
   "id": "04421e33",
   "metadata": {},
   "outputs": [],
   "source": [
    "# zelenskyy\n",
    "get_tweets_utf8(query_zelenskyy_en, \"en\", count_en, \"zelenskyy\")\n",
    "get_tweets_utf8(query_zelenskyy_es, \"es\", count_other, \"zelenskyy\")\n",
    "get_tweets_utf8(query_zelenskyy_pt, \"pt\", count_other, \"zelenskyy\")\n",
    "get_tweets_utf8(query_zelenskyy_fr, \"fr\", count_other, \"zelenskyy\")"
   ]
  },
  {
   "cell_type": "code",
   "execution_count": null,
   "id": "2070a5db",
   "metadata": {
    "scrolled": true
   },
   "outputs": [],
   "source": [
    "# putin\n",
    "get_tweets_utf8(query_putin_en, \"en\", count_en, \"putin\")\n",
    "get_tweets_utf8(query_putin_es, \"es\", count_other, \"putin\")\n",
    "get_tweets_utf8(query_putin_pt, \"pt\", count_other, \"putin\")\n",
    "get_tweets_utf8(query_putin_fr, \"fr\", count_other, \"putin\")"
   ]
  },
  {
   "cell_type": "code",
   "execution_count": null,
   "id": "741c9992",
   "metadata": {
    "scrolled": true
   },
   "outputs": [],
   "source": [
    "# nato\n",
    "get_tweets_utf8(query_nato_en, \"en\", count_en, \"nato\")\n",
    "get_tweets_utf8(query_nato_es, \"es\", count_other, \"nato\")\n",
    "get_tweets_utf8(query_nato_pt, \"pt\", count_other, \"nato\")\n",
    "get_tweets_utf8(query_nato_fr, \"fr\", count_other, \"nato\")"
   ]
  },
  {
   "cell_type": "code",
   "execution_count": null,
   "id": "b5f1edb7",
   "metadata": {},
   "outputs": [],
   "source": [
    "# eu\n",
    "get_tweets_utf8(query_eu_en, \"en\", count_en, \"eu\")\n",
    "get_tweets_utf8(query_eu_es, \"es\", count_other, \"eu\")\n",
    "get_tweets_utf8(query_eu_pt, \"pt\", count_other, \"eu\")\n",
    "get_tweets_utf8(query_eu_fr, \"fr\", count_other, \"eu\")\n"
   ]
  },
  {
   "cell_type": "code",
   "execution_count": null,
   "id": "ce419c3c",
   "metadata": {},
   "outputs": [],
   "source": [
    "# biden\n",
    "get_tweets_utf8(query_biden, \"en\", count_en, \"biden\")\n",
    "get_tweets_utf8(query_biden, \"es\", count_other, \"biden\")\n",
    "get_tweets_utf8(query_biden, \"pt\", count_other, \"biden\")\n",
    "get_tweets_utf8(query_biden, \"fr\", count_other, \"biden\")"
   ]
  },
  {
   "cell_type": "code",
   "execution_count": null,
   "id": "b572c7e4",
   "metadata": {},
   "outputs": [],
   "source": [
    "# johnson\n",
    "get_tweets_utf8(query_johnson, \"en\", count_en, \"johnson\")\n",
    "get_tweets_utf8(query_johnson, \"es\", count_other, \"johnson\")\n",
    "get_tweets_utf8(query_johnson, \"pt\", count_other, \"johnson\")\n",
    "get_tweets_utf8(query_johnson, \"fr\", count_other, \"johnson\")"
   ]
  },
  {
   "cell_type": "code",
   "execution_count": null,
   "id": "a24a1fff",
   "metadata": {},
   "outputs": [],
   "source": [
    "# macron\n",
    "get_tweets_utf8(query_macron, \"en\", count_en, \"macron\")\n",
    "get_tweets_utf8(query_macron, \"es\", count_other, \"macron\")\n",
    "get_tweets_utf8(query_macron, \"pt\", count_other, \"macron\")\n",
    "get_tweets_utf8(query_macron, \"fr\", count_other, \"macron\")"
   ]
  },
  {
   "cell_type": "code",
   "execution_count": null,
   "id": "3b5e3ee0",
   "metadata": {},
   "outputs": [],
   "source": [
    "# scholz\n",
    "get_tweets_utf8(query_scholz, \"en\", count_en, \"scholz\")\n",
    "get_tweets_utf8(query_scholz, \"es\", count_other, \"scholz\")\n",
    "get_tweets_utf8(query_scholz, \"pt\", count_other, \"scholz\")\n",
    "get_tweets_utf8(query_scholz, \"fr\", count_other, \"scholz\")"
   ]
  }
 ],
 "metadata": {
  "kernelspec": {
   "display_name": "Python 3 (ipykernel)",
   "language": "python",
   "name": "python3"
  },
  "language_info": {
   "codemirror_mode": {
    "name": "ipython",
    "version": 3
   },
   "file_extension": ".py",
   "mimetype": "text/x-python",
   "name": "python",
   "nbconvert_exporter": "python",
   "pygments_lexer": "ipython3",
   "version": "3.7.13"
  }
 },
 "nbformat": 4,
 "nbformat_minor": 5
}
