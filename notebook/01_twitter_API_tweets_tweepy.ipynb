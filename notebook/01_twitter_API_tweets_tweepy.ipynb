{
 "cells": [
  {
   "cell_type": "markdown",
   "id": "3b2f649c",
   "metadata": {},
   "source": [
    "### Import packages"
   ]
  },
  {
   "cell_type": "code",
   "execution_count": 3,
   "id": "5de92fab",
   "metadata": {},
   "outputs": [],
   "source": [
    "import pandas as pd\n",
    "import tweepy as tw\n",
    "import os\n",
    "from tqdm import tqdm"
   ]
  },
  {
   "cell_type": "code",
   "execution_count": 4,
   "id": "5faad9dc",
   "metadata": {},
   "outputs": [],
   "source": [
    "# pd.set_option('max_rows', None)"
   ]
  },
  {
   "cell_type": "markdown",
   "id": "97c331d7",
   "metadata": {},
   "source": [
    "### Twitter API authentication"
   ]
  },
  {
   "cell_type": "code",
   "execution_count": 5,
   "id": "7cc392f1",
   "metadata": {},
   "outputs": [
    {
     "name": "stdout",
     "output_type": "stream",
     "text": [
      "Authentication OK\n"
     ]
    }
   ],
   "source": [
    "# Twitter API keys and tokens\n",
    "API_KEY = os.environ.get(\"API_KEY\")\n",
    "SECRET_KEY = os.environ.get(\"SECRET_KEY\")\n",
    "ACCESS_TOKEN = os.environ.get(\"ACCESS_TOKEN\")\n",
    "SECRET_TOKEN = os.environ.get(\"SECRET_TOKEN\")\n",
    "\n",
    "# establish an instance of tweepy's API\n",
    "auth = tw.OAuthHandler(API_KEY, SECRET_KEY)\n",
    "auth.set_access_token(ACCESS_TOKEN, SECRET_TOKEN)\n",
    "api = tw.API(auth, wait_on_rate_limit=True)\n",
    "\n",
    "try:\n",
    "    api.verify_credentials()\n",
    "\n",
    "    print(\"Authentication OK\")\n",
    "\n",
    "except:\n",
    "\n",
    "  print(\"Error during authentication\")"
   ]
  },
  {
   "cell_type": "markdown",
   "id": "7fd8d077",
   "metadata": {},
   "source": [
    "### Create variables"
   ]
  },
  {
   "cell_type": "code",
   "execution_count": 6,
   "id": "b20ff1f3",
   "metadata": {},
   "outputs": [],
   "source": [
    "# Date \n",
    "since_date = '2022-05-20'\n",
    "until_date = '2022-05-21'\n",
    "filename_date = since_date.replace('-', '_')\n",
    "\n",
    "# Count\n",
    "count_en = 10000\n",
    "count_other = 5000\n",
    "\n",
    "# Query  \n",
    "query_ukraine_en = f'ukraine OR ukrainian OR kyiv OR kharkiv OR odessa OR donetsk OR lviv OR mariupol OR luhansk OR donbas OR donbass OR kherson -Zelenskiy -Zelensky -Zelenskyy -@ZelenskyyUa -russia -russian -moscow -putin -@KremlinRussia_E since:{since_date} until:{until_date} -filter:retweets'\n",
    "query_ukraine_es = f'ucrania OR ucraniano OR kyiv OR kharkiv OR odessa OR donetsk OR lviv OR mariupol OR lugansk OR donbas OR donbass OR kherson -zelenskiy -@ZelenskyyUa -rusia -ruso -moscú -putin -@KremlinRussia_E since:{since_date} until:{until_date} -filter:retweets'\n",
    "query_ukraine_pt = f'ucrânia OR ucraniano OR kyiv OR kharkiv OR odessa OR donetsk OR lviv OR mariupol OR luhansk OR donbas OR donbass OR kherson -zelenskyy -@ZelenskyyUa -rússia -russo -moscou -putin -@KremlinRussia_E since:{since_date} until:{until_date} -filter:retweets'\n",
    "query_ukraine_fr = f'ukraine OR ukrainien OR kyiv OR kharkiv OR odessa OR donetsk OR lviv OR mariupol OR luhansk OR donbas OR donbass OR kherson -zelensky -@ZelenskyyUa -russie -russe -moscou -poutine -@KremlinRussia_E since:{since_date} until:{until_date} -filter:retweets'\n",
    "query_ukraine_de = f'ukraine OR ukrainisch OR kiew OR charkiw OR odessa OR donezk OR lemberg OR mariupol OR luhansk OR donbass OR donbass OR cherson -selenskyj -Selenskyi -@ZelenskyyUa -russland -russisch -moskau -putin -@KremlinRussia_E since:{since_date} until:{until_date} -filter:retweets'\n",
    "query_ukraine_ru = f'украина OR украинский OR киев OR харьков OR одесса OR донецк OR львов OR мариуполь OR луганск OR донбасс OR донбасс OR херсон -Зеленский -@ZelenskyyUa -россия -русский -москва -путин -@KremlinRussia_E since:{since_date} until:{until_date} -filter:retweets'\n",
    "query_ukraine_uk = f'україна OR український OR київ OR харків OR одеса OR донецьк OR львів OR маріуполь OR луганськ OR донбас OR донбас OR херсон -Зеленський -@ZelenskyyUa -росія -росія -москва -путін -@KremlinRussia_E since:{since_date} until:{until_date} -filter:retweets'\n",
    "query_ukraine_zh = f'乌克兰 OR 乌克兰人 OR 乌国 OR 基辅 OR 烏國 OR 烏克蘭 OR 烏克蘭人 OR 基輔 -泽连斯基 -澤倫斯基 -@ZelenskyyUa -俄罗斯 -俄国 -莫斯科 -普京 -俄羅斯 -俄國 -@KremlinRussia_E since:{since_date} until:{until_date} -filter:retweets'\n",
    "query_ukraine_ja = f'ウクライナ OR キーウ -ゼレンスキー -@ZelenskyyUa -ロシア -モスクワ -プーチン -@KremlinRussia_E since:{since_date} until:{until_date} -filter:retweets'\n",
    "query_ukraine_hi = f'यूक्रेन OR यूक्रेनी OR कीव OR खार्किव OR ओडेसा OR डोनेट्स्क OR लविव OR मारियुपोल OR लुहांस्क OR डोनबास OR डोनबास OR खेरसन -ज़ेलेंस्की -रूसिया -मॉस्को -पुतिन -@ZelenskyyUa -@KremlinRussia_E since:{since_date} until:{until_date} -filter:retweets'\n",
    "\n",
    "query_russia_en = f'russia OR russian OR moscow -ukraine -ukrainian -kyiv -Zelenskiy -Zelensky -@ZelenskyyUa -putin -@KremlinRussia_E since:{since_date} until:{until_date} -filter:retweets'\n",
    "query_russia_es = f'rusia OR ruso OR moscú -ucrania -ucraniano -kyiv -zelenskiy -@ZelenskyyUa -putin -@KremlinRussia_E since:{since_date} until:{until_date} -filter:retweets'\n",
    "query_russia_pt = f'rússia OR russo OR moscou -ucrânia -ucraniano -kyiv -zelenskyy -@ZelenskyyUa -putin -@KremlinRussia_E since:{since_date} until:{until_date} -filter:retweets'\n",
    "query_russia_fr = f'russie OR russe OR moscou -ukraine -ukrainien -kyiv -zelensky -@ZelenskyyUa -poutine -@KremlinRussia_E since:{since_date} until:{until_date} -filter:retweets'\n",
    "query_russia_de = f'russland OR russisch OR moskau -ukraine -ukrainisch -kiew -selenskyj -@KremlinRussia_E since:{since_date} until:{until_date} -filter:retweets'\n",
    "query_russia_ru = f'россия OR русский OR москва -украина -украинский -киев -зеленский -путин -@ZelenskyyUa -@KremlinRussia_E since:{since_date} until:{until_date} -filter:retweets'\n",
    "query_russia_uk = f'росія OR російська OR москва -україна -український -київ -зеленський -путін -@ZelenskyyUa -@KremlinRussia_E since:{since_date} until:{until_date} -filter:retweets'\n",
    "query_russia_zh = f'俄罗斯 OR 俄国 OR 莫斯科 OR 俄羅斯 OR 俄國 -乌克兰 -乌克兰人 -乌国 -基辅 -烏國 -烏克蘭 -烏克蘭人 -基輔 -泽连斯基 -澤倫斯基 -@ZelenskyyUa -普京 -@KremlinRussia_E since:{since_date} until:{until_date} -filter:retweets'\n",
    "query_russia_ja = f'ロシア OR モスクワ -ウクライナ -キーウ -ゼレンスキー -プーチン -@ZelenskyyUa -@KremlinRussia_E since:{since_date} until:{until_date} -filter:retweets'\n",
    "query_russia_hi = f'रूस OR रूसी OR मास्को -यूक्रेन -यूक्रेनी -कीव -ज़ेलेंस्की -पुतिन -@ZelenskyyUa -@KremlinRussia_E since:{since_date} until:{until_date} -filter:retweets'\n",
    "\n",
    "query_zelenskyy_en = f'Zelenskiy OR Zelensky OR Zelenskyy OR @ZelenskyyUa -ukraine -ukrainian -kyiv -russia -russian -moscow -putin -@KremlinRussia_E since:{since_date} until:{until_date} -filter:retweets'\n",
    "query_zelenskyy_es = f'zelenskiy OR @ZelenskyyUa -ucrania -ucraniano -kyiv -rusia -ruso -moscú -putin -@KremlinRussia_E since:{since_date} until:{until_date} -filter:retweets'\n",
    "query_zelenskyy_pt = f'zelenskyy OR @ZelenskyyUa -ucrânia -ucraniano -kyiv -rússia -russo -moscou -putin -@KremlinRussia_E since:{since_date} until:{until_date} -filter:retweets'\n",
    "query_zelenskyy_fr = f'zelensky OR @ZelenskyyUa -ukraine -ukrainien -kyiv -russie -russe -moscou -poutine -@KremlinRussia_E since:{since_date} until:{until_date} -filter:retweets'\n",
    "query_zelenskyy_de = f'selenskyj OR @ZelenskyyUa -ukraine -ukrainisch -kiew -russland -russisch -moskau -putin -@KremlinRussia_E since:{since_date} until:{until_date} -filter:retweets'\n",
    "query_zelenskyy_ru = f'Зеленский OR @ZelenskyyUa -украина -украинский -киев -россия -российский -москва -путин -@KremlinRussia_E since:{since_date} until:{until_date} -filter:retweets'\n",
    "query_zelenskyy_uk = f'Зеленський OR @ZelenskyyUa -україна -український -київ -росія -рос. -московська -путін -@KremlinRussia_E since:{since_date} until:{until_date} -filter:retweets'\n",
    "query_zelenskyy_zh = f'泽连斯基 OR 澤倫斯基 OR @ZelenskyyUa -俄罗斯 -俄国 -莫斯科 -俄羅斯 -俄國 -乌克兰 -乌克兰人 -乌国 -基辅 -烏國 -烏克蘭 -烏克蘭人 -基輔 -普京 -@KremlinRussia_E since:{since_date} until:{until_date} -filter:retweets'\n",
    "query_zelenskyy_ja = f'ゼレンスキー OR @ZelenskyyUa -ロシア -モスクワ -ウクライナ -キーウ -プーチン -@KremlinRussia_E since:{since_date} until:{until_date} -filter:retweets'\n",
    "query_zelenskyy_hi = f'ज़ेलेंस्की OR @ZelenskyyUa -रूस -रूसी -मास्को -यूक्रेन -यूक्रेनी -कीव -पुतिन -@KremlinRussia_E since:{since_date} until:{until_date} -filter:retweets'\n",
    "\n",
    "query_putin_en = f'putin OR @KremlinRussia_E -russia -russian -moscow -ukraine -ukrainian -kyiv -Zelenskiy -Zelensky -Zelenskyy -@ZelenskyyUa since:{since_date} until:{until_date} -filter:retweets'\n",
    "query_putin_es = f'putin OR @KremlinRussia_E -rusia -ruso -moscú -ucrania -ucraniano -kyiv -zelenskiy -@ZelenskyyUa since:{since_date} until:{until_date} -filter:retweets'\n",
    "query_putin_pt = f'putin OR @KremlinRussia_E -rússia -russo -moscou -ucrânia -ucraniano -kyiv -zelenskyy -@ZelenskyyUa since:{since_date} until:{until_date} -filter:retweets'\n",
    "query_putin_fr = f'poutine OR @KremlinRussia_E -russie -russe -moscou -ukraine -ukrainien -kyiv -zelensky -@ZelenskyyUa since:{since_date} until:{until_date} -filter:retweets'\n",
    "query_putin_de = f'putin OR @KremlinRussia_E -russland -russisch -moskau -ukraine -ukrainisch -kiew -selenskyj -@ZelenskyyUa since:{since_date} until:{until_date} -filter:retweets'\n",
    "query_putin_ru = f'путин OR @KremlinRussia_E -Зеленский -@ZelenskyyUa -украина -украинский -киев -россия -российский -москва since:{since_date} until:{until_date} -filter:retweets'\n",
    "query_putin_uk = f'путін OR @KremlinRussia_E -Зеленський -@ZelenskyyUa -україна -український -київ -росія -рос. -московська since:{since_date} until:{until_date} -filter:retweets'\n",
    "query_putin_zh = f'普京 OR @KremlinRussia_E -泽连斯基 -澤倫斯基 -@ZelenskyyUa -俄罗斯 -俄国 -莫斯科 -俄羅斯 -俄國 -乌克兰 -乌克兰人 -乌国 -基辅 -烏國 -烏克蘭 -烏克蘭人 -基輔 since:{since_date} until:{until_date} -filter:retweets'\n",
    "query_putin_ja = f'プーチン OR @KremlinRussia_E -ゼレンスキー -@ZelenskyyUa -ロシア -モスクワ -ウクライナ -キーウ since:{since_date} until:{until_date} -filter:retweets'\n",
    "query_putin_hi = f'पुतिन OR @KremlinRussia_E -ज़ेलेंस्की -@ZelenskyyUa -रूस -रूसी -मास्को -यूक्रेन -यूक्रेनी -कीव since:{since_date} until:{until_date} -filter:retweets'\n",
    "\n",
    "query_nato_en = f'NATO OR \"North Atlantic Treaty Organization\" OR @NATO since:{since_date} until:{until_date} -filter:retweets'\n",
    "query_nato_es = f'OTAN OR \"Organización del Tratado del Atlántico Norte\" OR @NATO since:{since_date} until:{until_date} -filter:retweets'\n",
    "query_nato_pt = f'OTAN OR \"Organização do Tratado do Atlântico Norte\" OR @NATO since:{since_date} until:{until_date} -filter:retweets'\n",
    "query_nato_fr = f'OTAN OR \"Organisation du Traité de l\\'Atlantique Nord\" OR @NATO since:{since_date} until:{until_date} -filter:retweets'\n",
    "query_nato_de = f'Nato OR \"Organisation des Nordatlantikvertrags\" OR @NATO since:{since_date} until:{until_date} -filter:retweets'\n",
    "\n",
    "query_eu_en = f'\"European Union\" OR @EU_Commission since:{since_date} until:{until_date} -filter:retweets'\n",
    "query_eu_es = f'\"Unión Europea\" OR @EU_Commission since:{since_date} until:{until_date} -filter:retweets'\n",
    "query_eu_pt = f'\"União Européia\" OR @EU_Commission since:{since_date} until:{until_date} -filter:retweets'\n",
    "query_eu_fr = f'\"Union Européenne\" OR @EU_Commission since:{since_date} until:{until_date} -filter:retweets'\n",
    "query_eu_de = f'\"Europäische Union\" OR @EU_Commission since:{since_date} until:{until_date} -filter:retweets'\n",
    "\n",
    "query_biden = f'\"Joe Biden\" OR @JoeBiden OR @POTUS since:{since_date} until:{until_date} -filter:retweets'\n",
    "\n",
    "query_johnson = f'\"Boris Johnson\" OR @10DowningStreet OR @BorisJohnson since:{since_date} until:{until_date} -filter:retweets'\n",
    "\n",
    "query_macron = f'\"Emmanuel Macron\" OR @EmmanuelMacron since:{since_date} until:{until_date} -filter:retweets'\n",
    "\n",
    "query_scholz = f'\"Olaf Scholz\" OR @OlafScholz since:{since_date} until:{until_date} -filter:retweets'"
   ]
  },
  {
   "cell_type": "markdown",
   "id": "42274c07",
   "metadata": {},
   "source": [
    "### Create functions to get tweets from Twitter API"
   ]
  },
  {
   "cell_type": "code",
   "execution_count": 7,
   "id": "3cda773f",
   "metadata": {},
   "outputs": [],
   "source": [
    "# get_tweets with encode('utf-8') for en, es, pt, fr, de\n",
    "def get_tweets_utf8(query, lang, count, keyword):\n",
    "    tweets = pd.DataFrame(columns=['tweet_id',  'acct_desc', 'date', 'location', 'friends_ount','followers_ount', 'text'])\n",
    "    counter = 0\n",
    "    for tweet in tqdm(tw.Cursor(api.search_tweets, count=count, tweet_mode='extended', q=query, lang=lang).items()): \n",
    "            appending_dataframe = pd.DataFrame([[tweet.id, tweet.user.description, tweet.created_at, tweet.user.location, tweet.user.friends_count, tweet.user.followers_count, tweet.full_text.encode('utf-8')]], columns=['tweet_id',  'acct_desc', 'date', 'location', 'friends_ount','followers_ount', 'text'])\n",
    "            tweets = tweets.append(appending_dataframe)\n",
    "            counter+=1\n",
    "            if counter >= count:\n",
    "                break\n",
    "    tweets.to_csv(f'../data/tweets/tweets_{keyword}/tweets_{keyword}_{lang}/tweets_{keyword}_{lang}_{filename_date}.csv', index=False)\n",
    "\n",
    "# get_tweets without encode('utf-8') for ru, uk, zh, ja, hi\n",
    "def get_tweets(query, lang, count, keyword):\n",
    "    tweets = pd.DataFrame(columns=['tweet_id',  'acct_desc', 'date', 'location', 'friends_ount','followers_ount', 'text'])\n",
    "    counter = 0\n",
    "    for tweet in tqdm(tw.Cursor(api.search_tweets, count=count, tweet_mode='extended', q=query, lang=lang).items()): \n",
    "            appending_dataframe = pd.DataFrame([[tweet.id, tweet.user.description, tweet.created_at, tweet.user.location, tweet.user.friends_count, tweet.user.followers_count, tweet.full_text]], columns=['tweet_id',  'acct_desc', 'date', 'location', 'friends_ount','followers_ount', 'text'])\n",
    "            tweets = tweets.append(appending_dataframe)\n",
    "            counter+=1\n",
    "            if counter >= count:\n",
    "                break\n",
    "    tweets.to_csv(f'../data/tweets/tweets_{keyword}/tweets_{keyword}_{lang}/tweets_{keyword}_{lang}_{filename_date}.csv', index=False)\n"
   ]
  },
  {
   "cell_type": "markdown",
   "id": "d4ecaa35",
   "metadata": {},
   "source": [
    "### Get tweets from Twitter API using Standard Search"
   ]
  },
  {
   "cell_type": "code",
   "execution_count": 21,
   "id": "be193b05",
   "metadata": {},
   "outputs": [
    {
     "name": "stderr",
     "output_type": "stream",
     "text": [
      "9999it [02:11, 76.04it/s] \n",
      "4999it [01:03, 78.11it/s] \n",
      "2497it [00:34, 138.49it/s]Rate limit reached. Sleeping for: 670\n",
      "3003it [11:53,  4.21it/s] \n",
      "4999it [00:59, 83.53it/s] \n",
      "4999it [01:01, 81.68it/s] \n",
      "4772it [01:10, 67.31it/s] \n",
      "2298it [00:28, 117.13it/s]Rate limit reached. Sleeping for: 670\n",
      "3271it [11:54,  4.58it/s] \n",
      "4999it [00:58, 85.89it/s] \n",
      "2117it [00:24, 87.10it/s] \n",
      "299it [00:03, 80.21it/s] \n"
     ]
    }
   ],
   "source": [
    "# ukraine\n",
    "get_tweets_utf8(query_ukraine_en, \"en\", count_en, \"ukraine\")\n",
    "get_tweets_utf8(query_ukraine_es, \"es\", count_other, \"ukraine\")\n",
    "get_tweets_utf8(query_ukraine_pt, \"pt\", count_other, \"ukraine\")\n",
    "get_tweets_utf8(query_ukraine_fr, \"fr\", count_other, \"ukraine\")\n",
    "get_tweets_utf8(query_ukraine_de, \"de\", count_other, \"ukraine\")\n",
    "get_tweets(query_ukraine_ru, \"ru\", count_other, \"ukraine\")\n",
    "get_tweets(query_ukraine_uk, \"uk\", count_other, \"ukraine\")\n",
    "get_tweets(query_ukraine_ja, \"ja\", count_other, \"ukraine\")\n",
    "get_tweets(query_ukraine_zh, \"zh\", count_other, \"ukraine\")\n",
    "get_tweets(query_ukraine_hi, \"hi\", count_other, \"ukraine\")"
   ]
  },
  {
   "cell_type": "code",
   "execution_count": 22,
   "id": "dbb3afa6",
   "metadata": {
    "scrolled": true
   },
   "outputs": [
    {
     "name": "stderr",
     "output_type": "stream",
     "text": [
      "8939it [01:49, 130.67it/s]Rate limit reached. Sleeping for: 690\n",
      "9999it [13:34, 12.27it/s] \n",
      "4999it [00:58, 85.02it/s] \n",
      "3795it [00:44, 85.61it/s] \n",
      "4999it [00:55, 90.27it/s] \n",
      "2869it [00:36, 104.35it/s]Rate limit reached. Sleeping for: 691\n",
      "4999it [12:34,  6.62it/s] \n",
      "4999it [00:59, 84.29it/s] \n",
      "928it [00:13, 70.79it/s] \n",
      "4999it [00:59, 84.57it/s] \n",
      "2121it [00:27, 76.99it/s] \n",
      "248it [00:03, 73.24it/s] \n"
     ]
    }
   ],
   "source": [
    "# russia\n",
    "get_tweets_utf8(query_russia_en, \"en\", count_en, \"russia\")\n",
    "get_tweets_utf8(query_russia_es, \"es\", count_other, \"russia\")\n",
    "get_tweets_utf8(query_russia_pt, \"pt\", count_other, \"russia\")\n",
    "get_tweets_utf8(query_russia_fr, \"fr\", count_other, \"russia\")\n",
    "get_tweets_utf8(query_russia_de, \"de\", count_other, \"russia\")\n",
    "get_tweets(query_russia_ru, \"ru\", count_other, \"russia\")\n",
    "get_tweets(query_russia_uk, \"uk\", count_other, \"russia\")\n",
    "get_tweets(query_russia_ja, \"ja\", count_other, \"russia\")\n",
    "get_tweets(query_russia_zh, \"zh\", count_other, \"russia\")\n",
    "get_tweets(query_russia_hi, \"hi\", count_other, \"russia\")"
   ]
  },
  {
   "cell_type": "code",
   "execution_count": 23,
   "id": "04421e33",
   "metadata": {},
   "outputs": [
    {
     "name": "stderr",
     "output_type": "stream",
     "text": [
      "1832it [00:20, 97.96it/s] Rate limit reached. Sleeping for: 690\n",
      "4348it [12:45,  5.68it/s] \n",
      "100it [00:03, 29.81it/s]\n",
      "17it [00:01, 14.86it/s]\n",
      "727it [00:10, 70.11it/s] \n",
      "334it [00:04, 66.91it/s] \n",
      "1459it [00:17, 82.40it/s] \n",
      "2017it [00:25, 77.65it/s] \n",
      "506it [00:06, 77.61it/s] \n",
      "102it [00:03, 33.20it/s]\n",
      "7it [00:00,  7.26it/s]\n"
     ]
    }
   ],
   "source": [
    "# zelenskyy\n",
    "get_tweets_utf8(query_zelenskyy_en, \"en\", count_en, \"zelenskyy\")\n",
    "get_tweets_utf8(query_zelenskyy_es, \"es\", count_other, \"zelenskyy\")\n",
    "get_tweets_utf8(query_zelenskyy_pt, \"pt\", count_other, \"zelenskyy\")\n",
    "get_tweets_utf8(query_zelenskyy_fr, \"fr\", count_other, \"zelenskyy\")\n",
    "get_tweets_utf8(query_zelenskyy_de, \"de\", count_other, \"zelenskyy\")\n",
    "get_tweets(query_zelenskyy_ru, \"ru\", count_other, \"zelenskyy\")\n",
    "get_tweets(query_zelenskyy_uk, \"uk\", count_other, \"zelenskyy\")\n",
    "get_tweets(query_zelenskyy_ja, \"ja\", count_other, \"zelenskyy\")\n",
    "get_tweets(query_zelenskyy_zh, \"zh\", count_other, \"zelenskyy\")\n",
    "get_tweets(query_zelenskyy_hi, \"hi\", count_other, \"zelenskyy\")"
   ]
  },
  {
   "cell_type": "code",
   "execution_count": 24,
   "id": "2070a5db",
   "metadata": {
    "scrolled": true
   },
   "outputs": [
    {
     "name": "stderr",
     "output_type": "stream",
     "text": [
      "7634it [01:33, 96.32it/s] Rate limit reached. Sleeping for: 678\n",
      "9999it [13:31, 12.33it/s] \n",
      "3253it [00:41, 79.27it/s] \n",
      "1036it [00:13, 79.51it/s]\n",
      "2426it [00:30, 80.74it/s] \n",
      "4050it [00:50, 80.06it/s] \n",
      "3015it [00:36, 83.74it/s] \n",
      "394it [00:04, 83.76it/s] \n",
      "398it [00:03, 140.85it/s]Rate limit reached. Sleeping for: 682\n",
      "2994it [11:58,  4.17it/s] \n",
      "441it [00:05, 75.11it/s] \n",
      "44it [00:01, 27.36it/s]\n"
     ]
    }
   ],
   "source": [
    "# putin\n",
    "get_tweets_utf8(query_putin_en, \"en\", count_en, \"putin\")\n",
    "get_tweets_utf8(query_putin_es, \"es\", count_other, \"putin\")\n",
    "get_tweets_utf8(query_putin_pt, \"pt\", count_other, \"putin\")\n",
    "get_tweets_utf8(query_putin_fr, \"fr\", count_other, \"putin\")\n",
    "get_tweets_utf8(query_putin_de, \"de\", count_other, \"putin\")\n",
    "get_tweets(query_putin_ru, \"ru\", count_other, \"putin\")\n",
    "get_tweets(query_putin_uk, \"uk\", count_other, \"putin\")\n",
    "get_tweets(query_putin_ja, \"ja\", count_other, \"putin\")\n",
    "get_tweets(query_putin_zh, \"zh\", count_other, \"putin\")\n",
    "get_tweets(query_putin_hi, \"hi\", count_other, \"putin\")"
   ]
  },
  {
   "cell_type": "code",
   "execution_count": 25,
   "id": "741c9992",
   "metadata": {
    "scrolled": true
   },
   "outputs": [
    {
     "name": "stderr",
     "output_type": "stream",
     "text": [
      "9999it [02:12, 75.37it/s] \n",
      "4374it [00:52, 112.14it/s]Rate limit reached. Sleeping for: 676\n",
      "4488it [12:11,  6.13it/s] \n",
      "682it [00:09, 70.98it/s] \n",
      "2074it [00:25, 80.08it/s] \n",
      "2995it [00:33, 89.52it/s] \n"
     ]
    }
   ],
   "source": [
    "# nato\n",
    "get_tweets_utf8(query_nato_en, \"en\", count_en, \"nato\")\n",
    "get_tweets_utf8(query_nato_es, \"es\", count_other, \"nato\")\n",
    "get_tweets_utf8(query_nato_pt, \"pt\", count_other, \"nato\")\n",
    "get_tweets_utf8(query_nato_fr, \"fr\", count_other, \"nato\")\n",
    "get_tweets_utf8(query_nato_de, \"de\", count_other, \"nato\")"
   ]
  },
  {
   "cell_type": "code",
   "execution_count": 26,
   "id": "b5f1edb7",
   "metadata": {},
   "outputs": [
    {
     "name": "stderr",
     "output_type": "stream",
     "text": [
      "2796it [00:46, 60.71it/s] \n",
      "861it [00:10, 83.81it/s] \n",
      "214it [00:03, 70.98it/s] \n",
      "516it [00:08, 60.56it/s] \n",
      "96it [00:01, 53.90it/s]\n"
     ]
    }
   ],
   "source": [
    "# eu\n",
    "get_tweets_utf8(query_eu_en, \"en\", count_en, \"eu\")\n",
    "get_tweets_utf8(query_eu_es, \"es\", count_other, \"eu\")\n",
    "get_tweets_utf8(query_eu_pt, \"pt\", count_other, \"eu\")\n",
    "get_tweets_utf8(query_eu_fr, \"fr\", count_other, \"eu\")\n",
    "get_tweets_utf8(query_eu_de, \"de\", count_other, \"eu\")"
   ]
  },
  {
   "cell_type": "code",
   "execution_count": 27,
   "id": "ce419c3c",
   "metadata": {},
   "outputs": [
    {
     "name": "stderr",
     "output_type": "stream",
     "text": [
      "4350it [00:57, 89.12it/s] Rate limit reached. Sleeping for: 701\n",
      "9999it [14:04, 11.84it/s] \n",
      "4605it [00:54, 84.47it/s] \n",
      "233it [00:03, 70.98it/s] \n",
      "432it [00:05, 82.38it/s] \n",
      "154it [00:02, 72.69it/s] \n"
     ]
    }
   ],
   "source": [
    "# biden\n",
    "get_tweets_utf8(query_biden, \"en\", count_en, \"biden\")\n",
    "get_tweets_utf8(query_biden, \"es\", count_other, \"biden\")\n",
    "get_tweets_utf8(query_biden, \"pt\", count_other, \"biden\")\n",
    "get_tweets_utf8(query_biden, \"fr\", count_other, \"biden\")\n",
    "get_tweets_utf8(query_biden, \"de\", count_other, \"biden\")"
   ]
  },
  {
   "cell_type": "code",
   "execution_count": 28,
   "id": "b572c7e4",
   "metadata": {},
   "outputs": [
    {
     "name": "stderr",
     "output_type": "stream",
     "text": [
      "4843it [01:03, 125.23it/s]Rate limit reached. Sleeping for: 688\n",
      "9999it [13:39, 12.20it/s] \n",
      "195it [00:02, 70.42it/s] \n",
      "55it [00:01, 45.41it/s]\n",
      "132it [00:02, 63.62it/s]\n",
      "56it [00:01, 45.19it/s]\n"
     ]
    }
   ],
   "source": [
    "# johnson\n",
    "get_tweets_utf8(query_johnson, \"en\", count_en, \"johnson\")\n",
    "get_tweets_utf8(query_johnson, \"es\", count_other, \"johnson\")\n",
    "get_tweets_utf8(query_johnson, \"pt\", count_other, \"johnson\")\n",
    "get_tweets_utf8(query_johnson, \"fr\", count_other, \"johnson\")\n",
    "get_tweets_utf8(query_johnson, \"de\", count_other, \"johnson\")"
   ]
  },
  {
   "cell_type": "code",
   "execution_count": 29,
   "id": "a24a1fff",
   "metadata": {},
   "outputs": [
    {
     "name": "stderr",
     "output_type": "stream",
     "text": [
      "1748it [00:24, 70.16it/s] \n",
      "1439it [00:16, 88.66it/s] \n",
      "93it [00:02, 44.12it/s]\n",
      "4999it [01:01, 81.77it/s] \n",
      "37it [00:01, 35.18it/s]\n"
     ]
    }
   ],
   "source": [
    "# macron\n",
    "get_tweets_utf8(query_macron, \"en\", count_en, \"macron\")\n",
    "get_tweets_utf8(query_macron, \"es\", count_other, \"macron\")\n",
    "get_tweets_utf8(query_macron, \"pt\", count_other, \"macron\")\n",
    "get_tweets_utf8(query_macron, \"fr\", count_other, \"macron\")\n",
    "get_tweets_utf8(query_macron, \"de\", count_other, \"macron\")"
   ]
  },
  {
   "cell_type": "code",
   "execution_count": 8,
   "id": "3b5e3ee0",
   "metadata": {},
   "outputs": [
    {
     "name": "stderr",
     "output_type": "stream",
     "text": [
      "1067it [00:12, 88.06it/s]\n"
     ]
    }
   ],
   "source": [
    "# scholz\n",
    "get_tweets_utf8(query_scholz, \"en\", count_en, \"scholz\")\n",
    "get_tweets_utf8(query_scholz, \"es\", count_other, \"scholz\")\n",
    "get_tweets_utf8(query_scholz, \"pt\", count_other, \"scholz\")\n",
    "get_tweets_utf8(query_scholz, \"fr\", count_other, \"scholz\")\n",
    "get_tweets_utf8(query_scholz, \"de\", count_other, \"scholz\")"
   ]
  },
  {
   "cell_type": "markdown",
   "id": "61dd62a1",
   "metadata": {},
   "source": [
    "### Get archived tweets before the war using api.search_full_archive"
   ]
  },
  {
   "cell_type": "code",
   "execution_count": 33,
   "id": "ec6459a0",
   "metadata": {},
   "outputs": [],
   "source": [
    "# labels of dates\n",
    "since_date = '202201160000'\n",
    "until_date = '202201170000'\n",
    "filename_date = '2022_01_16'\n",
    "\n",
    "# count of tweets\n",
    "count_archive = 100 \n",
    "\n",
    "# query for english tweets\n",
    "query_full_archive_ukraine = '(ukraine OR ukrainian) -Zelenskiy -Zelensky -Zelenskyy -@ZelenskyyUa -russia -russian -moscow -putin lang:en'\n",
    "query_full_archive_russia = '(russia OR russian) -ukraine -ukrainian -kyiv -Zelenskiy -Zelensky -@ZelenskyyUa -putin lang:en'\n",
    "query_full_archive_zelenskyy = '(Zelenskiy OR Zelensky OR Zelenskyy OR @ZelenskyyUa) -ukraine -ukrainian -russia -russian -putin lang:en'\n",
    "query_full_archive_putin = 'putin -russia -russian -moscow -ukraine -ukrainian -Zelenskiy -Zelensky -Zelenskyy -@ZelenskyyUa lang:en'\n",
    "query_full_archive_biden = '((\"Joe Biden\") OR @JoeBiden OR @POTUS) lang:en'\n",
    "query_full_archive_johnson = '((\"Boris Johnson\") OR @10DowningStreet OR @BorisJohnson) lang:en'"
   ]
  },
  {
   "cell_type": "code",
   "execution_count": 34,
   "id": "6e1e56fc",
   "metadata": {
    "scrolled": true
   },
   "outputs": [],
   "source": [
    "# get full archive with encode('utf-8') for english tweets\n",
    "def get_full_archive_utf8(query, count, keyword):\n",
    "    tweets = pd.DataFrame(columns=['tweet_id',  'acct_desc', 'date', 'location', 'friends_ount','followers_ount', 'text'])\n",
    "    counter = 0\n",
    "    for tweet in tqdm(tw.Cursor(api.search_full_archive, label = 'fullarchive', query = query,fromDate = since_date, toDate = until_date, maxResults = count).items()): \n",
    "            appending_dataframe = pd.DataFrame([[tweet.id, tweet.user.description, tweet.created_at, tweet.user.location, tweet.user.friends_count, tweet.user.followers_count, tweet.text.encode('utf-8')]], columns=['tweet_id',  'acct_desc', 'date', 'location', 'friends_ount','followers_ount', 'text'])\n",
    "            tweets = tweets.append(appending_dataframe)\n",
    "            counter+=1\n",
    "            if counter >= count:\n",
    "                break\n",
    "    tweets.to_csv(f'../data/tweets/tweets_{keyword}/tweets_{keyword}_en/tweets_{keyword}_en_{filename_date}.csv', index=False)"
   ]
  },
  {
   "cell_type": "code",
   "execution_count": 35,
   "id": "6fa15ed2",
   "metadata": {
    "scrolled": true
   },
   "outputs": [
    {
     "name": "stderr",
     "output_type": "stream",
     "text": [
      "99it [00:02, 43.83it/s]\n",
      "99it [00:01, 96.29it/s] \n",
      "99it [00:01, 97.21it/s] \n",
      "99it [00:01, 90.94it/s] \n",
      "99it [00:01, 71.49it/s]\n",
      "0it [00:00, ?it/s]\n"
     ]
    },
    {
     "ename": "TooManyRequests",
     "evalue": "429 Too Many Requests\nRequest exceeds account’s current package request limits. Please upgrade your package and retry or contact Twitter about enterprise access.",
     "output_type": "error",
     "traceback": [
      "\u001b[0;31m---------------------------------------------------------------------------\u001b[0m",
      "\u001b[0;31mTooManyRequests\u001b[0m                           Traceback (most recent call last)",
      "\u001b[0;32m/var/folders/h3/4dwpklsd0vq23n7lrrx_lryr0000gn/T/ipykernel_2888/3288587123.py\u001b[0m in \u001b[0;36m<module>\u001b[0;34m\u001b[0m\n\u001b[1;32m      5\u001b[0m \u001b[0mget_full_archive_utf8\u001b[0m\u001b[0;34m(\u001b[0m\u001b[0mquery_full_archive_putin\u001b[0m\u001b[0;34m,\u001b[0m \u001b[0mcount_archive\u001b[0m\u001b[0;34m,\u001b[0m \u001b[0;34m'putin'\u001b[0m\u001b[0;34m)\u001b[0m\u001b[0;34m\u001b[0m\u001b[0;34m\u001b[0m\u001b[0m\n\u001b[1;32m      6\u001b[0m \u001b[0mget_full_archive_utf8\u001b[0m\u001b[0;34m(\u001b[0m\u001b[0mquery_full_archive_biden\u001b[0m\u001b[0;34m,\u001b[0m \u001b[0mcount_archive\u001b[0m\u001b[0;34m,\u001b[0m \u001b[0;34m'biden'\u001b[0m\u001b[0;34m)\u001b[0m\u001b[0;34m\u001b[0m\u001b[0;34m\u001b[0m\u001b[0m\n\u001b[0;32m----> 7\u001b[0;31m \u001b[0mget_full_archive_utf8\u001b[0m\u001b[0;34m(\u001b[0m\u001b[0mquery_full_archive_johnson\u001b[0m\u001b[0;34m,\u001b[0m \u001b[0mcount_archive\u001b[0m\u001b[0;34m,\u001b[0m \u001b[0;34m'johnson'\u001b[0m\u001b[0;34m)\u001b[0m\u001b[0;34m\u001b[0m\u001b[0;34m\u001b[0m\u001b[0m\n\u001b[0m",
      "\u001b[0;32m/var/folders/h3/4dwpklsd0vq23n7lrrx_lryr0000gn/T/ipykernel_2888/385341110.py\u001b[0m in \u001b[0;36mget_full_archive_utf8\u001b[0;34m(query, count, keyword)\u001b[0m\n\u001b[1;32m      3\u001b[0m     \u001b[0mtweets\u001b[0m \u001b[0;34m=\u001b[0m \u001b[0mpd\u001b[0m\u001b[0;34m.\u001b[0m\u001b[0mDataFrame\u001b[0m\u001b[0;34m(\u001b[0m\u001b[0mcolumns\u001b[0m\u001b[0;34m=\u001b[0m\u001b[0;34m[\u001b[0m\u001b[0;34m'tweet_id'\u001b[0m\u001b[0;34m,\u001b[0m  \u001b[0;34m'acct_desc'\u001b[0m\u001b[0;34m,\u001b[0m \u001b[0;34m'date'\u001b[0m\u001b[0;34m,\u001b[0m \u001b[0;34m'location'\u001b[0m\u001b[0;34m,\u001b[0m \u001b[0;34m'friends_ount'\u001b[0m\u001b[0;34m,\u001b[0m\u001b[0;34m'followers_ount'\u001b[0m\u001b[0;34m,\u001b[0m \u001b[0;34m'text'\u001b[0m\u001b[0;34m]\u001b[0m\u001b[0;34m)\u001b[0m\u001b[0;34m\u001b[0m\u001b[0;34m\u001b[0m\u001b[0m\n\u001b[1;32m      4\u001b[0m     \u001b[0mcounter\u001b[0m \u001b[0;34m=\u001b[0m \u001b[0;36m0\u001b[0m\u001b[0;34m\u001b[0m\u001b[0;34m\u001b[0m\u001b[0m\n\u001b[0;32m----> 5\u001b[0;31m     \u001b[0;32mfor\u001b[0m \u001b[0mtweet\u001b[0m \u001b[0;32min\u001b[0m \u001b[0mtqdm\u001b[0m\u001b[0;34m(\u001b[0m\u001b[0mtw\u001b[0m\u001b[0;34m.\u001b[0m\u001b[0mCursor\u001b[0m\u001b[0;34m(\u001b[0m\u001b[0mapi\u001b[0m\u001b[0;34m.\u001b[0m\u001b[0msearch_full_archive\u001b[0m\u001b[0;34m,\u001b[0m \u001b[0mlabel\u001b[0m \u001b[0;34m=\u001b[0m \u001b[0;34m'fullarchive'\u001b[0m\u001b[0;34m,\u001b[0m \u001b[0mquery\u001b[0m \u001b[0;34m=\u001b[0m \u001b[0mquery\u001b[0m\u001b[0;34m,\u001b[0m\u001b[0mfromDate\u001b[0m \u001b[0;34m=\u001b[0m \u001b[0msince_date\u001b[0m\u001b[0;34m,\u001b[0m \u001b[0mtoDate\u001b[0m \u001b[0;34m=\u001b[0m \u001b[0muntil_date\u001b[0m\u001b[0;34m,\u001b[0m \u001b[0mmaxResults\u001b[0m \u001b[0;34m=\u001b[0m \u001b[0mcount\u001b[0m\u001b[0;34m)\u001b[0m\u001b[0;34m.\u001b[0m\u001b[0mitems\u001b[0m\u001b[0;34m(\u001b[0m\u001b[0;34m)\u001b[0m\u001b[0;34m)\u001b[0m\u001b[0;34m:\u001b[0m\u001b[0;34m\u001b[0m\u001b[0;34m\u001b[0m\u001b[0m\n\u001b[0m\u001b[1;32m      6\u001b[0m             \u001b[0mappending_dataframe\u001b[0m \u001b[0;34m=\u001b[0m \u001b[0mpd\u001b[0m\u001b[0;34m.\u001b[0m\u001b[0mDataFrame\u001b[0m\u001b[0;34m(\u001b[0m\u001b[0;34m[\u001b[0m\u001b[0;34m[\u001b[0m\u001b[0mtweet\u001b[0m\u001b[0;34m.\u001b[0m\u001b[0mid\u001b[0m\u001b[0;34m,\u001b[0m \u001b[0mtweet\u001b[0m\u001b[0;34m.\u001b[0m\u001b[0muser\u001b[0m\u001b[0;34m.\u001b[0m\u001b[0mdescription\u001b[0m\u001b[0;34m,\u001b[0m \u001b[0mtweet\u001b[0m\u001b[0;34m.\u001b[0m\u001b[0mcreated_at\u001b[0m\u001b[0;34m,\u001b[0m \u001b[0mtweet\u001b[0m\u001b[0;34m.\u001b[0m\u001b[0muser\u001b[0m\u001b[0;34m.\u001b[0m\u001b[0mlocation\u001b[0m\u001b[0;34m,\u001b[0m \u001b[0mtweet\u001b[0m\u001b[0;34m.\u001b[0m\u001b[0muser\u001b[0m\u001b[0;34m.\u001b[0m\u001b[0mfriends_count\u001b[0m\u001b[0;34m,\u001b[0m \u001b[0mtweet\u001b[0m\u001b[0;34m.\u001b[0m\u001b[0muser\u001b[0m\u001b[0;34m.\u001b[0m\u001b[0mfollowers_count\u001b[0m\u001b[0;34m,\u001b[0m \u001b[0mtweet\u001b[0m\u001b[0;34m.\u001b[0m\u001b[0mtext\u001b[0m\u001b[0;34m.\u001b[0m\u001b[0mencode\u001b[0m\u001b[0;34m(\u001b[0m\u001b[0;34m'utf-8'\u001b[0m\u001b[0;34m)\u001b[0m\u001b[0;34m]\u001b[0m\u001b[0;34m]\u001b[0m\u001b[0;34m,\u001b[0m \u001b[0mcolumns\u001b[0m\u001b[0;34m=\u001b[0m\u001b[0;34m[\u001b[0m\u001b[0;34m'tweet_id'\u001b[0m\u001b[0;34m,\u001b[0m  \u001b[0;34m'acct_desc'\u001b[0m\u001b[0;34m,\u001b[0m \u001b[0;34m'date'\u001b[0m\u001b[0;34m,\u001b[0m \u001b[0;34m'location'\u001b[0m\u001b[0;34m,\u001b[0m \u001b[0;34m'friends_ount'\u001b[0m\u001b[0;34m,\u001b[0m\u001b[0;34m'followers_ount'\u001b[0m\u001b[0;34m,\u001b[0m \u001b[0;34m'text'\u001b[0m\u001b[0;34m]\u001b[0m\u001b[0;34m)\u001b[0m\u001b[0;34m\u001b[0m\u001b[0;34m\u001b[0m\u001b[0m\n\u001b[1;32m      7\u001b[0m             \u001b[0mtweets\u001b[0m \u001b[0;34m=\u001b[0m \u001b[0mtweets\u001b[0m\u001b[0;34m.\u001b[0m\u001b[0mappend\u001b[0m\u001b[0;34m(\u001b[0m\u001b[0mappending_dataframe\u001b[0m\u001b[0;34m)\u001b[0m\u001b[0;34m\u001b[0m\u001b[0;34m\u001b[0m\u001b[0m\n",
      "\u001b[0;32m~/anaconda3/lib/python3.7/site-packages/tqdm/std.py\u001b[0m in \u001b[0;36m__iter__\u001b[0;34m(self)\u001b[0m\n\u001b[1;32m   1193\u001b[0m \u001b[0;34m\u001b[0m\u001b[0m\n\u001b[1;32m   1194\u001b[0m         \u001b[0;32mtry\u001b[0m\u001b[0;34m:\u001b[0m\u001b[0;34m\u001b[0m\u001b[0;34m\u001b[0m\u001b[0m\n\u001b[0;32m-> 1195\u001b[0;31m             \u001b[0;32mfor\u001b[0m \u001b[0mobj\u001b[0m \u001b[0;32min\u001b[0m \u001b[0miterable\u001b[0m\u001b[0;34m:\u001b[0m\u001b[0;34m\u001b[0m\u001b[0;34m\u001b[0m\u001b[0m\n\u001b[0m\u001b[1;32m   1196\u001b[0m                 \u001b[0;32myield\u001b[0m \u001b[0mobj\u001b[0m\u001b[0;34m\u001b[0m\u001b[0;34m\u001b[0m\u001b[0m\n\u001b[1;32m   1197\u001b[0m                 \u001b[0;31m# Update and possibly print the progressbar.\u001b[0m\u001b[0;34m\u001b[0m\u001b[0;34m\u001b[0m\u001b[0;34m\u001b[0m\u001b[0m\n",
      "\u001b[0;32m~/anaconda3/lib/python3.7/site-packages/tweepy/cursor.py\u001b[0m in \u001b[0;36m__next__\u001b[0;34m(self)\u001b[0m\n\u001b[1;32m     84\u001b[0m \u001b[0;34m\u001b[0m\u001b[0m\n\u001b[1;32m     85\u001b[0m     \u001b[0;32mdef\u001b[0m \u001b[0m__next__\u001b[0m\u001b[0;34m(\u001b[0m\u001b[0mself\u001b[0m\u001b[0;34m)\u001b[0m\u001b[0;34m:\u001b[0m\u001b[0;34m\u001b[0m\u001b[0;34m\u001b[0m\u001b[0m\n\u001b[0;32m---> 86\u001b[0;31m         \u001b[0;32mreturn\u001b[0m \u001b[0mself\u001b[0m\u001b[0;34m.\u001b[0m\u001b[0mnext\u001b[0m\u001b[0;34m(\u001b[0m\u001b[0;34m)\u001b[0m\u001b[0;34m\u001b[0m\u001b[0;34m\u001b[0m\u001b[0m\n\u001b[0m\u001b[1;32m     87\u001b[0m \u001b[0;34m\u001b[0m\u001b[0m\n\u001b[1;32m     88\u001b[0m     \u001b[0;32mdef\u001b[0m \u001b[0mnext\u001b[0m\u001b[0;34m(\u001b[0m\u001b[0mself\u001b[0m\u001b[0;34m)\u001b[0m\u001b[0;34m:\u001b[0m\u001b[0;34m\u001b[0m\u001b[0;34m\u001b[0m\u001b[0m\n",
      "\u001b[0;32m~/anaconda3/lib/python3.7/site-packages/tweepy/cursor.py\u001b[0m in \u001b[0;36mnext\u001b[0;34m(self)\u001b[0m\n\u001b[1;32m    284\u001b[0m         \u001b[0;32mif\u001b[0m \u001b[0mself\u001b[0m\u001b[0;34m.\u001b[0m\u001b[0mcurrent_page\u001b[0m \u001b[0;32mis\u001b[0m \u001b[0;32mNone\u001b[0m \u001b[0;32mor\u001b[0m \u001b[0mself\u001b[0m\u001b[0;34m.\u001b[0m\u001b[0mpage_index\u001b[0m \u001b[0;34m==\u001b[0m \u001b[0mlen\u001b[0m\u001b[0;34m(\u001b[0m\u001b[0mself\u001b[0m\u001b[0;34m.\u001b[0m\u001b[0mcurrent_page\u001b[0m\u001b[0;34m)\u001b[0m \u001b[0;34m-\u001b[0m \u001b[0;36m1\u001b[0m\u001b[0;34m:\u001b[0m\u001b[0;34m\u001b[0m\u001b[0;34m\u001b[0m\u001b[0m\n\u001b[1;32m    285\u001b[0m             \u001b[0;31m# Reached end of current page, get the next page...\u001b[0m\u001b[0;34m\u001b[0m\u001b[0;34m\u001b[0m\u001b[0;34m\u001b[0m\u001b[0m\n\u001b[0;32m--> 286\u001b[0;31m             \u001b[0mself\u001b[0m\u001b[0;34m.\u001b[0m\u001b[0mcurrent_page\u001b[0m \u001b[0;34m=\u001b[0m \u001b[0mnext\u001b[0m\u001b[0;34m(\u001b[0m\u001b[0mself\u001b[0m\u001b[0;34m.\u001b[0m\u001b[0mpage_iterator\u001b[0m\u001b[0;34m)\u001b[0m\u001b[0;34m\u001b[0m\u001b[0;34m\u001b[0m\u001b[0m\n\u001b[0m\u001b[1;32m    287\u001b[0m             \u001b[0;32mwhile\u001b[0m \u001b[0mlen\u001b[0m\u001b[0;34m(\u001b[0m\u001b[0mself\u001b[0m\u001b[0;34m.\u001b[0m\u001b[0mcurrent_page\u001b[0m\u001b[0;34m)\u001b[0m \u001b[0;34m==\u001b[0m \u001b[0;36m0\u001b[0m\u001b[0;34m:\u001b[0m\u001b[0;34m\u001b[0m\u001b[0;34m\u001b[0m\u001b[0m\n\u001b[1;32m    288\u001b[0m                 \u001b[0mself\u001b[0m\u001b[0;34m.\u001b[0m\u001b[0mcurrent_page\u001b[0m \u001b[0;34m=\u001b[0m \u001b[0mnext\u001b[0m\u001b[0;34m(\u001b[0m\u001b[0mself\u001b[0m\u001b[0;34m.\u001b[0m\u001b[0mpage_iterator\u001b[0m\u001b[0;34m)\u001b[0m\u001b[0;34m\u001b[0m\u001b[0;34m\u001b[0m\u001b[0m\n",
      "\u001b[0;32m~/anaconda3/lib/python3.7/site-packages/tweepy/cursor.py\u001b[0m in \u001b[0;36m__next__\u001b[0;34m(self)\u001b[0m\n\u001b[1;32m     84\u001b[0m \u001b[0;34m\u001b[0m\u001b[0m\n\u001b[1;32m     85\u001b[0m     \u001b[0;32mdef\u001b[0m \u001b[0m__next__\u001b[0m\u001b[0;34m(\u001b[0m\u001b[0mself\u001b[0m\u001b[0;34m)\u001b[0m\u001b[0;34m:\u001b[0m\u001b[0;34m\u001b[0m\u001b[0;34m\u001b[0m\u001b[0m\n\u001b[0;32m---> 86\u001b[0;31m         \u001b[0;32mreturn\u001b[0m \u001b[0mself\u001b[0m\u001b[0;34m.\u001b[0m\u001b[0mnext\u001b[0m\u001b[0;34m(\u001b[0m\u001b[0;34m)\u001b[0m\u001b[0;34m\u001b[0m\u001b[0;34m\u001b[0m\u001b[0m\n\u001b[0m\u001b[1;32m     87\u001b[0m \u001b[0;34m\u001b[0m\u001b[0m\n\u001b[1;32m     88\u001b[0m     \u001b[0;32mdef\u001b[0m \u001b[0mnext\u001b[0m\u001b[0;34m(\u001b[0m\u001b[0mself\u001b[0m\u001b[0;34m)\u001b[0m\u001b[0;34m:\u001b[0m\u001b[0;34m\u001b[0m\u001b[0;34m\u001b[0m\u001b[0m\n",
      "\u001b[0;32m~/anaconda3/lib/python3.7/site-packages/tweepy/cursor.py\u001b[0m in \u001b[0;36mnext\u001b[0;34m(self)\u001b[0m\n\u001b[1;32m    258\u001b[0m         \u001b[0;32mif\u001b[0m \u001b[0mself\u001b[0m\u001b[0;34m.\u001b[0m\u001b[0mnext_token\u001b[0m \u001b[0;34m==\u001b[0m \u001b[0;34m-\u001b[0m\u001b[0;36m1\u001b[0m \u001b[0;32mor\u001b[0m \u001b[0mself\u001b[0m\u001b[0;34m.\u001b[0m\u001b[0mpage_count\u001b[0m \u001b[0;34m>=\u001b[0m \u001b[0mself\u001b[0m\u001b[0;34m.\u001b[0m\u001b[0mlimit\u001b[0m\u001b[0;34m:\u001b[0m\u001b[0;34m\u001b[0m\u001b[0;34m\u001b[0m\u001b[0m\n\u001b[1;32m    259\u001b[0m             \u001b[0;32mraise\u001b[0m \u001b[0mStopIteration\u001b[0m\u001b[0;34m\u001b[0m\u001b[0;34m\u001b[0m\u001b[0m\n\u001b[0;32m--> 260\u001b[0;31m         \u001b[0mdata\u001b[0m \u001b[0;34m=\u001b[0m \u001b[0mself\u001b[0m\u001b[0;34m.\u001b[0m\u001b[0mmethod\u001b[0m\u001b[0;34m(\u001b[0m\u001b[0mnext\u001b[0m\u001b[0;34m=\u001b[0m\u001b[0mself\u001b[0m\u001b[0;34m.\u001b[0m\u001b[0mnext_token\u001b[0m\u001b[0;34m,\u001b[0m \u001b[0mreturn_cursors\u001b[0m\u001b[0;34m=\u001b[0m\u001b[0;32mTrue\u001b[0m\u001b[0;34m,\u001b[0m \u001b[0;34m*\u001b[0m\u001b[0mself\u001b[0m\u001b[0;34m.\u001b[0m\u001b[0margs\u001b[0m\u001b[0;34m,\u001b[0m \u001b[0;34m**\u001b[0m\u001b[0mself\u001b[0m\u001b[0;34m.\u001b[0m\u001b[0mkwargs\u001b[0m\u001b[0;34m)\u001b[0m\u001b[0;34m\u001b[0m\u001b[0;34m\u001b[0m\u001b[0m\n\u001b[0m\u001b[1;32m    261\u001b[0m         \u001b[0mself\u001b[0m\u001b[0;34m.\u001b[0m\u001b[0mpage_count\u001b[0m \u001b[0;34m+=\u001b[0m \u001b[0;36m1\u001b[0m\u001b[0;34m\u001b[0m\u001b[0;34m\u001b[0m\u001b[0m\n\u001b[1;32m    262\u001b[0m         \u001b[0;32mif\u001b[0m \u001b[0misinstance\u001b[0m\u001b[0;34m(\u001b[0m\u001b[0mdata\u001b[0m\u001b[0;34m,\u001b[0m \u001b[0mtuple\u001b[0m\u001b[0;34m)\u001b[0m\u001b[0;34m:\u001b[0m\u001b[0;34m\u001b[0m\u001b[0;34m\u001b[0m\u001b[0m\n",
      "\u001b[0;32m~/anaconda3/lib/python3.7/site-packages/tweepy/api.py\u001b[0m in \u001b[0;36mwrapper\u001b[0;34m(*args, **kwargs)\u001b[0m\n\u001b[1;32m     31\u001b[0m         \u001b[0;34m@\u001b[0m\u001b[0mfunctools\u001b[0m\u001b[0;34m.\u001b[0m\u001b[0mwraps\u001b[0m\u001b[0;34m(\u001b[0m\u001b[0mmethod\u001b[0m\u001b[0;34m)\u001b[0m\u001b[0;34m\u001b[0m\u001b[0;34m\u001b[0m\u001b[0m\n\u001b[1;32m     32\u001b[0m         \u001b[0;32mdef\u001b[0m \u001b[0mwrapper\u001b[0m\u001b[0;34m(\u001b[0m\u001b[0;34m*\u001b[0m\u001b[0margs\u001b[0m\u001b[0;34m,\u001b[0m \u001b[0;34m**\u001b[0m\u001b[0mkwargs\u001b[0m\u001b[0;34m)\u001b[0m\u001b[0;34m:\u001b[0m\u001b[0;34m\u001b[0m\u001b[0;34m\u001b[0m\u001b[0m\n\u001b[0;32m---> 33\u001b[0;31m             \u001b[0;32mreturn\u001b[0m \u001b[0mmethod\u001b[0m\u001b[0;34m(\u001b[0m\u001b[0;34m*\u001b[0m\u001b[0margs\u001b[0m\u001b[0;34m,\u001b[0m \u001b[0;34m**\u001b[0m\u001b[0mkwargs\u001b[0m\u001b[0;34m)\u001b[0m\u001b[0;34m\u001b[0m\u001b[0;34m\u001b[0m\u001b[0m\n\u001b[0m\u001b[1;32m     34\u001b[0m         \u001b[0mwrapper\u001b[0m\u001b[0;34m.\u001b[0m\u001b[0mpagination_mode\u001b[0m \u001b[0;34m=\u001b[0m \u001b[0mmode\u001b[0m\u001b[0;34m\u001b[0m\u001b[0;34m\u001b[0m\u001b[0m\n\u001b[1;32m     35\u001b[0m         \u001b[0;32mreturn\u001b[0m \u001b[0mwrapper\u001b[0m\u001b[0;34m\u001b[0m\u001b[0;34m\u001b[0m\u001b[0m\n",
      "\u001b[0;32m~/anaconda3/lib/python3.7/site-packages/tweepy/api.py\u001b[0m in \u001b[0;36mwrapper\u001b[0;34m(*args, **kwargs)\u001b[0m\n\u001b[1;32m     44\u001b[0m             \u001b[0mkwargs\u001b[0m\u001b[0;34m[\u001b[0m\u001b[0;34m'payload_list'\u001b[0m\u001b[0;34m]\u001b[0m \u001b[0;34m=\u001b[0m \u001b[0mpayload_list\u001b[0m\u001b[0;34m\u001b[0m\u001b[0;34m\u001b[0m\u001b[0m\n\u001b[1;32m     45\u001b[0m             \u001b[0mkwargs\u001b[0m\u001b[0;34m[\u001b[0m\u001b[0;34m'payload_type'\u001b[0m\u001b[0;34m]\u001b[0m \u001b[0;34m=\u001b[0m \u001b[0mpayload_type\u001b[0m\u001b[0;34m\u001b[0m\u001b[0;34m\u001b[0m\u001b[0m\n\u001b[0;32m---> 46\u001b[0;31m             \u001b[0;32mreturn\u001b[0m \u001b[0mmethod\u001b[0m\u001b[0;34m(\u001b[0m\u001b[0;34m*\u001b[0m\u001b[0margs\u001b[0m\u001b[0;34m,\u001b[0m \u001b[0;34m**\u001b[0m\u001b[0mkwargs\u001b[0m\u001b[0;34m)\u001b[0m\u001b[0;34m\u001b[0m\u001b[0;34m\u001b[0m\u001b[0m\n\u001b[0m\u001b[1;32m     47\u001b[0m         \u001b[0mwrapper\u001b[0m\u001b[0;34m.\u001b[0m\u001b[0mpayload_list\u001b[0m \u001b[0;34m=\u001b[0m \u001b[0mpayload_list\u001b[0m\u001b[0;34m\u001b[0m\u001b[0;34m\u001b[0m\u001b[0m\n\u001b[1;32m     48\u001b[0m         \u001b[0mwrapper\u001b[0m\u001b[0;34m.\u001b[0m\u001b[0mpayload_type\u001b[0m \u001b[0;34m=\u001b[0m \u001b[0mpayload_type\u001b[0m\u001b[0;34m\u001b[0m\u001b[0;34m\u001b[0m\u001b[0m\n",
      "\u001b[0;32m~/anaconda3/lib/python3.7/site-packages/tweepy/api.py\u001b[0m in \u001b[0;36msearch_full_archive\u001b[0;34m(self, label, query, **kwargs)\u001b[0m\n\u001b[1;32m    448\u001b[0m             'GET', f'tweets/search/fullarchive/{label}', endpoint_parameters=(\n\u001b[1;32m    449\u001b[0m                 \u001b[0;34m'query'\u001b[0m\u001b[0;34m,\u001b[0m \u001b[0;34m'tag'\u001b[0m\u001b[0;34m,\u001b[0m \u001b[0;34m'fromDate'\u001b[0m\u001b[0;34m,\u001b[0m \u001b[0;34m'toDate'\u001b[0m\u001b[0;34m,\u001b[0m \u001b[0;34m'maxResults'\u001b[0m\u001b[0;34m,\u001b[0m \u001b[0;34m'next'\u001b[0m\u001b[0;34m\u001b[0m\u001b[0;34m\u001b[0m\u001b[0m\n\u001b[0;32m--> 450\u001b[0;31m             ), query=query, **kwargs\n\u001b[0m\u001b[1;32m    451\u001b[0m         )\n\u001b[1;32m    452\u001b[0m \u001b[0;34m\u001b[0m\u001b[0m\n",
      "\u001b[0;32m~/anaconda3/lib/python3.7/site-packages/tweepy/api.py\u001b[0m in \u001b[0;36mrequest\u001b[0;34m(self, method, endpoint, endpoint_parameters, params, headers, json_payload, parser, payload_list, payload_type, post_data, files, require_auth, return_cursors, upload_api, use_cache, **kwargs)\u001b[0m\n\u001b[1;32m    261\u001b[0m                 \u001b[0;32mraise\u001b[0m \u001b[0mNotFound\u001b[0m\u001b[0;34m(\u001b[0m\u001b[0mresp\u001b[0m\u001b[0;34m)\u001b[0m\u001b[0;34m\u001b[0m\u001b[0;34m\u001b[0m\u001b[0m\n\u001b[1;32m    262\u001b[0m             \u001b[0;32mif\u001b[0m \u001b[0mresp\u001b[0m\u001b[0;34m.\u001b[0m\u001b[0mstatus_code\u001b[0m \u001b[0;34m==\u001b[0m \u001b[0;36m429\u001b[0m\u001b[0;34m:\u001b[0m\u001b[0;34m\u001b[0m\u001b[0;34m\u001b[0m\u001b[0m\n\u001b[0;32m--> 263\u001b[0;31m                 \u001b[0;32mraise\u001b[0m \u001b[0mTooManyRequests\u001b[0m\u001b[0;34m(\u001b[0m\u001b[0mresp\u001b[0m\u001b[0;34m)\u001b[0m\u001b[0;34m\u001b[0m\u001b[0;34m\u001b[0m\u001b[0m\n\u001b[0m\u001b[1;32m    264\u001b[0m             \u001b[0;32mif\u001b[0m \u001b[0mresp\u001b[0m\u001b[0;34m.\u001b[0m\u001b[0mstatus_code\u001b[0m \u001b[0;34m>=\u001b[0m \u001b[0;36m500\u001b[0m\u001b[0;34m:\u001b[0m\u001b[0;34m\u001b[0m\u001b[0;34m\u001b[0m\u001b[0m\n\u001b[1;32m    265\u001b[0m                 \u001b[0;32mraise\u001b[0m \u001b[0mTwitterServerError\u001b[0m\u001b[0;34m(\u001b[0m\u001b[0mresp\u001b[0m\u001b[0;34m)\u001b[0m\u001b[0;34m\u001b[0m\u001b[0;34m\u001b[0m\u001b[0m\n",
      "\u001b[0;31mTooManyRequests\u001b[0m: 429 Too Many Requests\nRequest exceeds account’s current package request limits. Please upgrade your package and retry or contact Twitter about enterprise access."
     ]
    }
   ],
   "source": [
    "# get English tweets from archive\n",
    "# get_full_archive_utf8(query_full_archive_ukraine, count_archive, 'ukraine')\n",
    "# get_full_archive_utf8(query_full_archive_russia, count_archive, 'russia')\n",
    "# get_full_archive_utf8(query_full_archive_zelenskyy, count_archive, 'zelenskyy')\n",
    "# get_full_archive_utf8(query_full_archive_putin, count_archive, 'putin')\n",
    "# get_full_archive_utf8(query_full_archive_biden, count_archive, 'biden')\n",
    "get_full_archive_utf8(query_full_archive_johnson, count_archive, 'johnson')"
   ]
  },
  {
   "cell_type": "code",
   "execution_count": null,
   "id": "f39d4547",
   "metadata": {},
   "outputs": [],
   "source": []
  },
  {
   "cell_type": "code",
   "execution_count": null,
   "id": "a34670c0",
   "metadata": {},
   "outputs": [],
   "source": []
  },
  {
   "cell_type": "code",
   "execution_count": null,
   "id": "64095d31",
   "metadata": {},
   "outputs": [],
   "source": []
  }
 ],
 "metadata": {
  "kernelspec": {
   "display_name": "Python 3 (ipykernel)",
   "language": "python",
   "name": "python3"
  },
  "language_info": {
   "codemirror_mode": {
    "name": "ipython",
    "version": 3
   },
   "file_extension": ".py",
   "mimetype": "text/x-python",
   "name": "python",
   "nbconvert_exporter": "python",
   "pygments_lexer": "ipython3",
   "version": "3.7.13"
  }
 },
 "nbformat": 4,
 "nbformat_minor": 5
}
