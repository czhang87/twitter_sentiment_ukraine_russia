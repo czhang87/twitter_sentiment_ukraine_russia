{
 "cells": [
  {
   "cell_type": "code",
   "execution_count": 235,
   "id": "93840f5e",
   "metadata": {},
   "outputs": [],
   "source": [
    "import folium\n",
    "import pandas as pd\n",
    "import geopandas as gpd\n",
    "import glob\n",
    "import re\n",
    "import numpy as np\n",
    "from tqdm.auto import tqdm"
   ]
  },
  {
   "cell_type": "code",
   "execution_count": 355,
   "id": "805a952d",
   "metadata": {},
   "outputs": [],
   "source": [
    "pd.set_option('display.max_columns', None)\n",
    "# pd.reset_option('max_rows')"
   ]
  },
  {
   "cell_type": "code",
   "execution_count": 237,
   "id": "c17b8471",
   "metadata": {
    "scrolled": true
   },
   "outputs": [
    {
     "data": {
      "text/html": [
       "<div>\n",
       "<style scoped>\n",
       "    .dataframe tbody tr th:only-of-type {\n",
       "        vertical-align: middle;\n",
       "    }\n",
       "\n",
       "    .dataframe tbody tr th {\n",
       "        vertical-align: top;\n",
       "    }\n",
       "\n",
       "    .dataframe thead th {\n",
       "        text-align: right;\n",
       "    }\n",
       "</style>\n",
       "<table border=\"1\" class=\"dataframe\">\n",
       "  <thead>\n",
       "    <tr style=\"text-align: right;\">\n",
       "      <th></th>\n",
       "      <th>ADMIN</th>\n",
       "      <th>ISO_A3</th>\n",
       "      <th>geometry</th>\n",
       "    </tr>\n",
       "  </thead>\n",
       "  <tbody>\n",
       "    <tr>\n",
       "      <th>0</th>\n",
       "      <td>Aruba</td>\n",
       "      <td>ABW</td>\n",
       "      <td>POLYGON ((-69.99694 12.57758, -69.93639 12.531...</td>\n",
       "    </tr>\n",
       "    <tr>\n",
       "      <th>1</th>\n",
       "      <td>Afghanistan</td>\n",
       "      <td>AFG</td>\n",
       "      <td>POLYGON ((71.04980 38.40866, 71.05714 38.40903...</td>\n",
       "    </tr>\n",
       "    <tr>\n",
       "      <th>2</th>\n",
       "      <td>Angola</td>\n",
       "      <td>AGO</td>\n",
       "      <td>MULTIPOLYGON (((11.73752 -16.69258, 11.73851 -...</td>\n",
       "    </tr>\n",
       "    <tr>\n",
       "      <th>3</th>\n",
       "      <td>Anguilla</td>\n",
       "      <td>AIA</td>\n",
       "      <td>MULTIPOLYGON (((-63.03767 18.21296, -63.09952 ...</td>\n",
       "    </tr>\n",
       "    <tr>\n",
       "      <th>4</th>\n",
       "      <td>Albania</td>\n",
       "      <td>ALB</td>\n",
       "      <td>POLYGON ((19.74777 42.57890, 19.74601 42.57993...</td>\n",
       "    </tr>\n",
       "  </tbody>\n",
       "</table>\n",
       "</div>"
      ],
      "text/plain": [
       "         ADMIN ISO_A3                                           geometry\n",
       "0        Aruba    ABW  POLYGON ((-69.99694 12.57758, -69.93639 12.531...\n",
       "1  Afghanistan    AFG  POLYGON ((71.04980 38.40866, 71.05714 38.40903...\n",
       "2       Angola    AGO  MULTIPOLYGON (((11.73752 -16.69258, 11.73851 -...\n",
       "3     Anguilla    AIA  MULTIPOLYGON (((-63.03767 18.21296, -63.09952 ...\n",
       "4      Albania    ALB  POLYGON ((19.74777 42.57890, 19.74601 42.57993..."
      ]
     },
     "execution_count": 237,
     "metadata": {},
     "output_type": "execute_result"
    }
   ],
   "source": [
    "geo_countries = gpd.read_file('../data/countries.geojson')\n",
    "geo_countries.head()"
   ]
  },
  {
   "cell_type": "code",
   "execution_count": 238,
   "id": "2b9d4fdb",
   "metadata": {
    "scrolled": true
   },
   "outputs": [
    {
     "data": {
      "text/html": [
       "<div>\n",
       "<style scoped>\n",
       "    .dataframe tbody tr th:only-of-type {\n",
       "        vertical-align: middle;\n",
       "    }\n",
       "\n",
       "    .dataframe tbody tr th {\n",
       "        vertical-align: top;\n",
       "    }\n",
       "\n",
       "    .dataframe thead th {\n",
       "        text-align: right;\n",
       "    }\n",
       "</style>\n",
       "<table border=\"1\" class=\"dataframe\">\n",
       "  <thead>\n",
       "    <tr style=\"text-align: right;\">\n",
       "      <th></th>\n",
       "      <th>city_ascii</th>\n",
       "      <th>country</th>\n",
       "      <th>iso3</th>\n",
       "      <th>population</th>\n",
       "    </tr>\n",
       "  </thead>\n",
       "  <tbody>\n",
       "    <tr>\n",
       "      <th>0</th>\n",
       "      <td>Tokyo</td>\n",
       "      <td>Japan</td>\n",
       "      <td>JPN</td>\n",
       "      <td>39105000.0</td>\n",
       "    </tr>\n",
       "    <tr>\n",
       "      <th>1</th>\n",
       "      <td>Jakarta</td>\n",
       "      <td>Indonesia</td>\n",
       "      <td>IDN</td>\n",
       "      <td>35362000.0</td>\n",
       "    </tr>\n",
       "    <tr>\n",
       "      <th>2</th>\n",
       "      <td>Delhi</td>\n",
       "      <td>India</td>\n",
       "      <td>IND</td>\n",
       "      <td>31870000.0</td>\n",
       "    </tr>\n",
       "    <tr>\n",
       "      <th>3</th>\n",
       "      <td>Manila</td>\n",
       "      <td>Philippines</td>\n",
       "      <td>PHL</td>\n",
       "      <td>23971000.0</td>\n",
       "    </tr>\n",
       "    <tr>\n",
       "      <th>4</th>\n",
       "      <td>Sao Paulo</td>\n",
       "      <td>Brazil</td>\n",
       "      <td>BRA</td>\n",
       "      <td>22495000.0</td>\n",
       "    </tr>\n",
       "  </tbody>\n",
       "</table>\n",
       "</div>"
      ],
      "text/plain": [
       "  city_ascii      country iso3  population\n",
       "0      Tokyo        Japan  JPN  39105000.0\n",
       "1    Jakarta    Indonesia  IDN  35362000.0\n",
       "2      Delhi        India  IND  31870000.0\n",
       "3     Manila  Philippines  PHL  23971000.0\n",
       "4  Sao Paulo       Brazil  BRA  22495000.0"
      ]
     },
     "execution_count": 238,
     "metadata": {},
     "output_type": "execute_result"
    }
   ],
   "source": [
    "world_cities = pd.read_csv('../data/worldcities/worldcities.csv', usecols= ['city_ascii', 'country', 'iso3', 'population'])\n",
    "world_cities.head()"
   ]
  },
  {
   "cell_type": "code",
   "execution_count": 257,
   "id": "038d617a",
   "metadata": {
    "scrolled": true
   },
   "outputs": [],
   "source": [
    "city_iso3 = world_cities.sort_values('population', ascending = False).drop_duplicates('city_ascii').rename(columns={'city_ascii':'city'})[['city', 'iso3']]\n",
    "state_iso3 = pd.read_csv('../data/US_states.csv', usecols=['STATE', 'STATE2']).assign(iso3='USA').rename(columns = {'STATE':'state', 'STATE2':'state2'})\n",
    "country_iso3 = world_cities.sort_values('population', ascending = False).drop_duplicates('iso3')[['country', 'iso3']]"
   ]
  },
  {
   "cell_type": "code",
   "execution_count": 261,
   "id": "3e2c7bed",
   "metadata": {},
   "outputs": [
    {
     "data": {
      "text/html": [
       "<div>\n",
       "<style scoped>\n",
       "    .dataframe tbody tr th:only-of-type {\n",
       "        vertical-align: middle;\n",
       "    }\n",
       "\n",
       "    .dataframe tbody tr th {\n",
       "        vertical-align: top;\n",
       "    }\n",
       "\n",
       "    .dataframe thead th {\n",
       "        text-align: right;\n",
       "    }\n",
       "</style>\n",
       "<table border=\"1\" class=\"dataframe\">\n",
       "  <thead>\n",
       "    <tr style=\"text-align: right;\">\n",
       "      <th></th>\n",
       "      <th>country</th>\n",
       "      <th>iso3</th>\n",
       "    </tr>\n",
       "  </thead>\n",
       "  <tbody>\n",
       "    <tr>\n",
       "      <th>0</th>\n",
       "      <td>Japan</td>\n",
       "      <td>JPN</td>\n",
       "    </tr>\n",
       "    <tr>\n",
       "      <th>1</th>\n",
       "      <td>Indonesia</td>\n",
       "      <td>IDN</td>\n",
       "    </tr>\n",
       "    <tr>\n",
       "      <th>2</th>\n",
       "      <td>India</td>\n",
       "      <td>IND</td>\n",
       "    </tr>\n",
       "    <tr>\n",
       "      <th>3</th>\n",
       "      <td>Philippines</td>\n",
       "      <td>PHL</td>\n",
       "    </tr>\n",
       "    <tr>\n",
       "      <th>4</th>\n",
       "      <td>Brazil</td>\n",
       "      <td>BRA</td>\n",
       "    </tr>\n",
       "  </tbody>\n",
       "</table>\n",
       "</div>"
      ],
      "text/plain": [
       "       country iso3\n",
       "0        Japan  JPN\n",
       "1    Indonesia  IDN\n",
       "2        India  IND\n",
       "3  Philippines  PHL\n",
       "4       Brazil  BRA"
      ]
     },
     "execution_count": 261,
     "metadata": {},
     "output_type": "execute_result"
    }
   ],
   "source": [
    "country_iso3.head()"
   ]
  },
  {
   "cell_type": "code",
   "execution_count": null,
   "id": "7f434a65",
   "metadata": {
    "scrolled": true
   },
   "outputs": [],
   "source": [
    "country_pop = (world_cities.groupby('iso3').\n",
    " sum('population').\n",
    " drop(columns = ['lat', 'lng', 'id']).\n",
    " rename(columns = {'population':'country_pop'}).\n",
    " reset_index()\n",
    ")\n",
    "country_pop = country_pop[country_pop['iso3'] != 'CHN']\n"
   ]
  },
  {
   "cell_type": "code",
   "execution_count": null,
   "id": "a2f8031f",
   "metadata": {},
   "outputs": [],
   "source": [
    "country_pop.sort_values('country_pop', ascending = False)"
   ]
  },
  {
   "cell_type": "code",
   "execution_count": null,
   "id": "f49425d4",
   "metadata": {
    "scrolled": false
   },
   "outputs": [],
   "source": [
    "# initialize the map and store it in a m object\n",
    "m = folium.Map(location=[40, -95], zoom_start=4)\n",
    "\n",
    "folium.Choropleth(\n",
    "    geo_data='../data/countries.geojson',\n",
    "    name=\"choropleth\",\n",
    "    data=country_pop,\n",
    "    columns=[\"iso3\", \"country_pop\"],\n",
    "    key_on=\"feature.properties.ISO_A3\",\n",
    "    fill_color=\"YlGn\",\n",
    "    fill_opacity=0.7,\n",
    "    line_opacity=.1,\n",
    "    legend_name=\"population\",\n",
    ").add_to(m)\n",
    "\n",
    "folium.LayerControl().add_to(m)\n",
    "\n",
    "m"
   ]
  },
  {
   "cell_type": "code",
   "execution_count": 11,
   "id": "4ae03aa4",
   "metadata": {},
   "outputs": [
    {
     "data": {
      "text/plain": [
       "['../data/tweets_en/tweets_ukraine_en.csv',\n",
       " '../data/tweets_en/tweets_russia_en.csv',\n",
       " '../data/tweets_en/tweets_eu_en.csv',\n",
       " '../data/tweets_en/tweets_zelenskyy_en.csv',\n",
       " '../data/tweets_en/tweets_biden_en.csv',\n",
       " '../data/tweets_en/tweets_putin_en.csv',\n",
       " '../data/tweets_en/tweets_johnson_en.csv',\n",
       " '../data/tweets_en/tweets_nato_en.csv',\n",
       " '../data/tweets_en/tweets_scholz_en.csv',\n",
       " '../data/tweets_en/tweets_macron_en.csv']"
      ]
     },
     "execution_count": 11,
     "metadata": {},
     "output_type": "execute_result"
    }
   ],
   "source": [
    "glob.glob('../data/tweets_en/*')"
   ]
  },
  {
   "cell_type": "code",
   "execution_count": null,
   "id": "c0d323f9",
   "metadata": {
    "scrolled": true
   },
   "outputs": [],
   "source": [
    "df.value_counts('location', ascending = False).head(100)"
   ]
  },
  {
   "cell_type": "code",
   "execution_count": 414,
   "id": "64f0456f",
   "metadata": {},
   "outputs": [
    {
     "data": {
      "text/plain": [
       "7       NaN\n",
       "1568    NaN\n",
       "3582    NaN\n",
       "6598    NaN\n",
       "6658    NaN\n",
       "Name: iso_final, dtype: object"
      ]
     },
     "execution_count": 414,
     "metadata": {},
     "output_type": "execute_result"
    }
   ],
   "source": [
    "df.query('location == \"Italia\"')['iso_final'][:5]"
   ]
  },
  {
   "cell_type": "code",
   "execution_count": 402,
   "id": "4cc5c7ed",
   "metadata": {
    "scrolled": true
   },
   "outputs": [
    {
     "data": {
      "text/html": [
       "<div>\n",
       "<style scoped>\n",
       "    .dataframe tbody tr th:only-of-type {\n",
       "        vertical-align: middle;\n",
       "    }\n",
       "\n",
       "    .dataframe tbody tr th {\n",
       "        vertical-align: top;\n",
       "    }\n",
       "\n",
       "    .dataframe thead th {\n",
       "        text-align: right;\n",
       "    }\n",
       "</style>\n",
       "<table border=\"1\" class=\"dataframe\">\n",
       "  <thead>\n",
       "    <tr style=\"text-align: right;\">\n",
       "      <th></th>\n",
       "      <th>country</th>\n",
       "      <th>iso3</th>\n",
       "    </tr>\n",
       "  </thead>\n",
       "  <tbody>\n",
       "    <tr>\n",
       "      <th>519</th>\n",
       "      <td>Czechia</td>\n",
       "      <td>CZE</td>\n",
       "    </tr>\n",
       "  </tbody>\n",
       "</table>\n",
       "</div>"
      ],
      "text/plain": [
       "     country iso3\n",
       "519  Czechia  CZE"
      ]
     },
     "execution_count": 402,
     "metadata": {},
     "output_type": "execute_result"
    }
   ],
   "source": [
    "country_iso3[country_iso3['country'].str.contains('Czech')]"
   ]
  },
  {
   "cell_type": "markdown",
   "id": "f7a1bdc7",
   "metadata": {},
   "source": [
    "### Convet location to iso3"
   ]
  },
  {
   "cell_type": "code",
   "execution_count": 347,
   "id": "dee71824",
   "metadata": {
    "scrolled": true
   },
   "outputs": [],
   "source": [
    "df = pd.read_csv('../data/tweets_en/tweets_scholz_en.csv', lineterminator='\\n', encoding='latin-1')"
   ]
  },
  {
   "cell_type": "markdown",
   "id": "e5674829",
   "metadata": {},
   "source": [
    "#### Manual transformation of location\n",
    "\"Deutschland\"\n",
    "'USA'\n",
    "Democrat in the USA\n",
    "'UK'\n",
    "'CANADA'\n",
    "'England'\n",
    "'Scotland'\n",
    "'The Netherlands' to 'Netherlands'\n",
    "Polska to Poland\n",
    "Czech Republic to Czechia\n",
    "New York City\n",
    "Italia"
   ]
  },
  {
   "cell_type": "code",
   "execution_count": null,
   "id": "cce29c60",
   "metadata": {},
   "outputs": [],
   "source": []
  },
  {
   "cell_type": "code",
   "execution_count": null,
   "id": "68452179",
   "metadata": {},
   "outputs": [],
   "source": []
  },
  {
   "cell_type": "code",
   "execution_count": 348,
   "id": "284368a1",
   "metadata": {
    "scrolled": true
   },
   "outputs": [
    {
     "data": {
      "application/vnd.jupyter.widget-view+json": {
       "model_id": "444e92fd8180473b8fc196f0b992a2bd",
       "version_major": 2,
       "version_minor": 0
      },
      "text/plain": [
       "  0%|          | 0/67558 [00:00<?, ?it/s]"
      ]
     },
     "metadata": {},
     "output_type": "display_data"
    }
   ],
   "source": [
    "test = df['location'].apply(lambda x : str(x).split(','))\n",
    "loc1 = []\n",
    "loc2 = []\n",
    "for loc in tqdm(test):\n",
    "    if len(loc) == 1:\n",
    "        loc1 += [loc[0]]\n",
    "        loc2 += ['nan']\n",
    "    if len(loc) == 2:\n",
    "        loc1 += [loc[0]]\n",
    "        loc2 += [loc[1]]\n",
    "    if len(loc) >2:\n",
    "        loc1 += [loc[0]]\n",
    "        loc2 += [loc[1]]"
   ]
  },
  {
   "cell_type": "code",
   "execution_count": 349,
   "id": "44305f3c",
   "metadata": {
    "scrolled": true
   },
   "outputs": [],
   "source": [
    "df = df.assign(loc1 = loc1, loc2 = loc2)"
   ]
  },
  {
   "cell_type": "code",
   "execution_count": 350,
   "id": "87c0097c",
   "metadata": {},
   "outputs": [],
   "source": [
    "df['loc1'] = df['loc1'].apply(lambda x: x.strip(' '))\n",
    "df['loc2'] = df['loc2'].apply(lambda x: x.strip(' '))"
   ]
  },
  {
   "cell_type": "code",
   "execution_count": 351,
   "id": "08776dd1",
   "metadata": {
    "scrolled": true
   },
   "outputs": [],
   "source": [
    "df = (df.\n",
    " merge(city_iso3, how = 'left', left_on = 'loc1', right_on = 'city').\n",
    " merge(city_iso3, how = 'left', left_on = 'loc2', right_on = 'city').\n",
    " merge(state_iso3, how = 'left', left_on = 'loc1', right_on = 'state').\n",
    " merge(state_iso3, how = 'left', left_on = 'loc2', right_on = 'state').\n",
    " merge(country_iso3, how = 'left', left_on = 'loc1', right_on = 'country').\n",
    " merge(country_iso3, how = 'left', left_on = 'loc2', right_on = 'country')\n",
    ")\n"
   ]
  },
  {
   "cell_type": "code",
   "execution_count": 353,
   "id": "2682a919",
   "metadata": {
    "scrolled": true
   },
   "outputs": [],
   "source": [
    "df['iso_final'] = (df['iso3_x'].iloc[:,0].\n",
    " combine_first(df['iso3_x'].iloc[:,1]).\n",
    " combine_first(df['iso3_x'].iloc[:,2]).\n",
    " combine_first(df['iso3_y'].iloc[:,0]).\n",
    " combine_first(df['iso3_y'].iloc[:,1]).\n",
    " combine_first(df['iso3_y'].iloc[:,2])\n",
    ")"
   ]
  },
  {
   "cell_type": "code",
   "execution_count": null,
   "id": "d01eb965",
   "metadata": {},
   "outputs": [],
   "source": []
  }
 ],
 "metadata": {
  "kernelspec": {
   "display_name": "Python 3 (ipykernel)",
   "language": "python",
   "name": "python3"
  },
  "language_info": {
   "codemirror_mode": {
    "name": "ipython",
    "version": 3
   },
   "file_extension": ".py",
   "mimetype": "text/x-python",
   "name": "python",
   "nbconvert_exporter": "python",
   "pygments_lexer": "ipython3",
   "version": "3.7.13"
  }
 },
 "nbformat": 4,
 "nbformat_minor": 5
}
