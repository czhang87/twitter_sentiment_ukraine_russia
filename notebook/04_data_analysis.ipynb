{
 "cells": [
  {
   "cell_type": "code",
   "execution_count": 1,
   "id": "93840f5e",
   "metadata": {},
   "outputs": [],
   "source": [
    "import folium\n",
    "import pandas as pd\n",
    "import geopandas as gpd\n",
    "import glob\n",
    "import re\n",
    "import numpy as np\n",
    "from tqdm.auto import tqdm"
   ]
  },
  {
   "cell_type": "code",
   "execution_count": 259,
   "id": "805a952d",
   "metadata": {},
   "outputs": [],
   "source": [
    "# pd.set_option('display.max_columns', None)\n",
    "# pd.set_option('display.max_rows', None)\n",
    "# pd.reset_option('max_rows')\n",
    "# pd.reset_option('max_columns')"
   ]
  },
  {
   "cell_type": "code",
   "execution_count": 3,
   "id": "c17b8471",
   "metadata": {
    "scrolled": true
   },
   "outputs": [
    {
     "data": {
      "text/html": [
       "<div>\n",
       "<style scoped>\n",
       "    .dataframe tbody tr th:only-of-type {\n",
       "        vertical-align: middle;\n",
       "    }\n",
       "\n",
       "    .dataframe tbody tr th {\n",
       "        vertical-align: top;\n",
       "    }\n",
       "\n",
       "    .dataframe thead th {\n",
       "        text-align: right;\n",
       "    }\n",
       "</style>\n",
       "<table border=\"1\" class=\"dataframe\">\n",
       "  <thead>\n",
       "    <tr style=\"text-align: right;\">\n",
       "      <th></th>\n",
       "      <th>ADMIN</th>\n",
       "      <th>ISO_A3</th>\n",
       "      <th>geometry</th>\n",
       "    </tr>\n",
       "  </thead>\n",
       "  <tbody>\n",
       "    <tr>\n",
       "      <th>0</th>\n",
       "      <td>Aruba</td>\n",
       "      <td>ABW</td>\n",
       "      <td>POLYGON ((-69.99694 12.57758, -69.93639 12.531...</td>\n",
       "    </tr>\n",
       "    <tr>\n",
       "      <th>1</th>\n",
       "      <td>Afghanistan</td>\n",
       "      <td>AFG</td>\n",
       "      <td>POLYGON ((71.04980 38.40866, 71.05714 38.40903...</td>\n",
       "    </tr>\n",
       "    <tr>\n",
       "      <th>2</th>\n",
       "      <td>Angola</td>\n",
       "      <td>AGO</td>\n",
       "      <td>MULTIPOLYGON (((11.73752 -16.69258, 11.73851 -...</td>\n",
       "    </tr>\n",
       "    <tr>\n",
       "      <th>3</th>\n",
       "      <td>Anguilla</td>\n",
       "      <td>AIA</td>\n",
       "      <td>MULTIPOLYGON (((-63.03767 18.21296, -63.09952 ...</td>\n",
       "    </tr>\n",
       "    <tr>\n",
       "      <th>4</th>\n",
       "      <td>Albania</td>\n",
       "      <td>ALB</td>\n",
       "      <td>POLYGON ((19.74777 42.57890, 19.74601 42.57993...</td>\n",
       "    </tr>\n",
       "  </tbody>\n",
       "</table>\n",
       "</div>"
      ],
      "text/plain": [
       "         ADMIN ISO_A3                                           geometry\n",
       "0        Aruba    ABW  POLYGON ((-69.99694 12.57758, -69.93639 12.531...\n",
       "1  Afghanistan    AFG  POLYGON ((71.04980 38.40866, 71.05714 38.40903...\n",
       "2       Angola    AGO  MULTIPOLYGON (((11.73752 -16.69258, 11.73851 -...\n",
       "3     Anguilla    AIA  MULTIPOLYGON (((-63.03767 18.21296, -63.09952 ...\n",
       "4      Albania    ALB  POLYGON ((19.74777 42.57890, 19.74601 42.57993..."
      ]
     },
     "execution_count": 3,
     "metadata": {},
     "output_type": "execute_result"
    }
   ],
   "source": [
    "geo_countries = gpd.read_file('../data/countries.geojson')\n",
    "geo_countries.head()"
   ]
  },
  {
   "cell_type": "code",
   "execution_count": 4,
   "id": "2b9d4fdb",
   "metadata": {
    "scrolled": true
   },
   "outputs": [
    {
     "data": {
      "text/html": [
       "<div>\n",
       "<style scoped>\n",
       "    .dataframe tbody tr th:only-of-type {\n",
       "        vertical-align: middle;\n",
       "    }\n",
       "\n",
       "    .dataframe tbody tr th {\n",
       "        vertical-align: top;\n",
       "    }\n",
       "\n",
       "    .dataframe thead th {\n",
       "        text-align: right;\n",
       "    }\n",
       "</style>\n",
       "<table border=\"1\" class=\"dataframe\">\n",
       "  <thead>\n",
       "    <tr style=\"text-align: right;\">\n",
       "      <th></th>\n",
       "      <th>city_ascii</th>\n",
       "      <th>country</th>\n",
       "      <th>iso3</th>\n",
       "      <th>population</th>\n",
       "    </tr>\n",
       "  </thead>\n",
       "  <tbody>\n",
       "    <tr>\n",
       "      <th>0</th>\n",
       "      <td>Tokyo</td>\n",
       "      <td>Japan</td>\n",
       "      <td>JPN</td>\n",
       "      <td>39105000.0</td>\n",
       "    </tr>\n",
       "    <tr>\n",
       "      <th>1</th>\n",
       "      <td>Jakarta</td>\n",
       "      <td>Indonesia</td>\n",
       "      <td>IDN</td>\n",
       "      <td>35362000.0</td>\n",
       "    </tr>\n",
       "    <tr>\n",
       "      <th>2</th>\n",
       "      <td>Delhi</td>\n",
       "      <td>India</td>\n",
       "      <td>IND</td>\n",
       "      <td>31870000.0</td>\n",
       "    </tr>\n",
       "    <tr>\n",
       "      <th>3</th>\n",
       "      <td>Manila</td>\n",
       "      <td>Philippines</td>\n",
       "      <td>PHL</td>\n",
       "      <td>23971000.0</td>\n",
       "    </tr>\n",
       "    <tr>\n",
       "      <th>4</th>\n",
       "      <td>Sao Paulo</td>\n",
       "      <td>Brazil</td>\n",
       "      <td>BRA</td>\n",
       "      <td>22495000.0</td>\n",
       "    </tr>\n",
       "  </tbody>\n",
       "</table>\n",
       "</div>"
      ],
      "text/plain": [
       "  city_ascii      country iso3  population\n",
       "0      Tokyo        Japan  JPN  39105000.0\n",
       "1    Jakarta    Indonesia  IDN  35362000.0\n",
       "2      Delhi        India  IND  31870000.0\n",
       "3     Manila  Philippines  PHL  23971000.0\n",
       "4  Sao Paulo       Brazil  BRA  22495000.0"
      ]
     },
     "execution_count": 4,
     "metadata": {},
     "output_type": "execute_result"
    }
   ],
   "source": [
    "world_cities = pd.read_csv('../data/worldcities/worldcities.csv', usecols= ['city_ascii', 'country', 'iso3', 'population'])\n",
    "world_cities.head()"
   ]
  },
  {
   "cell_type": "code",
   "execution_count": 11,
   "id": "038d617a",
   "metadata": {
    "scrolled": true
   },
   "outputs": [],
   "source": [
    "city_iso3 = world_cities.sort_values('population', ascending = False).drop_duplicates('city_ascii').rename(columns={'city_ascii':'city'})[['city', 'iso3']]\n",
    "state_iso3 = pd.read_csv('../data/US_states.csv', usecols=['STATE', 'STATE2']).assign(iso3='USA').rename(columns = {'STATE':'state', 'STATE2':'state2'})\n",
    "country_iso3 = world_cities.sort_values('population', ascending = False).drop_duplicates('iso3')[['country', 'iso3']]"
   ]
  },
  {
   "cell_type": "code",
   "execution_count": 12,
   "id": "3e2c7bed",
   "metadata": {},
   "outputs": [
    {
     "data": {
      "text/html": [
       "<div>\n",
       "<style scoped>\n",
       "    .dataframe tbody tr th:only-of-type {\n",
       "        vertical-align: middle;\n",
       "    }\n",
       "\n",
       "    .dataframe tbody tr th {\n",
       "        vertical-align: top;\n",
       "    }\n",
       "\n",
       "    .dataframe thead th {\n",
       "        text-align: right;\n",
       "    }\n",
       "</style>\n",
       "<table border=\"1\" class=\"dataframe\">\n",
       "  <thead>\n",
       "    <tr style=\"text-align: right;\">\n",
       "      <th></th>\n",
       "      <th>country</th>\n",
       "      <th>iso3</th>\n",
       "    </tr>\n",
       "  </thead>\n",
       "  <tbody>\n",
       "    <tr>\n",
       "      <th>0</th>\n",
       "      <td>Japan</td>\n",
       "      <td>JPN</td>\n",
       "    </tr>\n",
       "    <tr>\n",
       "      <th>1</th>\n",
       "      <td>Indonesia</td>\n",
       "      <td>IDN</td>\n",
       "    </tr>\n",
       "    <tr>\n",
       "      <th>2</th>\n",
       "      <td>India</td>\n",
       "      <td>IND</td>\n",
       "    </tr>\n",
       "    <tr>\n",
       "      <th>3</th>\n",
       "      <td>Philippines</td>\n",
       "      <td>PHL</td>\n",
       "    </tr>\n",
       "    <tr>\n",
       "      <th>4</th>\n",
       "      <td>Brazil</td>\n",
       "      <td>BRA</td>\n",
       "    </tr>\n",
       "  </tbody>\n",
       "</table>\n",
       "</div>"
      ],
      "text/plain": [
       "       country iso3\n",
       "0        Japan  JPN\n",
       "1    Indonesia  IDN\n",
       "2        India  IND\n",
       "3  Philippines  PHL\n",
       "4       Brazil  BRA"
      ]
     },
     "execution_count": 12,
     "metadata": {},
     "output_type": "execute_result"
    }
   ],
   "source": [
    "country_iso3.head()"
   ]
  },
  {
   "cell_type": "code",
   "execution_count": null,
   "id": "7f434a65",
   "metadata": {
    "scrolled": true
   },
   "outputs": [],
   "source": [
    "country_pop = (world_cities.groupby('iso3').\n",
    " sum('population').\n",
    " drop(columns = ['lat', 'lng', 'id']).\n",
    " rename(columns = {'population':'country_pop'}).\n",
    " reset_index()\n",
    ")\n",
    "country_pop = country_pop[country_pop['iso3'] != 'CHN']\n"
   ]
  },
  {
   "cell_type": "code",
   "execution_count": null,
   "id": "a2f8031f",
   "metadata": {},
   "outputs": [],
   "source": [
    "country_pop.sort_values('country_pop', ascending = False)"
   ]
  },
  {
   "cell_type": "code",
   "execution_count": null,
   "id": "f49425d4",
   "metadata": {
    "scrolled": false
   },
   "outputs": [],
   "source": [
    "# initialize the map and store it in a m object\n",
    "m = folium.Map(location=[40, -95], zoom_start=4)\n",
    "\n",
    "folium.Choropleth(\n",
    "    geo_data='../data/countries.geojson',\n",
    "    name=\"choropleth\",\n",
    "    data=country_pop,\n",
    "    columns=[\"iso3\", \"country_pop\"],\n",
    "    key_on=\"feature.properties.ISO_A3\",\n",
    "    fill_color=\"YlGn\",\n",
    "    fill_opacity=0.7,\n",
    "    line_opacity=.1,\n",
    "    legend_name=\"population\",\n",
    ").add_to(m)\n",
    "\n",
    "folium.LayerControl().add_to(m)\n",
    "\n",
    "m"
   ]
  },
  {
   "cell_type": "code",
   "execution_count": null,
   "id": "c0d323f9",
   "metadata": {
    "scrolled": true
   },
   "outputs": [],
   "source": [
    "df.value_counts('location', ascending = False).head(100)"
   ]
  },
  {
   "cell_type": "code",
   "execution_count": 414,
   "id": "64f0456f",
   "metadata": {},
   "outputs": [
    {
     "data": {
      "text/plain": [
       "7       NaN\n",
       "1568    NaN\n",
       "3582    NaN\n",
       "6598    NaN\n",
       "6658    NaN\n",
       "Name: iso_final, dtype: object"
      ]
     },
     "execution_count": 414,
     "metadata": {},
     "output_type": "execute_result"
    }
   ],
   "source": [
    "df.query('location == \"Italia\"')['iso_final'][:5]"
   ]
  },
  {
   "cell_type": "code",
   "execution_count": 402,
   "id": "4cc5c7ed",
   "metadata": {
    "scrolled": true
   },
   "outputs": [
    {
     "data": {
      "text/html": [
       "<div>\n",
       "<style scoped>\n",
       "    .dataframe tbody tr th:only-of-type {\n",
       "        vertical-align: middle;\n",
       "    }\n",
       "\n",
       "    .dataframe tbody tr th {\n",
       "        vertical-align: top;\n",
       "    }\n",
       "\n",
       "    .dataframe thead th {\n",
       "        text-align: right;\n",
       "    }\n",
       "</style>\n",
       "<table border=\"1\" class=\"dataframe\">\n",
       "  <thead>\n",
       "    <tr style=\"text-align: right;\">\n",
       "      <th></th>\n",
       "      <th>country</th>\n",
       "      <th>iso3</th>\n",
       "    </tr>\n",
       "  </thead>\n",
       "  <tbody>\n",
       "    <tr>\n",
       "      <th>519</th>\n",
       "      <td>Czechia</td>\n",
       "      <td>CZE</td>\n",
       "    </tr>\n",
       "  </tbody>\n",
       "</table>\n",
       "</div>"
      ],
      "text/plain": [
       "     country iso3\n",
       "519  Czechia  CZE"
      ]
     },
     "execution_count": 402,
     "metadata": {},
     "output_type": "execute_result"
    }
   ],
   "source": [
    "country_iso3[country_iso3['country'].str.contains('Czech')]"
   ]
  },
  {
   "cell_type": "markdown",
   "id": "f7a1bdc7",
   "metadata": {},
   "source": [
    "### Convet location to iso3"
   ]
  },
  {
   "cell_type": "code",
   "execution_count": 253,
   "id": "e3c57438",
   "metadata": {},
   "outputs": [],
   "source": [
    "# Function to replace the inconsistent locations with country names\n",
    "US = ['US', 'USA', 'Southern California', 'United States of America', 'West Coast, USA (SEA/GEG/LAX)',\n",
    "       'Democrat in the USA','Washington DC', 'New York City', 'NYC', 'USA (SEA/GEG/LAX)', 'Washington DC',\n",
    "       'Lost in the Minnesota North Woods', 'Washington D.C.', 'U.S.A.', 'U.S.A', 'us', 'New England', 'Philly','D.C.'\n",
    "       ,'usa', 'Northern Virginia', 'American', 'South Florida','Pacific Northwest', 'Northern California', \n",
    "       'San Diego & New Orleans', 'San Francisco Bay Area','New York and the World', 'America','Washington State', \n",
    "       'Midwest','East Coast', 'US of A', 'Harrisburg Pa']\n",
    "UK = ['UK','England', 'Scotland', 'london', 'Wales', 'uk', 'West Saxons', 'LONDON', 'South London', 'Northern Ireland',\n",
    "       'Somerset England UK Eu', 'Derbyshire', 'England and International', 'London UK','Leicestershire','Lancashire'\n",
    "       ,'West Sussex','North Yorkshire','Yorkshire and The Humber, Engl','Yorkshire and The Humber','Newcastle upon Tyne'\n",
    "       ,'Staffordshire','Oxfordshire','Cardiff','West Yorkshire','Cymru','Great Britain','North Wales','Wiltshire'\n",
    "       ,'Stockport','North West England','Cambridgeshire','glasgow','Romford','SCOTLAND','South Wales','Dorset'\n",
    "       ,'some were in UK','england','Hertfordshire','Shropshire England','North East England','Hampshire UK'\n",
    "       ,'Norfolk England','Dorset, England.','Bristol UK','Republic of Wales','U.K.','Lancashire','East Sussex'\n",
    "       ,'Warwickshire', 'Edinburgh ~ Heart of Scotland!']\n",
    "Germany = [\"Deutschland\", 'Somewhere in Germany']\n",
    "Ukraine = ['Ucraina', 'chernivtsi', 'Some Future Place in Ukraine', 'Mariouple']\n",
    "Poland = ['Polska']\n",
    "Canada = ['CANADA']\n",
    "Netherlands = ['The Netherlands']\n",
    "Czechia = ['Czech Republic']\n",
    "Italy = ['Italia']    \n",
    "Brazil = ['Brasil', 'Brazil Brazil']   \n",
    "Finland = ['Suomi', \"East-Finnish People's Republic\"]    \n",
    "Japan = ['Okinotorishima Ogasawara Tokyo']   \n",
    "Australia = ['Queensland','Australia - International']   \n",
    "Sweden = ['Sverige']  \n",
    "Kazakhstan = ['Astana']  \n",
    "Serbia = ['Belgrade City'] \n",
    "India = ['mumbai']   \n",
    "Belgium = ['Belgique', 'Bruxelles']  \n",
    "Ethiopia = ['Tigray']   \n",
    "Venezuela = ['Venezuela revolucionaria']\n",
    "Spain = ['Tarragona']\n",
    "Greece = ['Athens Greece']\n",
    "Denmark = ['Danmark']\n",
    "\n",
    "def convert_loc(text):\n",
    "    if text in US:\n",
    "        return 'United States'\n",
    "    if text in UK:\n",
    "        return 'United Kingdom'\n",
    "    if text in Germany:\n",
    "        return 'Germany'\n",
    "    if text in Ukraine:\n",
    "        return 'Ukraine'\n",
    "    if text in Poland:\n",
    "        return 'Poland'\n",
    "    if text in Canada:\n",
    "        return 'Canada'\n",
    "    if text in Netherlands:\n",
    "        return 'Netherlands'\n",
    "    if text in Czechia:\n",
    "        return 'Czechia'\n",
    "    if text in Italy:\n",
    "        return 'Italy'\n",
    "    if text in Brazil:\n",
    "        return 'Brazil'\n",
    "    if text in Finland:\n",
    "        return 'Finland'\n",
    "    if text in Japan:\n",
    "        return 'Japan'\n",
    "    if text in Australia:\n",
    "        return 'Australia'\n",
    "    if text in Sweden:\n",
    "        return 'Sweden'\n",
    "    if text in Kazakhstan:\n",
    "        return 'Kazakhstan'\n",
    "    if text in Serbia:\n",
    "        return 'Serbia'\n",
    "    if text in India:\n",
    "        return 'India'\n",
    "    if text in Belgium:\n",
    "        return 'Belgium'\n",
    "    if text in Ethiopia:\n",
    "        return 'Ethiopia'\n",
    "    if text in Venezuela:\n",
    "        return 'Venezuela'\n",
    "    if text in Spain:\n",
    "        return 'Spain'\n",
    "    if text in Greece:\n",
    "        return 'Greece'\n",
    "    if text in Denmark:\n",
    "        return 'Denmark'\n",
    "    else:\n",
    "        return text "
   ]
  },
  {
   "cell_type": "code",
   "execution_count": 257,
   "id": "f554a02c",
   "metadata": {},
   "outputs": [
    {
     "data": {
      "application/vnd.jupyter.widget-view+json": {
       "model_id": "ee1f336dd2584e60ba82c972f40eff8b",
       "version_major": 2,
       "version_minor": 0
      },
      "text/plain": [
       "  0%|          | 0/10 [00:00<?, ?it/s]"
      ]
     },
     "metadata": {},
     "output_type": "display_data"
    }
   ],
   "source": [
    "col_to_keep = ['tweet_id', 'acct_desc', 'date', 'location', 'friends_ount','followers_ount', 'text', 'compound', 'iso3_final']\n",
    "for filepath in tqdm(glob.glob('../data/tweets_en/*')):\n",
    "    df = pd.read_csv(filepath, lineterminator='\\n', encoding='latin-1')\n",
    "    \n",
    "    # split the location by comma and assign them to loc1 and loc2 \n",
    "    loc_split = df['location'].apply(lambda x : str(x).split(','))\n",
    "    loc1 = []\n",
    "    loc2 = []\n",
    "    for loc in loc_split:\n",
    "        if len(loc) == 1:\n",
    "            loc1 += [loc[0]]\n",
    "            loc2 += ['nan']\n",
    "        if len(loc) == 2:\n",
    "            loc1 += [loc[0]]\n",
    "            loc2 += [loc[1]]\n",
    "        if len(loc) >2:\n",
    "            loc1 += [loc[0]]\n",
    "            loc2 += [loc[1]]\n",
    "    df = df.assign(loc1 = loc1, loc2 = loc2)\n",
    "    \n",
    "    # strip the blank space in loc1 and loc2; convert the inconsistent loc1 and loc2 to country names\n",
    "    df['loc1'] = df['loc1'].apply(lambda x: x.strip(' '))\n",
    "    df['loc1'] = df['loc1'].apply(convert_loc)\n",
    "    df['loc2'] = df['loc2'].apply(lambda x: x.strip(' '))\n",
    "    df['loc2'] = df['loc2'].apply(convert_loc)\n",
    "    \n",
    "    # merge location columns with iso3 dataframes to match city, state, or country\n",
    "    df = (df.\n",
    "     merge(city_iso3, how = 'left', left_on = 'loc1', right_on = 'city').\n",
    "     merge(city_iso3, how = 'left', left_on = 'loc2', right_on = 'city').\n",
    "     merge(state_iso3, how = 'left', left_on = 'loc1', right_on = 'state').\n",
    "     merge(state_iso3, how = 'left', left_on = 'loc2', right_on = 'state').\n",
    "     merge(state_iso3, how = 'left', left_on = 'loc1', right_on = 'state2').\n",
    "     merge(state_iso3, how = 'left', left_on = 'loc2', right_on = 'state2').\n",
    "     merge(country_iso3, how = 'left', left_on = 'loc1', right_on = 'country').\n",
    "     merge(country_iso3, how = 'left', left_on = 'loc2', right_on = 'country')\n",
    "    )\n",
    "    \n",
    "    # ignore the null values and get the iso3\n",
    "    df['iso3_final'] = (df['iso3_x'].iloc[:,0].\n",
    "     combine_first(df['iso3_x'].iloc[:,1]).\n",
    "     combine_first(df['iso3_x'].iloc[:,2]).\n",
    "     combine_first(df['iso3_x'].iloc[:,3]).\n",
    "     combine_first(df['iso3_y'].iloc[:,0]).\n",
    "     combine_first(df['iso3_y'].iloc[:,1]).\n",
    "     combine_first(df['iso3_y'].iloc[:,2]).\n",
    "     combine_first(df['iso3_y'].iloc[:,3])\n",
    "    )\n",
    "    df = df[col_to_keep]# drop iso3_ columns\n",
    "    df.to_csv(filepath, index = False)"
   ]
  },
  {
   "cell_type": "code",
   "execution_count": null,
   "id": "c75a0da9",
   "metadata": {},
   "outputs": [],
   "source": []
  }
 ],
 "metadata": {
  "kernelspec": {
   "display_name": "Python 3 (ipykernel)",
   "language": "python",
   "name": "python3"
  },
  "language_info": {
   "codemirror_mode": {
    "name": "ipython",
    "version": 3
   },
   "file_extension": ".py",
   "mimetype": "text/x-python",
   "name": "python",
   "nbconvert_exporter": "python",
   "pygments_lexer": "ipython3",
   "version": "3.7.13"
  }
 },
 "nbformat": 4,
 "nbformat_minor": 5
}
