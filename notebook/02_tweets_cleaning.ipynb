{
 "cells": [
  {
   "cell_type": "markdown",
   "id": "6653b114",
   "metadata": {},
   "source": [
    "## Preprocessing of tweets"
   ]
  },
  {
   "cell_type": "markdown",
   "id": "ebb98aef",
   "metadata": {},
   "source": [
    "### Import packages"
   ]
  },
  {
   "cell_type": "code",
   "execution_count": 99,
   "id": "97b177b0",
   "metadata": {},
   "outputs": [],
   "source": [
    "import pandas as pd\n",
    "import glob\n",
    "import re\n",
    "from tqdm.auto import tqdm\n",
    "tqdm.pandas()"
   ]
  },
  {
   "cell_type": "code",
   "execution_count": 105,
   "id": "4d607aca",
   "metadata": {},
   "outputs": [],
   "source": [
    "pattern_filename = r'tweets_[a-z]*_[a-z]{2}'\n"
   ]
  },
  {
   "cell_type": "markdown",
   "id": "dce6511f",
   "metadata": {},
   "source": [
    "### Concatenate csv per keyword and language"
   ]
  },
  {
   "cell_type": "code",
   "execution_count": null,
   "id": "92761156",
   "metadata": {
    "scrolled": true
   },
   "outputs": [],
   "source": [
    "for filepath1 in tqdm(glob.glob('../data/tweets/*')):\n",
    "    for filepath2 in glob.glob(f'{filepath1}/*'):\n",
    "        concat_csv = []\n",
    "        for filepath3 in glob.glob(f'{filepath2}/*'):\n",
    "            concat_csv.append(pd.read_csv(filepath3, lineterminator='\\n'))\n",
    "        df = pd.concat(concat_csv).sort_values('date')\n",
    "        df = df[~df['tweet_id'].isna()].drop_duplicates('text') # remove tweets w/o tweet_id and duplicated tweets\n",
    "        match = re.search(pattern_filename, filepath2)\n",
    "        df.to_csv(f'../data/tweets_final/{match.group(0)}.csv')\n",
    "            "
   ]
  },
  {
   "cell_type": "markdown",
   "id": "a2a3e906",
   "metadata": {},
   "source": [
    "### Notes\n",
    "In English tweets for Ukraine 4/17/2022, the Firend Count of 0.1 quantile is 22 and the Follower Count of 0.1 quantile is 6. To remove potential fake accounts, use the tweets from uses of more than 20 Fridens, 5 Followers, and with some acctdesc. df[~((df['Friends Count'] <= 20)&( df['Follower Count'] <= 5)& df['acctdesc'].isnull())]"
   ]
  },
  {
   "cell_type": "code",
   "execution_count": null,
   "id": "dbc423c3",
   "metadata": {},
   "outputs": [],
   "source": [
    "# Rename and drop columns \n",
    "tweets_us_north = (tweets_us_north\n",
    "          .drop(columns = ['username', 'acctdesc', 'Friends Count','Account Verified', 'Favorite Count', 'hashtags'])\n",
    "          .rename(columns = {'Tweet Id': 'id', 'Tweet Date': 'date', 'Follower Count': 'follower_count', 'Retweets': 'retweets', 'Tweet Text': 'text'})\n",
    "         )"
   ]
  },
  {
   "cell_type": "code",
   "execution_count": null,
   "id": "5324e437",
   "metadata": {},
   "outputs": [],
   "source": []
  },
  {
   "cell_type": "code",
   "execution_count": null,
   "id": "062f5270",
   "metadata": {},
   "outputs": [],
   "source": []
  },
  {
   "cell_type": "code",
   "execution_count": null,
   "id": "675d9ef1",
   "metadata": {},
   "outputs": [],
   "source": []
  },
  {
   "cell_type": "code",
   "execution_count": null,
   "id": "8a21c1b5",
   "metadata": {},
   "outputs": [],
   "source": []
  },
  {
   "cell_type": "code",
   "execution_count": null,
   "id": "96dc96a4",
   "metadata": {},
   "outputs": [],
   "source": []
  },
  {
   "cell_type": "code",
   "execution_count": null,
   "id": "bc507157",
   "metadata": {},
   "outputs": [],
   "source": []
  },
  {
   "cell_type": "code",
   "execution_count": null,
   "id": "976bd1be",
   "metadata": {},
   "outputs": [],
   "source": []
  },
  {
   "cell_type": "code",
   "execution_count": null,
   "id": "84a6095e",
   "metadata": {},
   "outputs": [],
   "source": []
  },
  {
   "cell_type": "code",
   "execution_count": null,
   "id": "2ddaa45c",
   "metadata": {},
   "outputs": [],
   "source": []
  },
  {
   "cell_type": "code",
   "execution_count": null,
   "id": "686b11a8",
   "metadata": {},
   "outputs": [],
   "source": []
  },
  {
   "cell_type": "code",
   "execution_count": null,
   "id": "0a087547",
   "metadata": {},
   "outputs": [],
   "source": []
  },
  {
   "cell_type": "code",
   "execution_count": null,
   "id": "7502a83d",
   "metadata": {},
   "outputs": [],
   "source": []
  }
 ],
 "metadata": {
  "kernelspec": {
   "display_name": "Python 3 (ipykernel)",
   "language": "python",
   "name": "python3"
  },
  "language_info": {
   "codemirror_mode": {
    "name": "ipython",
    "version": 3
   },
   "file_extension": ".py",
   "mimetype": "text/x-python",
   "name": "python",
   "nbconvert_exporter": "python",
   "pygments_lexer": "ipython3",
   "version": "3.7.13"
  }
 },
 "nbformat": 4,
 "nbformat_minor": 5
}
