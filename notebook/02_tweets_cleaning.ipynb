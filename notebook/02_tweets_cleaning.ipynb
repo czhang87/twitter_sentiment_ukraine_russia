{
 "cells": [
  {
   "cell_type": "markdown",
   "id": "d54bca08",
   "metadata": {},
   "source": [
    "## Preprocessing of tweets"
   ]
  },
  {
   "cell_type": "markdown",
   "id": "f32aa394",
   "metadata": {},
   "source": [
    "### Import packages"
   ]
  },
  {
   "cell_type": "code",
   "execution_count": 40,
   "id": "97b177b0",
   "metadata": {},
   "outputs": [],
   "source": [
    "import pandas as pd\n",
    "import glob\n",
    "import re\n",
    "from tqdm.auto import tqdm\n",
    "from transformers import AutoModelWithLMHead, AutoTokenizer,AutoModelForSeq2SeqLM, pipeline\n",
    "tqdm.pandas()"
   ]
  },
  {
   "cell_type": "code",
   "execution_count": 35,
   "id": "52e474bf",
   "metadata": {},
   "outputs": [],
   "source": [
    "pd.set_option('display.max_colwidth', None)"
   ]
  },
  {
   "cell_type": "code",
   "execution_count": 3,
   "id": "c9f8fdfb",
   "metadata": {},
   "outputs": [],
   "source": [
    "pattern_filename = r'tweets_[a-z]*_[a-z]{2}'\n",
    "# pattern to remove url, \\n, \\xxx, #hastag, @user, and \\\n",
    "pattern_sub = r'https://t.co/\\w{9,10}|\\\\n|\\\\x\\w{2}|#\\w+|@\\w+|\\\\'"
   ]
  },
  {
   "cell_type": "markdown",
   "id": "b78e8e55",
   "metadata": {},
   "source": [
    "### Concatenate csv per keyword and language"
   ]
  },
  {
   "cell_type": "code",
   "execution_count": null,
   "id": "8d856729",
   "metadata": {
    "scrolled": true
   },
   "outputs": [],
   "source": [
    "for filepath1 in tqdm(glob.glob('../data/tweets/*')):\n",
    "    for filepath2 in glob.glob(f'{filepath1}/*'):\n",
    "        concat_csv = []\n",
    "        for filepath3 in glob.glob(f'{filepath2}/*'):\n",
    "            concat_csv.append(pd.read_csv(filepath3, lineterminator='\\n')) \n",
    "        df = pd.concat(concat_csv).sort_values('date')\n",
    "        df = df[~df['tweet_id'].isna()].drop_duplicates('text') # remove tweets w/o tweet_id and duplicated tweets\n",
    "        match = re.search(pattern_filename, filepath2)\n",
    "        df.to_csv(f'../data/tweets_final/{match.group(0)}.csv')"
   ]
  },
  {
   "cell_type": "markdown",
   "id": "65ab5fa5",
   "metadata": {},
   "source": [
    "### Clean tweets\n",
    "Remove b and '', url, \\n, \\xxx, #hastag, @user, and \\"
   ]
  },
  {
   "cell_type": "code",
   "execution_count": null,
   "id": "800b1ef6",
   "metadata": {
    "scrolled": true
   },
   "outputs": [],
   "source": [
    "for filepath in tqdm(glob.glob('../data/tweets_final/*')):\n",
    "    df = pd.read_csv(filepath,lineterminator='\\n')\n",
    "    df['text'] = df['text'].apply(lambda x: re.sub(pattern_sub, '', repr(str(x).strip(\"b'\")).strip(\"'\")))\n",
    "    df.to_csv(filepath)"
   ]
  },
  {
   "cell_type": "markdown",
   "id": "373ada15",
   "metadata": {},
   "source": [
    "### Translation of tweets to English"
   ]
  },
  {
   "cell_type": "code",
   "execution_count": 104,
   "id": "f2c8ca55",
   "metadata": {},
   "outputs": [],
   "source": [
    "# Pretrained models\n",
    "model_es_en = AutoModelWithLMHead.from_pretrained(\"Helsinki-NLP/opus-mt-es-en\")\n",
    "model_pt_en = AutoModelForSeq2SeqLM.from_pretrained(\"unicamp-dl/translation-pt-en-t5\")\n",
    "model_fr_en = AutoModelWithLMHead.from_pretrained(\"Helsinki-NLP/opus-mt-fr-en\")\n",
    "model_de_en = AutoModelWithLMHead.from_pretrained(\"Helsinki-NLP/opus-mt-de-en\")\n",
    "model_ru_en = AutoModelWithLMHead.from_pretrained(\"Helsinki-NLP/opus-mt-ru-en\")\n",
    "model_uk_en = AutoModelWithLMHead.from_pretrained(\"Helsinki-NLP/opus-mt-uk-en\")\n",
    "model_zh_en = AutoModelWithLMHead.from_pretrained(\"Helsinki-NLP/opus-mt-zh-en\")\n",
    "model_ja_en = AutoModelWithLMHead.from_pretrained(\"Helsinki-NLP/opus-mt-ja-en\")\n",
    "model_hi_en = AutoModelWithLMHead.from_pretrained(\"Helsinki-NLP/opus-mt-hi-en\")\n",
    "\n",
    "# Pretrained tokenizers\n",
    "tokenizer_es_en = AutoTokenizer.from_pretrained(\"Helsinki-NLP/opus-mt-es-en\")\n",
    "tokenizer_pt_en = AutoTokenizer.from_pretrained(\"unicamp-dl/translation-pt-en-t5\")\n",
    "tokenizer_fr_en = AutoTokenizer.from_pretrained(\"Helsinki-NLP/opus-mt-fr-en\")\n",
    "tokenizer_de_en = AutoTokenizer.from_pretrained(\"Helsinki-NLP/opus-mt-de-en\")\n",
    "tokenizer_ru_en = AutoTokenizer.from_pretrained(\"Helsinki-NLP/opus-mt-ru-en\")\n",
    "tokenizer_uk_en = AutoTokenizer.from_pretrained(\"Helsinki-NLP/opus-mt-uk-en\")\n",
    "tokenizer_zh_en = AutoTokenizer.from_pretrained(\"Helsinki-NLP/opus-mt-zh-en\")\n",
    "tokenizer_ja_en = AutoTokenizer.from_pretrained(\"Helsinki-NLP/opus-mt-ja-en\")\n",
    "tokenizer_hi_en = AutoTokenizer.from_pretrained(\"Helsinki-NLP/opus-mt-hi-en\")\n",
    "\n",
    "# Translation pipelines\n",
    "pipeline_es_en = pipeline(\"translation_es_to_en\", model=model_es_en, tokenizer=tokenizer_es_en)\n",
    "pipeline_pt_en = pipeline(\"text2text-generation\", model=model_pt_en, tokenizer=tokenizer_pt_en)\n",
    "pipeline_fr_en = pipeline(\"translation_fr_to_en\", model=model_fr_en, tokenizer=tokenizer_fr_en)\n",
    "pipeline_de_en = pipeline(\"translation_de_to_en\", model=model_de_en, tokenizer=tokenizer_de_en)\n",
    "pipeline_ru_en = pipeline(\"translation_ru_to_en\", model=model_ru_en, tokenizer=tokenizer_ru_en)\n",
    "pipeline_uk_en = pipeline(\"translation_uk_to_en\", model=model_uk_en, tokenizer=tokenizer_uk_en)\n",
    "pipeline_zh_en = pipeline(\"translation_zh_to_en\", model=model_zh_en, tokenizer=tokenizer_zh_en)\n",
    "pipeline_ja_en = pipeline(\"translation_ja_to_en\", model=model_ja_en, tokenizer=tokenizer_ja_en)\n",
    "pipeline_hi_en = pipeline(\"translation_hi_to_en\", model=model_hi_en, tokenizer=tokenizer_hi_en)\n"
   ]
  },
  {
   "cell_type": "code",
   "execution_count": 54,
   "id": "6cb1e496",
   "metadata": {},
   "outputs": [],
   "source": [
    "def translate_es_en(text):\n",
    "    translated_text = pipline_es_en(text, max_length=400)[0]['translation_text']\n",
    "    return translated_text\n",
    "def translate_pt_en(text):\n",
    "    translated_text = pipline_pt_en(text, max_length=400)[0]['generated_text']\n",
    "    return translated_text\n",
    "def translate_fr_en(text):\n",
    "    translated_text = pipline_fr_en(text, max_length=400)[0]['translation_text']\n",
    "    return translated_text\n",
    "def translate_de_en(text):\n",
    "    translated_text = pipline_de_en(text, max_length=400)[0]['translation_text']\n",
    "    return translated_text\n",
    "def translate_ru_en(text):\n",
    "    translated_text = pipline_ru_en(text, max_length=400)[0]['translation_text']\n",
    "    return translated_text\n",
    "def translate_uk_en(text):\n",
    "    translated_text = pipline_uk_en(text, max_length=400)[0]['translation_text']\n",
    "    return translated_text\n",
    "def translate_zh_en(text):\n",
    "    translated_text = pipline_zh_en(text, max_length=400)[0]['translation_text']\n",
    "    return translated_text\n",
    "def translate_ja_en(text):\n",
    "    translated_text = pipline_ja_en(text, max_length=400)[0]['translation_text']\n",
    "    return translated_text\n",
    "def translate_hi_en(text):\n",
    "    translated_text = pipline_hi_en(text, max_length=400)[0]['translation_text']\n",
    "    return translated_text"
   ]
  },
  {
   "cell_type": "code",
   "execution_count": 253,
   "id": "726e806d",
   "metadata": {},
   "outputs": [
    {
     "data": {
      "text/plain": [
       "['../data/tweets_final/tweets_nato_es.csv',\n",
       " '../data/tweets_final/tweets_macron_es.csv',\n",
       " '../data/tweets_final/tweets_scholz_es.csv',\n",
       " '../data/tweets_final/tweets_zelenskyy_es.csv',\n",
       " '../data/tweets_final/tweets_putin_es.csv',\n",
       " '../data/tweets_final/tweets_johnson_es.csv',\n",
       " '../data/tweets_final/tweets_biden_es.csv',\n",
       " '../data/tweets_final/tweets_russia_es.csv',\n",
       " '../data/tweets_final/tweets_eu_es.csv',\n",
       " '../data/tweets_final/tweets_ukraine_es.csv']"
      ]
     },
     "execution_count": 253,
     "metadata": {},
     "output_type": "execute_result"
    }
   ],
   "source": [
    "lang = 'es'\n",
    "glob.glob(f'../data/tweets_final/*_{lang}.csv')"
   ]
  },
  {
   "cell_type": "code",
   "execution_count": null,
   "id": "16b6181c",
   "metadata": {
    "scrolled": true
   },
   "outputs": [
    {
     "name": "stderr",
     "output_type": "stream",
     "text": [
      "  0%|                                                     | 0/9 [00:00<?, ?it/s]/var/folders/h3/4dwpklsd0vq23n7lrrx_lryr0000gn/T/ipykernel_53476/2262874177.py:5: DtypeWarning: Columns (10) have mixed types. Specify dtype option on import or set low_memory=False.\n",
      "  df = pd.read_csv(filepath,lineterminator='\\n')\n"
     ]
    }
   ],
   "source": [
    "langs = ['es', 'pt', 'fr', 'de', 'ru', 'uk', 'zh', 'ja', 'hi']\n",
    "for lang in tqdm(langs):\n",
    "    filepaths = glob.glob(f'../data/tweets_final/*_{lang}.csv')\n",
    "    for filepath in filepaths:\n",
    "        df = pd.read_csv(filepath,lineterminator='\\n')\n",
    "        if lang == 'es':\n",
    "            df['text'] = df['text'].apply(translate_es_en)\n",
    "            df['location_trans'] = df['location'].apply(lambda x: translate_es_en(x).strip('. ') if not pd.isna(x) else x)\n",
    "        elif lang == 'pt':\n",
    "            df['text'] = df['text'].apply(translate_pt_en)\n",
    "            df['location_trans'] = df['location'].apply(lambda x: translate_pt_en(x).strip('. ') if not pd.isna(x) else x)\n",
    "        elif lang == 'fr':\n",
    "            df['text'] = df['text'].apply(translate_fr_en)\n",
    "            df['location_trans'] = df['location'].apply(lambda x: translate_fr_en(x).strip('. ') if not pd.isna(x) else x)\n",
    "        elif lang == 'de':\n",
    "            df['text'] = df['text'].apply(translate_de_en)\n",
    "            df['location_trans'] = df['location'].apply(lambda x: translate_de_en(x).strip('. ') if not pd.isna(x) else x)\n",
    "        elif lang == 'ru':\n",
    "            df['text'] = df['text'].apply(translate_ru_en)\n",
    "            df['location_trans'] = df['location'].apply(lambda x: translate_ru_en(x).strip('. ') if not pd.isna(x) else x)\n",
    "        elif lang == 'uk':\n",
    "            df['text'] = df['text'].apply(translate_uk_en)\n",
    "            df['location_trans'] = df['location'].apply(lambda x: translate_uk_en(x).strip('. ') if not pd.isna(x) else x)\n",
    "        elif lang == 'zh':\n",
    "            df['text'] = df['text'].apply(translate_zh_en)\n",
    "            df['location_trans'] = df['location'].apply(lambda x: translate_zh_en(x).strip('. ') if not pd.isna(x) else x)\n",
    "        elif lang == 'ja':\n",
    "            df['text'] = df['text'].apply(translate_ja_en)\n",
    "            df['location_trans'] = df['location'].apply(lambda x: translate_ja_en(x).strip('. ') if not pd.isna(x) else x)\n",
    "        else:\n",
    "            df['text'] = df['text'].apply(translate_hi_en)\n",
    "        df.to_csv(filepath)\n",
    "\n"
   ]
  },
  {
   "cell_type": "markdown",
   "id": "6ea7d6e3",
   "metadata": {},
   "source": [
    "### Concatenate translated tweets per keyword"
   ]
  },
  {
   "cell_type": "code",
   "execution_count": null,
   "id": "a45d66e5",
   "metadata": {},
   "outputs": [],
   "source": []
  },
  {
   "cell_type": "markdown",
   "id": "9f44a540",
   "metadata": {},
   "source": [
    "### Get the latitude and longitude of tweets' location"
   ]
  },
  {
   "cell_type": "code",
   "execution_count": 189,
   "id": "dd1f0e59",
   "metadata": {},
   "outputs": [
    {
     "data": {
      "text/html": [
       "<div>\n",
       "<style scoped>\n",
       "    .dataframe tbody tr th:only-of-type {\n",
       "        vertical-align: middle;\n",
       "    }\n",
       "\n",
       "    .dataframe tbody tr th {\n",
       "        vertical-align: top;\n",
       "    }\n",
       "\n",
       "    .dataframe thead th {\n",
       "        text-align: right;\n",
       "    }\n",
       "</style>\n",
       "<table border=\"1\" class=\"dataframe\">\n",
       "  <thead>\n",
       "    <tr style=\"text-align: right;\">\n",
       "      <th></th>\n",
       "      <th>city</th>\n",
       "      <th>city_ascii</th>\n",
       "      <th>lat</th>\n",
       "      <th>lng</th>\n",
       "      <th>country</th>\n",
       "      <th>iso2</th>\n",
       "      <th>iso3</th>\n",
       "      <th>admin_name</th>\n",
       "      <th>capital</th>\n",
       "      <th>population</th>\n",
       "      <th>id</th>\n",
       "    </tr>\n",
       "  </thead>\n",
       "  <tbody>\n",
       "    <tr>\n",
       "      <th>102</th>\n",
       "      <td>Madrid</td>\n",
       "      <td>Madrid</td>\n",
       "      <td>40.4167</td>\n",
       "      <td>-3.7167</td>\n",
       "      <td>Spain</td>\n",
       "      <td>ES</td>\n",
       "      <td>ESP</td>\n",
       "      <td>Madrid</td>\n",
       "      <td>primary</td>\n",
       "      <td>6006000.0</td>\n",
       "      <td>1724616994</td>\n",
       "    </tr>\n",
       "    <tr>\n",
       "      <th>159</th>\n",
       "      <td>Barcelona</td>\n",
       "      <td>Barcelona</td>\n",
       "      <td>41.3825</td>\n",
       "      <td>2.1769</td>\n",
       "      <td>Spain</td>\n",
       "      <td>ES</td>\n",
       "      <td>ESP</td>\n",
       "      <td>Catalonia</td>\n",
       "      <td>admin</td>\n",
       "      <td>4735000.0</td>\n",
       "      <td>1724594040</td>\n",
       "    </tr>\n",
       "    <tr>\n",
       "      <th>986</th>\n",
       "      <td>Valencia</td>\n",
       "      <td>Valencia</td>\n",
       "      <td>39.4700</td>\n",
       "      <td>-0.3764</td>\n",
       "      <td>Spain</td>\n",
       "      <td>ES</td>\n",
       "      <td>ESP</td>\n",
       "      <td>Valencia</td>\n",
       "      <td>admin</td>\n",
       "      <td>789744.0</td>\n",
       "      <td>1724981666</td>\n",
       "    </tr>\n",
       "    <tr>\n",
       "      <th>1094</th>\n",
       "      <td>Sevilla</td>\n",
       "      <td>Sevilla</td>\n",
       "      <td>37.3900</td>\n",
       "      <td>-5.9900</td>\n",
       "      <td>Spain</td>\n",
       "      <td>ES</td>\n",
       "      <td>ESP</td>\n",
       "      <td>Andalusia</td>\n",
       "      <td>admin</td>\n",
       "      <td>684234.0</td>\n",
       "      <td>1724991838</td>\n",
       "    </tr>\n",
       "    <tr>\n",
       "      <th>1107</th>\n",
       "      <td>Zaragoza</td>\n",
       "      <td>Zaragoza</td>\n",
       "      <td>41.6500</td>\n",
       "      <td>-0.8833</td>\n",
       "      <td>Spain</td>\n",
       "      <td>ES</td>\n",
       "      <td>ESP</td>\n",
       "      <td>Aragon</td>\n",
       "      <td>admin</td>\n",
       "      <td>675301.0</td>\n",
       "      <td>1724907391</td>\n",
       "    </tr>\n",
       "    <tr>\n",
       "      <th>...</th>\n",
       "      <td>...</td>\n",
       "      <td>...</td>\n",
       "      <td>...</td>\n",
       "      <td>...</td>\n",
       "      <td>...</td>\n",
       "      <td>...</td>\n",
       "      <td>...</td>\n",
       "      <td>...</td>\n",
       "      <td>...</td>\n",
       "      <td>...</td>\n",
       "      <td>...</td>\n",
       "    </tr>\n",
       "    <tr>\n",
       "      <th>41871</th>\n",
       "      <td>Corral de Almaguer</td>\n",
       "      <td>Corral de Almaguer</td>\n",
       "      <td>39.7594</td>\n",
       "      <td>-3.1650</td>\n",
       "      <td>Spain</td>\n",
       "      <td>ES</td>\n",
       "      <td>ESP</td>\n",
       "      <td>Castille-La Mancha</td>\n",
       "      <td>NaN</td>\n",
       "      <td>5068.0</td>\n",
       "      <td>1724842542</td>\n",
       "    </tr>\n",
       "    <tr>\n",
       "      <th>41888</th>\n",
       "      <td>Castilblanco de los Arroyos</td>\n",
       "      <td>Castilblanco de los Arroyos</td>\n",
       "      <td>37.6750</td>\n",
       "      <td>-5.9889</td>\n",
       "      <td>Spain</td>\n",
       "      <td>ES</td>\n",
       "      <td>ESP</td>\n",
       "      <td>Andalusia</td>\n",
       "      <td>NaN</td>\n",
       "      <td>5059.0</td>\n",
       "      <td>1724547049</td>\n",
       "    </tr>\n",
       "    <tr>\n",
       "      <th>41892</th>\n",
       "      <td>Candeleda</td>\n",
       "      <td>Candeleda</td>\n",
       "      <td>40.1558</td>\n",
       "      <td>-5.2408</td>\n",
       "      <td>Spain</td>\n",
       "      <td>ES</td>\n",
       "      <td>ESP</td>\n",
       "      <td>Castille-Leon</td>\n",
       "      <td>NaN</td>\n",
       "      <td>5049.0</td>\n",
       "      <td>1724648245</td>\n",
       "    </tr>\n",
       "    <tr>\n",
       "      <th>42411</th>\n",
       "      <td>Candás</td>\n",
       "      <td>Candas</td>\n",
       "      <td>43.5486</td>\n",
       "      <td>-5.7897</td>\n",
       "      <td>Spain</td>\n",
       "      <td>ES</td>\n",
       "      <td>ESP</td>\n",
       "      <td>Asturias</td>\n",
       "      <td>NaN</td>\n",
       "      <td>7193.0</td>\n",
       "      <td>1724687353</td>\n",
       "    </tr>\n",
       "    <tr>\n",
       "      <th>42580</th>\n",
       "      <td>Viella</td>\n",
       "      <td>Viella</td>\n",
       "      <td>42.7023</td>\n",
       "      <td>0.7958</td>\n",
       "      <td>Spain</td>\n",
       "      <td>ES</td>\n",
       "      <td>ESP</td>\n",
       "      <td>Catalonia</td>\n",
       "      <td>NaN</td>\n",
       "      <td>5674.0</td>\n",
       "      <td>1724352336</td>\n",
       "    </tr>\n",
       "  </tbody>\n",
       "</table>\n",
       "<p>1135 rows × 11 columns</p>\n",
       "</div>"
      ],
      "text/plain": [
       "                              city                   city_ascii      lat  \\\n",
       "102                         Madrid                       Madrid  40.4167   \n",
       "159                      Barcelona                    Barcelona  41.3825   \n",
       "986                       Valencia                     Valencia  39.4700   \n",
       "1094                       Sevilla                      Sevilla  37.3900   \n",
       "1107                      Zaragoza                     Zaragoza  41.6500   \n",
       "...                            ...                          ...      ...   \n",
       "41871           Corral de Almaguer           Corral de Almaguer  39.7594   \n",
       "41888  Castilblanco de los Arroyos  Castilblanco de los Arroyos  37.6750   \n",
       "41892                    Candeleda                    Candeleda  40.1558   \n",
       "42411                       Candás                       Candas  43.5486   \n",
       "42580                       Viella                       Viella  42.7023   \n",
       "\n",
       "          lng country iso2 iso3          admin_name  capital  population  \\\n",
       "102   -3.7167   Spain   ES  ESP              Madrid  primary   6006000.0   \n",
       "159    2.1769   Spain   ES  ESP           Catalonia    admin   4735000.0   \n",
       "986   -0.3764   Spain   ES  ESP            Valencia    admin    789744.0   \n",
       "1094  -5.9900   Spain   ES  ESP           Andalusia    admin    684234.0   \n",
       "1107  -0.8833   Spain   ES  ESP              Aragon    admin    675301.0   \n",
       "...       ...     ...  ...  ...                 ...      ...         ...   \n",
       "41871 -3.1650   Spain   ES  ESP  Castille-La Mancha      NaN      5068.0   \n",
       "41888 -5.9889   Spain   ES  ESP           Andalusia      NaN      5059.0   \n",
       "41892 -5.2408   Spain   ES  ESP       Castille-Leon      NaN      5049.0   \n",
       "42411 -5.7897   Spain   ES  ESP            Asturias      NaN      7193.0   \n",
       "42580  0.7958   Spain   ES  ESP           Catalonia      NaN      5674.0   \n",
       "\n",
       "               id  \n",
       "102    1724616994  \n",
       "159    1724594040  \n",
       "986    1724981666  \n",
       "1094   1724991838  \n",
       "1107   1724907391  \n",
       "...           ...  \n",
       "41871  1724842542  \n",
       "41888  1724547049  \n",
       "41892  1724648245  \n",
       "42411  1724687353  \n",
       "42580  1724352336  \n",
       "\n",
       "[1135 rows x 11 columns]"
      ]
     },
     "execution_count": 189,
     "metadata": {},
     "output_type": "execute_result"
    }
   ],
   "source": [
    "df = pd.read_csv('../data/worldcities/worldcities.csv')\n",
    "df[df['iso2']=='ES']"
   ]
  },
  {
   "cell_type": "markdown",
   "id": "a2a3e906",
   "metadata": {},
   "source": [
    "### Notes\n",
    "In English tweets for Ukraine 4/17/2022, the Firend Count of 0.1 quantile is 22 and the Follower Count of 0.1 quantile is 6. To remove potential fake accounts, use the tweets from uses of more than 20 Fridens, 5 Followers, and with some acctdesc. df[~((df['Friends Count'] <= 20)&( df['Follower Count'] <= 5)& df['acctdesc'].isnull())]"
   ]
  },
  {
   "cell_type": "code",
   "execution_count": null,
   "id": "dbc423c3",
   "metadata": {},
   "outputs": [],
   "source": [
    "# Rename and drop columns \n",
    "tweets_us_north = (tweets_us_north\n",
    "          .drop(columns = ['username', 'acctdesc', 'Friends Count','Account Verified', 'Favorite Count', 'hashtags'])\n",
    "          .rename(columns = {'Tweet Id': 'id', 'Tweet Date': 'date', 'Follower Count': 'follower_count', 'Retweets': 'retweets', 'Tweet Text': 'text'})\n",
    "         )"
   ]
  }
 ],
 "metadata": {
  "kernelspec": {
   "display_name": "Python 3 (ipykernel)",
   "language": "python",
   "name": "python3"
  },
  "language_info": {
   "codemirror_mode": {
    "name": "ipython",
    "version": 3
   },
   "file_extension": ".py",
   "mimetype": "text/x-python",
   "name": "python",
   "nbconvert_exporter": "python",
   "pygments_lexer": "ipython3",
   "version": "3.10.4"
  }
 },
 "nbformat": 4,
 "nbformat_minor": 5
}
