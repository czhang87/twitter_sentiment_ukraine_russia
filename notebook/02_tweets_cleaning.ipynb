{
 "cells": [
  {
   "cell_type": "markdown",
   "id": "d54bca08",
   "metadata": {},
   "source": [
    "## Preprocessing of tweets"
   ]
  },
  {
   "cell_type": "markdown",
   "id": "f32aa394",
   "metadata": {},
   "source": [
    "### Import packages"
   ]
  },
  {
   "cell_type": "code",
   "execution_count": 40,
   "id": "97b177b0",
   "metadata": {},
   "outputs": [],
   "source": [
    "import pandas as pd\n",
    "import glob\n",
    "import re\n",
    "from tqdm.auto import tqdm\n",
    "from transformers import AutoModelWithLMHead, AutoTokenizer,AutoModelForSeq2SeqLM, pipeline\n",
    "tqdm.pandas()"
   ]
  },
  {
   "cell_type": "code",
   "execution_count": 35,
   "id": "a77a02fe",
   "metadata": {},
   "outputs": [],
   "source": [
    "pd.set_option('display.max_colwidth', None)"
   ]
  },
  {
   "cell_type": "markdown",
   "id": "2208717b",
   "metadata": {},
   "source": [
    "### Regex patterns"
   ]
  },
  {
   "cell_type": "code",
   "execution_count": 3,
   "id": "c9f8fdfb",
   "metadata": {},
   "outputs": [],
   "source": [
    "pattern_filename = r'tweets_[a-z]*_[a-z]{2}'\n",
    "pattern_keyword = r'_([a-z]+)_[a-z]{2}.csv'\n",
    "pattern_lang = r'_([a-z]{2}).csv'\n",
    "# pattern to remove url, \\n, \\xxx, #hastag, @user, and \\\n",
    "pattern_sub = r'https://t.co/\\w{9,10}|\\\\n|\\\\x\\w{2}|#\\w+|@\\w+|\\\\'"
   ]
  },
  {
   "cell_type": "markdown",
   "id": "4ce1ecb5",
   "metadata": {},
   "source": [
    "### Functions"
   ]
  },
  {
   "cell_type": "code",
   "execution_count": 436,
   "id": "2b1bc10d",
   "metadata": {
    "scrolled": true
   },
   "outputs": [],
   "source": [
    "# Number of tweets per keyword and language\n",
    "def stats_keyword_lang(filepath):\n",
    "    keyword = []\n",
    "    lang = []\n",
    "    nrow = []\n",
    "    nrow_non_null = []\n",
    "    for filepath in tqdm(glob.glob(filepath)):\n",
    "        temp_df = pd.read_csv(filepath, lineterminator= '\\n', encoding= 'latin-1')\n",
    "        keyword += [re.search(pattern_keyword, filepath).group(1)]\n",
    "        lang += [re.search(pattern_lang, filepath).group(1)]\n",
    "        nrow += [temp_df.shape[0]]\n",
    "        nrow_non_null += [temp_df[~temp_df['text'].isna()].shape[0]]\n",
    "\n",
    "    df = pd.DataFrame({\n",
    "        'keyword':keyword,\n",
    "        'lang':lang,\n",
    "        'nrow':nrow,\n",
    "        'nrow_non_null':nrow_non_null\n",
    "    })\n",
    "    df['pct_non_null'] = df['nrow_non_null']/df['nrow']*100\n",
    "    return df"
   ]
  },
  {
   "cell_type": "markdown",
   "id": "b78e8e55",
   "metadata": {},
   "source": [
    "### Concatenate csv per keyword and language"
   ]
  },
  {
   "cell_type": "code",
   "execution_count": 559,
   "id": "12cc69f3",
   "metadata": {},
   "outputs": [
    {
     "name": "stdout",
     "output_type": "stream",
     "text": [
      "match\n"
     ]
    }
   ],
   "source": [
    "filepath3 = '../data/tweets/tweets_ukraine/tweets_ukraine_ja/tweets_ukraine_ja_2022_05_01.csv'\n",
    "if re.search(r'_ru_|_uk_|_zh_|_ja_|_hi_', filepath3):\n",
    "    print('match')"
   ]
  },
  {
   "cell_type": "code",
   "execution_count": 578,
   "id": "edb7c1da",
   "metadata": {
    "scrolled": true
   },
   "outputs": [
    {
     "name": "stdout",
     "output_type": "stream",
     "text": [
      "match\n"
     ]
    }
   ],
   "source": [
    "df = pd.DataFrame()\n",
    "\n",
    "filepath3 = '../data/tweets/tweets_ukraine/tweets_ukraine_zh/tweets_ukraine_zh_2022_05_01.csv'\n",
    "if re.search(r'_ru_|_uk_|_zh_|_ja_|_hi_', filepath3):  \n",
    "    print('match')\n",
    "    df_temp = pd.read_csv(filepath3, lineterminator='\\n', encoding = 'latin-1')\n",
    "else:\n",
    "    print('no match')\n",
    "    df_temp = pd.read_csv(filepath3, lineterminator='\\n', encoding = 'latin-1')\n",
    "df_temp = df_temp.dropna(subset=['location']) # remove tweets with NaN in tweet_id or text and drop duplicated text\n",
    "df_temp = df_temp[:500] # select 500 tweets per day, keyword, language\n",
    "df = pd.concat([df, df_temp]).sort_values('date')"
   ]
  },
  {
   "cell_type": "code",
   "execution_count": null,
   "id": "18e6b0ae",
   "metadata": {
    "scrolled": true
   },
   "outputs": [],
   "source": [
    "# Select tweets for four keywords\n",
    "keywords = ['ukraine', 'russia', 'zelenskyy', 'putin']\n",
    "langs = ['en', 'fr', 'es', 'pt', 'de']\n",
    "for keyword in keywords:\n",
    "    for lang in langs:\n",
    "        for filepath1 in tqdm(glob.glob(f'../data/tweets/tweets_{keyword}/tweets_{keyword}_{lang}/*')):\n",
    "            print(filepath1)"
   ]
  },
  {
   "cell_type": "code",
   "execution_count": 596,
   "id": "8d856729",
   "metadata": {
    "scrolled": true
   },
   "outputs": [
    {
     "name": "stderr",
     "output_type": "stream",
     "text": [
      "100%|███████████████████████████████████████████| 67/67 [00:03<00:00, 20.12it/s]\n",
      "100%|███████████████████████████████████████████| 51/51 [00:01<00:00, 27.06it/s]\n",
      "100%|███████████████████████████████████████████| 51/51 [00:01<00:00, 26.55it/s]\n",
      "100%|███████████████████████████████████████████| 51/51 [00:01<00:00, 30.82it/s]\n",
      "100%|███████████████████████████████████████████| 51/51 [00:01<00:00, 27.27it/s]\n",
      "100%|███████████████████████████████████████████| 67/67 [00:02<00:00, 23.02it/s]\n",
      "100%|███████████████████████████████████████████| 51/51 [00:01<00:00, 26.40it/s]\n",
      "100%|███████████████████████████████████████████| 51/51 [00:01<00:00, 26.20it/s]\n",
      "100%|███████████████████████████████████████████| 51/51 [00:01<00:00, 27.66it/s]\n",
      "100%|███████████████████████████████████████████| 51/51 [00:02<00:00, 24.80it/s]\n",
      "100%|███████████████████████████████████████████| 65/65 [00:02<00:00, 27.93it/s]\n",
      "100%|███████████████████████████████████████████| 51/51 [00:00<00:00, 53.01it/s]\n",
      "100%|██████████████████████████████████████████| 51/51 [00:00<00:00, 116.42it/s]\n",
      "100%|██████████████████████████████████████████| 51/51 [00:00<00:00, 194.89it/s]\n",
      "100%|███████████████████████████████████████████| 51/51 [00:00<00:00, 66.02it/s]\n",
      "100%|███████████████████████████████████████████| 67/67 [00:02<00:00, 22.43it/s]\n",
      "100%|███████████████████████████████████████████| 51/51 [00:01<00:00, 29.96it/s]\n",
      "100%|███████████████████████████████████████████| 51/51 [00:01<00:00, 28.40it/s]\n",
      "100%|███████████████████████████████████████████| 51/51 [00:01<00:00, 44.37it/s]\n",
      "100%|███████████████████████████████████████████| 51/51 [00:01<00:00, 29.08it/s]\n"
     ]
    }
   ],
   "source": [
    "# Select tweets for four keywords\n",
    "keywords = ['ukraine', 'russia', 'zelenskyy', 'putin']\n",
    "langs = ['en', 'fr', 'es', 'pt', 'de']\n",
    "for keyword in keywords:\n",
    "    for lang in langs:\n",
    "        df = pd.DataFrame()\n",
    "        for filepath in tqdm(glob.glob(f'../data/tweets/tweets_{keyword}/tweets_{keyword}_{lang}/*')):\n",
    "            df_temp = pd.read_csv(filepath, lineterminator='\\n', encoding= 'latin-1')\n",
    "            df_temp = df_temp.dropna(subset=['location'])  # remove tweets with NaN in location\n",
    "            df_temp = df_temp[:500] # select 500 tweets per day, keyword, language\n",
    "            df = pd.concat([df, df_temp]).sort_values('date')\n",
    "        df = df.dropna(subset = ['tweet_id', 'text']).drop_duplicates('text')  # remove tweets with NaN in tweet_id or text and drop duplicated text\n",
    "        df.to_csv(f'../data/tweets_final/tweets_{keyword}_{lang}.csv', index=False)\n",
    "        "
   ]
  },
  {
   "cell_type": "code",
   "execution_count": 597,
   "id": "fbdc105f",
   "metadata": {},
   "outputs": [
    {
     "name": "stderr",
     "output_type": "stream",
     "text": [
      "100%|███████████████████████████████████████████| 20/20 [00:01<00:00, 10.69it/s]\n"
     ]
    }
   ],
   "source": [
    "# Number of tweets per keyword and language\n",
    "filepath = '../data/tweets_final/*'\n",
    "df = stats_keyword_lang(filepath)"
   ]
  },
  {
   "cell_type": "code",
   "execution_count": 598,
   "id": "12999ebd",
   "metadata": {
    "scrolled": true
   },
   "outputs": [
    {
     "data": {
      "text/html": [
       "<div>\n",
       "<style scoped>\n",
       "    .dataframe tbody tr th:only-of-type {\n",
       "        vertical-align: middle;\n",
       "    }\n",
       "\n",
       "    .dataframe tbody tr th {\n",
       "        vertical-align: top;\n",
       "    }\n",
       "\n",
       "    .dataframe thead th {\n",
       "        text-align: right;\n",
       "    }\n",
       "</style>\n",
       "<table border=\"1\" class=\"dataframe\">\n",
       "  <thead>\n",
       "    <tr style=\"text-align: right;\">\n",
       "      <th></th>\n",
       "      <th>keyword</th>\n",
       "      <th>lang</th>\n",
       "      <th>nrow</th>\n",
       "      <th>nrow_non_null</th>\n",
       "      <th>pct_non_null</th>\n",
       "    </tr>\n",
       "  </thead>\n",
       "  <tbody>\n",
       "    <tr>\n",
       "      <th>9</th>\n",
       "      <td>russia</td>\n",
       "      <td>en</td>\n",
       "      <td>23308</td>\n",
       "      <td>23308</td>\n",
       "      <td>100.0</td>\n",
       "    </tr>\n",
       "    <tr>\n",
       "      <th>16</th>\n",
       "      <td>putin</td>\n",
       "      <td>en</td>\n",
       "      <td>23027</td>\n",
       "      <td>23027</td>\n",
       "      <td>100.0</td>\n",
       "    </tr>\n",
       "    <tr>\n",
       "      <th>1</th>\n",
       "      <td>ukraine</td>\n",
       "      <td>en</td>\n",
       "      <td>22690</td>\n",
       "      <td>22690</td>\n",
       "      <td>100.0</td>\n",
       "    </tr>\n",
       "    <tr>\n",
       "      <th>3</th>\n",
       "      <td>russia</td>\n",
       "      <td>fr</td>\n",
       "      <td>22454</td>\n",
       "      <td>22454</td>\n",
       "      <td>100.0</td>\n",
       "    </tr>\n",
       "    <tr>\n",
       "      <th>13</th>\n",
       "      <td>russia</td>\n",
       "      <td>de</td>\n",
       "      <td>22450</td>\n",
       "      <td>22450</td>\n",
       "      <td>100.0</td>\n",
       "    </tr>\n",
       "    <tr>\n",
       "      <th>0</th>\n",
       "      <td>ukraine</td>\n",
       "      <td>fr</td>\n",
       "      <td>22442</td>\n",
       "      <td>22442</td>\n",
       "      <td>100.0</td>\n",
       "    </tr>\n",
       "    <tr>\n",
       "      <th>12</th>\n",
       "      <td>putin</td>\n",
       "      <td>fr</td>\n",
       "      <td>22439</td>\n",
       "      <td>22439</td>\n",
       "      <td>100.0</td>\n",
       "    </tr>\n",
       "    <tr>\n",
       "      <th>4</th>\n",
       "      <td>putin</td>\n",
       "      <td>de</td>\n",
       "      <td>22432</td>\n",
       "      <td>22432</td>\n",
       "      <td>100.0</td>\n",
       "    </tr>\n",
       "    <tr>\n",
       "      <th>18</th>\n",
       "      <td>ukraine</td>\n",
       "      <td>de</td>\n",
       "      <td>22431</td>\n",
       "      <td>22431</td>\n",
       "      <td>100.0</td>\n",
       "    </tr>\n",
       "    <tr>\n",
       "      <th>17</th>\n",
       "      <td>ukraine</td>\n",
       "      <td>pt</td>\n",
       "      <td>22422</td>\n",
       "      <td>22422</td>\n",
       "      <td>100.0</td>\n",
       "    </tr>\n",
       "    <tr>\n",
       "      <th>11</th>\n",
       "      <td>russia</td>\n",
       "      <td>pt</td>\n",
       "      <td>22412</td>\n",
       "      <td>22412</td>\n",
       "      <td>100.0</td>\n",
       "    </tr>\n",
       "    <tr>\n",
       "      <th>15</th>\n",
       "      <td>russia</td>\n",
       "      <td>es</td>\n",
       "      <td>22308</td>\n",
       "      <td>22308</td>\n",
       "      <td>100.0</td>\n",
       "    </tr>\n",
       "    <tr>\n",
       "      <th>6</th>\n",
       "      <td>putin</td>\n",
       "      <td>es</td>\n",
       "      <td>22233</td>\n",
       "      <td>22233</td>\n",
       "      <td>100.0</td>\n",
       "    </tr>\n",
       "    <tr>\n",
       "      <th>2</th>\n",
       "      <td>putin</td>\n",
       "      <td>pt</td>\n",
       "      <td>22107</td>\n",
       "      <td>22107</td>\n",
       "      <td>100.0</td>\n",
       "    </tr>\n",
       "    <tr>\n",
       "      <th>10</th>\n",
       "      <td>zelenskyy</td>\n",
       "      <td>en</td>\n",
       "      <td>21782</td>\n",
       "      <td>21782</td>\n",
       "      <td>100.0</td>\n",
       "    </tr>\n",
       "    <tr>\n",
       "      <th>19</th>\n",
       "      <td>ukraine</td>\n",
       "      <td>es</td>\n",
       "      <td>20797</td>\n",
       "      <td>20797</td>\n",
       "      <td>100.0</td>\n",
       "    </tr>\n",
       "    <tr>\n",
       "      <th>14</th>\n",
       "      <td>zelenskyy</td>\n",
       "      <td>fr</td>\n",
       "      <td>17877</td>\n",
       "      <td>17877</td>\n",
       "      <td>100.0</td>\n",
       "    </tr>\n",
       "    <tr>\n",
       "      <th>7</th>\n",
       "      <td>zelenskyy</td>\n",
       "      <td>de</td>\n",
       "      <td>14148</td>\n",
       "      <td>14148</td>\n",
       "      <td>100.0</td>\n",
       "    </tr>\n",
       "    <tr>\n",
       "      <th>5</th>\n",
       "      <td>zelenskyy</td>\n",
       "      <td>es</td>\n",
       "      <td>5218</td>\n",
       "      <td>5218</td>\n",
       "      <td>100.0</td>\n",
       "    </tr>\n",
       "    <tr>\n",
       "      <th>8</th>\n",
       "      <td>zelenskyy</td>\n",
       "      <td>pt</td>\n",
       "      <td>1692</td>\n",
       "      <td>1692</td>\n",
       "      <td>100.0</td>\n",
       "    </tr>\n",
       "  </tbody>\n",
       "</table>\n",
       "</div>"
      ],
      "text/plain": [
       "      keyword lang   nrow  nrow_non_null  pct_non_null\n",
       "9      russia   en  23308          23308         100.0\n",
       "16      putin   en  23027          23027         100.0\n",
       "1     ukraine   en  22690          22690         100.0\n",
       "3      russia   fr  22454          22454         100.0\n",
       "13     russia   de  22450          22450         100.0\n",
       "0     ukraine   fr  22442          22442         100.0\n",
       "12      putin   fr  22439          22439         100.0\n",
       "4       putin   de  22432          22432         100.0\n",
       "18    ukraine   de  22431          22431         100.0\n",
       "17    ukraine   pt  22422          22422         100.0\n",
       "11     russia   pt  22412          22412         100.0\n",
       "15     russia   es  22308          22308         100.0\n",
       "6       putin   es  22233          22233         100.0\n",
       "2       putin   pt  22107          22107         100.0\n",
       "10  zelenskyy   en  21782          21782         100.0\n",
       "19    ukraine   es  20797          20797         100.0\n",
       "14  zelenskyy   fr  17877          17877         100.0\n",
       "7   zelenskyy   de  14148          14148         100.0\n",
       "5   zelenskyy   es   5218           5218         100.0\n",
       "8   zelenskyy   pt   1692           1692         100.0"
      ]
     },
     "execution_count": 598,
     "metadata": {},
     "output_type": "execute_result"
    }
   ],
   "source": [
    "df.sort_values('nrow_non_null', ascending = False)"
   ]
  },
  {
   "cell_type": "code",
   "execution_count": 599,
   "id": "c9f0d74a",
   "metadata": {
    "scrolled": true
   },
   "outputs": [
    {
     "data": {
      "text/html": [
       "<div>\n",
       "<style scoped>\n",
       "    .dataframe tbody tr th:only-of-type {\n",
       "        vertical-align: middle;\n",
       "    }\n",
       "\n",
       "    .dataframe tbody tr th {\n",
       "        vertical-align: top;\n",
       "    }\n",
       "\n",
       "    .dataframe thead th {\n",
       "        text-align: right;\n",
       "    }\n",
       "</style>\n",
       "<table border=\"1\" class=\"dataframe\">\n",
       "  <thead>\n",
       "    <tr style=\"text-align: right;\">\n",
       "      <th></th>\n",
       "      <th>nrow</th>\n",
       "      <th>nrow_non_null</th>\n",
       "      <th>pct_non_null</th>\n",
       "    </tr>\n",
       "    <tr>\n",
       "      <th>keyword</th>\n",
       "      <th></th>\n",
       "      <th></th>\n",
       "      <th></th>\n",
       "    </tr>\n",
       "  </thead>\n",
       "  <tbody>\n",
       "    <tr>\n",
       "      <th>russia</th>\n",
       "      <td>112932</td>\n",
       "      <td>112932</td>\n",
       "      <td>500.0</td>\n",
       "    </tr>\n",
       "    <tr>\n",
       "      <th>putin</th>\n",
       "      <td>112238</td>\n",
       "      <td>112238</td>\n",
       "      <td>500.0</td>\n",
       "    </tr>\n",
       "    <tr>\n",
       "      <th>ukraine</th>\n",
       "      <td>110782</td>\n",
       "      <td>110782</td>\n",
       "      <td>500.0</td>\n",
       "    </tr>\n",
       "    <tr>\n",
       "      <th>zelenskyy</th>\n",
       "      <td>60717</td>\n",
       "      <td>60717</td>\n",
       "      <td>500.0</td>\n",
       "    </tr>\n",
       "  </tbody>\n",
       "</table>\n",
       "</div>"
      ],
      "text/plain": [
       "             nrow  nrow_non_null  pct_non_null\n",
       "keyword                                       \n",
       "russia     112932         112932         500.0\n",
       "putin      112238         112238         500.0\n",
       "ukraine    110782         110782         500.0\n",
       "zelenskyy   60717          60717         500.0"
      ]
     },
     "execution_count": 599,
     "metadata": {},
     "output_type": "execute_result"
    }
   ],
   "source": [
    "df.groupby('keyword').sum().sort_values('nrow_non_null', ascending = False)"
   ]
  },
  {
   "cell_type": "code",
   "execution_count": 600,
   "id": "d6fafbcb",
   "metadata": {
    "scrolled": true
   },
   "outputs": [
    {
     "data": {
      "text/html": [
       "<div>\n",
       "<style scoped>\n",
       "    .dataframe tbody tr th:only-of-type {\n",
       "        vertical-align: middle;\n",
       "    }\n",
       "\n",
       "    .dataframe tbody tr th {\n",
       "        vertical-align: top;\n",
       "    }\n",
       "\n",
       "    .dataframe thead th {\n",
       "        text-align: right;\n",
       "    }\n",
       "</style>\n",
       "<table border=\"1\" class=\"dataframe\">\n",
       "  <thead>\n",
       "    <tr style=\"text-align: right;\">\n",
       "      <th></th>\n",
       "      <th>nrow</th>\n",
       "      <th>nrow_non_null</th>\n",
       "      <th>pct_non_null</th>\n",
       "    </tr>\n",
       "    <tr>\n",
       "      <th>lang</th>\n",
       "      <th></th>\n",
       "      <th></th>\n",
       "      <th></th>\n",
       "    </tr>\n",
       "  </thead>\n",
       "  <tbody>\n",
       "    <tr>\n",
       "      <th>en</th>\n",
       "      <td>90807</td>\n",
       "      <td>90807</td>\n",
       "      <td>400.0</td>\n",
       "    </tr>\n",
       "    <tr>\n",
       "      <th>fr</th>\n",
       "      <td>85212</td>\n",
       "      <td>85212</td>\n",
       "      <td>400.0</td>\n",
       "    </tr>\n",
       "    <tr>\n",
       "      <th>de</th>\n",
       "      <td>81461</td>\n",
       "      <td>81461</td>\n",
       "      <td>400.0</td>\n",
       "    </tr>\n",
       "    <tr>\n",
       "      <th>es</th>\n",
       "      <td>70556</td>\n",
       "      <td>70556</td>\n",
       "      <td>400.0</td>\n",
       "    </tr>\n",
       "    <tr>\n",
       "      <th>pt</th>\n",
       "      <td>68633</td>\n",
       "      <td>68633</td>\n",
       "      <td>400.0</td>\n",
       "    </tr>\n",
       "  </tbody>\n",
       "</table>\n",
       "</div>"
      ],
      "text/plain": [
       "       nrow  nrow_non_null  pct_non_null\n",
       "lang                                    \n",
       "en    90807          90807         400.0\n",
       "fr    85212          85212         400.0\n",
       "de    81461          81461         400.0\n",
       "es    70556          70556         400.0\n",
       "pt    68633          68633         400.0"
      ]
     },
     "execution_count": 600,
     "metadata": {},
     "output_type": "execute_result"
    }
   ],
   "source": [
    "df.groupby('lang').sum().sort_values('nrow_non_null', ascending = False)"
   ]
  },
  {
   "cell_type": "code",
   "execution_count": 601,
   "id": "2bcacebe",
   "metadata": {},
   "outputs": [
    {
     "data": {
      "text/plain": [
       "305862"
      ]
     },
     "execution_count": 601,
     "metadata": {},
     "output_type": "execute_result"
    }
   ],
   "source": [
    "df[df['lang']!='en']['nrow_non_null'].sum()"
   ]
  },
  {
   "cell_type": "markdown",
   "id": "65ab5fa5",
   "metadata": {},
   "source": [
    "### Clean tweets\n",
    "Remove b and '', url, \\n, \\xxx, #hastag, @user, and \\"
   ]
  },
  {
   "cell_type": "code",
   "execution_count": 602,
   "id": "800b1ef6",
   "metadata": {
    "scrolled": true
   },
   "outputs": [
    {
     "name": "stderr",
     "output_type": "stream",
     "text": [
      "100%|███████████████████████████████████████████| 20/20 [00:08<00:00,  2.30it/s]\n"
     ]
    }
   ],
   "source": [
    "for filepath in tqdm(glob.glob('../data/tweets_final/*')):\n",
    "    df = pd.read_csv(filepath,lineterminator='\\n', encoding= 'latin-1')\n",
    "    df['text'] = df['text'].apply(lambda x: re.sub(pattern_sub, '', repr(str(x).strip(\"b'\")).strip(\"'\")))\n",
    "    df.to_csv(filepath, index=False)"
   ]
  },
  {
   "cell_type": "code",
   "execution_count": 603,
   "id": "b85f2187",
   "metadata": {},
   "outputs": [
    {
     "name": "stderr",
     "output_type": "stream",
     "text": [
      "100%|███████████████████████████████████████████| 20/20 [00:01<00:00, 10.45it/s]\n"
     ]
    }
   ],
   "source": [
    "# Number of tweets per keyword and language\n",
    "filepath = '../data/tweets_final/*'\n",
    "df = stats_keyword_lang(filepath)"
   ]
  },
  {
   "cell_type": "code",
   "execution_count": 604,
   "id": "05f65274",
   "metadata": {
    "scrolled": true
   },
   "outputs": [
    {
     "data": {
      "text/html": [
       "<div>\n",
       "<style scoped>\n",
       "    .dataframe tbody tr th:only-of-type {\n",
       "        vertical-align: middle;\n",
       "    }\n",
       "\n",
       "    .dataframe tbody tr th {\n",
       "        vertical-align: top;\n",
       "    }\n",
       "\n",
       "    .dataframe thead th {\n",
       "        text-align: right;\n",
       "    }\n",
       "</style>\n",
       "<table border=\"1\" class=\"dataframe\">\n",
       "  <thead>\n",
       "    <tr style=\"text-align: right;\">\n",
       "      <th></th>\n",
       "      <th>keyword</th>\n",
       "      <th>lang</th>\n",
       "      <th>nrow</th>\n",
       "      <th>nrow_non_null</th>\n",
       "      <th>pct_non_null</th>\n",
       "    </tr>\n",
       "  </thead>\n",
       "  <tbody>\n",
       "    <tr>\n",
       "      <th>9</th>\n",
       "      <td>russia</td>\n",
       "      <td>en</td>\n",
       "      <td>23308</td>\n",
       "      <td>23308</td>\n",
       "      <td>100.0</td>\n",
       "    </tr>\n",
       "    <tr>\n",
       "      <th>16</th>\n",
       "      <td>putin</td>\n",
       "      <td>en</td>\n",
       "      <td>23027</td>\n",
       "      <td>23027</td>\n",
       "      <td>100.0</td>\n",
       "    </tr>\n",
       "    <tr>\n",
       "      <th>1</th>\n",
       "      <td>ukraine</td>\n",
       "      <td>en</td>\n",
       "      <td>22690</td>\n",
       "      <td>22690</td>\n",
       "      <td>100.0</td>\n",
       "    </tr>\n",
       "    <tr>\n",
       "      <th>3</th>\n",
       "      <td>russia</td>\n",
       "      <td>fr</td>\n",
       "      <td>22454</td>\n",
       "      <td>22454</td>\n",
       "      <td>100.0</td>\n",
       "    </tr>\n",
       "    <tr>\n",
       "      <th>13</th>\n",
       "      <td>russia</td>\n",
       "      <td>de</td>\n",
       "      <td>22450</td>\n",
       "      <td>22450</td>\n",
       "      <td>100.0</td>\n",
       "    </tr>\n",
       "    <tr>\n",
       "      <th>0</th>\n",
       "      <td>ukraine</td>\n",
       "      <td>fr</td>\n",
       "      <td>22442</td>\n",
       "      <td>22442</td>\n",
       "      <td>100.0</td>\n",
       "    </tr>\n",
       "    <tr>\n",
       "      <th>12</th>\n",
       "      <td>putin</td>\n",
       "      <td>fr</td>\n",
       "      <td>22439</td>\n",
       "      <td>22439</td>\n",
       "      <td>100.0</td>\n",
       "    </tr>\n",
       "    <tr>\n",
       "      <th>4</th>\n",
       "      <td>putin</td>\n",
       "      <td>de</td>\n",
       "      <td>22432</td>\n",
       "      <td>22432</td>\n",
       "      <td>100.0</td>\n",
       "    </tr>\n",
       "    <tr>\n",
       "      <th>18</th>\n",
       "      <td>ukraine</td>\n",
       "      <td>de</td>\n",
       "      <td>22431</td>\n",
       "      <td>22431</td>\n",
       "      <td>100.0</td>\n",
       "    </tr>\n",
       "    <tr>\n",
       "      <th>17</th>\n",
       "      <td>ukraine</td>\n",
       "      <td>pt</td>\n",
       "      <td>22422</td>\n",
       "      <td>22422</td>\n",
       "      <td>100.0</td>\n",
       "    </tr>\n",
       "    <tr>\n",
       "      <th>11</th>\n",
       "      <td>russia</td>\n",
       "      <td>pt</td>\n",
       "      <td>22412</td>\n",
       "      <td>22412</td>\n",
       "      <td>100.0</td>\n",
       "    </tr>\n",
       "    <tr>\n",
       "      <th>15</th>\n",
       "      <td>russia</td>\n",
       "      <td>es</td>\n",
       "      <td>22308</td>\n",
       "      <td>22308</td>\n",
       "      <td>100.0</td>\n",
       "    </tr>\n",
       "    <tr>\n",
       "      <th>6</th>\n",
       "      <td>putin</td>\n",
       "      <td>es</td>\n",
       "      <td>22233</td>\n",
       "      <td>22233</td>\n",
       "      <td>100.0</td>\n",
       "    </tr>\n",
       "    <tr>\n",
       "      <th>2</th>\n",
       "      <td>putin</td>\n",
       "      <td>pt</td>\n",
       "      <td>22107</td>\n",
       "      <td>22107</td>\n",
       "      <td>100.0</td>\n",
       "    </tr>\n",
       "    <tr>\n",
       "      <th>10</th>\n",
       "      <td>zelenskyy</td>\n",
       "      <td>en</td>\n",
       "      <td>21782</td>\n",
       "      <td>21782</td>\n",
       "      <td>100.0</td>\n",
       "    </tr>\n",
       "    <tr>\n",
       "      <th>19</th>\n",
       "      <td>ukraine</td>\n",
       "      <td>es</td>\n",
       "      <td>20797</td>\n",
       "      <td>20797</td>\n",
       "      <td>100.0</td>\n",
       "    </tr>\n",
       "    <tr>\n",
       "      <th>14</th>\n",
       "      <td>zelenskyy</td>\n",
       "      <td>fr</td>\n",
       "      <td>17877</td>\n",
       "      <td>17877</td>\n",
       "      <td>100.0</td>\n",
       "    </tr>\n",
       "    <tr>\n",
       "      <th>7</th>\n",
       "      <td>zelenskyy</td>\n",
       "      <td>de</td>\n",
       "      <td>14148</td>\n",
       "      <td>14148</td>\n",
       "      <td>100.0</td>\n",
       "    </tr>\n",
       "    <tr>\n",
       "      <th>5</th>\n",
       "      <td>zelenskyy</td>\n",
       "      <td>es</td>\n",
       "      <td>5218</td>\n",
       "      <td>5218</td>\n",
       "      <td>100.0</td>\n",
       "    </tr>\n",
       "    <tr>\n",
       "      <th>8</th>\n",
       "      <td>zelenskyy</td>\n",
       "      <td>pt</td>\n",
       "      <td>1692</td>\n",
       "      <td>1692</td>\n",
       "      <td>100.0</td>\n",
       "    </tr>\n",
       "  </tbody>\n",
       "</table>\n",
       "</div>"
      ],
      "text/plain": [
       "      keyword lang   nrow  nrow_non_null  pct_non_null\n",
       "9      russia   en  23308          23308         100.0\n",
       "16      putin   en  23027          23027         100.0\n",
       "1     ukraine   en  22690          22690         100.0\n",
       "3      russia   fr  22454          22454         100.0\n",
       "13     russia   de  22450          22450         100.0\n",
       "0     ukraine   fr  22442          22442         100.0\n",
       "12      putin   fr  22439          22439         100.0\n",
       "4       putin   de  22432          22432         100.0\n",
       "18    ukraine   de  22431          22431         100.0\n",
       "17    ukraine   pt  22422          22422         100.0\n",
       "11     russia   pt  22412          22412         100.0\n",
       "15     russia   es  22308          22308         100.0\n",
       "6       putin   es  22233          22233         100.0\n",
       "2       putin   pt  22107          22107         100.0\n",
       "10  zelenskyy   en  21782          21782         100.0\n",
       "19    ukraine   es  20797          20797         100.0\n",
       "14  zelenskyy   fr  17877          17877         100.0\n",
       "7   zelenskyy   de  14148          14148         100.0\n",
       "5   zelenskyy   es   5218           5218         100.0\n",
       "8   zelenskyy   pt   1692           1692         100.0"
      ]
     },
     "execution_count": 604,
     "metadata": {},
     "output_type": "execute_result"
    }
   ],
   "source": [
    "df.sort_values('nrow_non_null', ascending = False)"
   ]
  },
  {
   "cell_type": "code",
   "execution_count": 605,
   "id": "5871d306",
   "metadata": {
    "scrolled": false
   },
   "outputs": [
    {
     "data": {
      "text/html": [
       "<div>\n",
       "<style scoped>\n",
       "    .dataframe tbody tr th:only-of-type {\n",
       "        vertical-align: middle;\n",
       "    }\n",
       "\n",
       "    .dataframe tbody tr th {\n",
       "        vertical-align: top;\n",
       "    }\n",
       "\n",
       "    .dataframe thead th {\n",
       "        text-align: right;\n",
       "    }\n",
       "</style>\n",
       "<table border=\"1\" class=\"dataframe\">\n",
       "  <thead>\n",
       "    <tr style=\"text-align: right;\">\n",
       "      <th></th>\n",
       "      <th>nrow</th>\n",
       "      <th>nrow_non_null</th>\n",
       "      <th>pct_non_null</th>\n",
       "    </tr>\n",
       "    <tr>\n",
       "      <th>keyword</th>\n",
       "      <th></th>\n",
       "      <th></th>\n",
       "      <th></th>\n",
       "    </tr>\n",
       "  </thead>\n",
       "  <tbody>\n",
       "    <tr>\n",
       "      <th>russia</th>\n",
       "      <td>112932</td>\n",
       "      <td>112932</td>\n",
       "      <td>500.0</td>\n",
       "    </tr>\n",
       "    <tr>\n",
       "      <th>putin</th>\n",
       "      <td>112238</td>\n",
       "      <td>112238</td>\n",
       "      <td>500.0</td>\n",
       "    </tr>\n",
       "    <tr>\n",
       "      <th>ukraine</th>\n",
       "      <td>110782</td>\n",
       "      <td>110782</td>\n",
       "      <td>500.0</td>\n",
       "    </tr>\n",
       "    <tr>\n",
       "      <th>zelenskyy</th>\n",
       "      <td>60717</td>\n",
       "      <td>60717</td>\n",
       "      <td>500.0</td>\n",
       "    </tr>\n",
       "  </tbody>\n",
       "</table>\n",
       "</div>"
      ],
      "text/plain": [
       "             nrow  nrow_non_null  pct_non_null\n",
       "keyword                                       \n",
       "russia     112932         112932         500.0\n",
       "putin      112238         112238         500.0\n",
       "ukraine    110782         110782         500.0\n",
       "zelenskyy   60717          60717         500.0"
      ]
     },
     "execution_count": 605,
     "metadata": {},
     "output_type": "execute_result"
    }
   ],
   "source": [
    "df.groupby('keyword').sum().sort_values('nrow_non_null', ascending = False)"
   ]
  },
  {
   "cell_type": "code",
   "execution_count": 606,
   "id": "352eb3e2",
   "metadata": {},
   "outputs": [
    {
     "data": {
      "text/plain": [
       "305862"
      ]
     },
     "execution_count": 606,
     "metadata": {},
     "output_type": "execute_result"
    }
   ],
   "source": [
    "df[df['lang']!='en']['nrow_non_null'].sum()"
   ]
  },
  {
   "cell_type": "markdown",
   "id": "a2a3e906",
   "metadata": {},
   "source": [
    "### Select subset of tweets and delete potential fake accounts"
   ]
  },
  {
   "cell_type": "code",
   "execution_count": 608,
   "id": "36603c4c",
   "metadata": {},
   "outputs": [
    {
     "name": "stderr",
     "output_type": "stream",
     "text": [
      "100%|█████████████████████████████████████████████| 5/5 [00:00<00:00,  6.27it/s]\n",
      "100%|█████████████████████████████████████████████| 5/5 [00:00<00:00,  5.74it/s]\n",
      "100%|█████████████████████████████████████████████| 5/5 [00:00<00:00,  9.90it/s]\n",
      "100%|█████████████████████████████████████████████| 5/5 [00:00<00:00,  5.94it/s]\n"
     ]
    }
   ],
   "source": [
    "# Select tweets for four keywords\n",
    "keywords = ['ukraine', 'russia', 'zelenskyy', 'putin']\n",
    "for keyword in keywords:\n",
    "    for filepath in tqdm(glob.glob(f'../data/tweets_final/tweets_{keyword}*')):\n",
    "        df = pd.read_csv(filepath,lineterminator='\\n', encoding= 'latin-1')    \n",
    "        # Select tweets before 2022-04-16\n",
    "        df['date'] = pd.to_datetime(df['date'], errors='coerce', format='%Y-%m-%d %H:%M:%S')\n",
    "        df = df[df['date']<='2022-04-16']\n",
    "        # Delete potential fake accounts\n",
    "        df['friends_ount'] = pd.to_numeric(df['friends_ount'], errors= 'coerce').fillna(0)\n",
    "        df['followers_ount'] = pd.to_numeric(df['followers_ount'], errors= 'coerce').fillna(0) \n",
    "        df = df[~((df['friends_ount'] <= 20)&( df['followers_ount'] <= 5)& df['acct_desc'].isnull())]\n",
    "        filepath_new = re.sub('tweets_final', 'tweets_translated', filepath)\n",
    "        df.to_csv(filepath_new, index=False)"
   ]
  },
  {
   "cell_type": "code",
   "execution_count": 609,
   "id": "d4e72703",
   "metadata": {},
   "outputs": [
    {
     "name": "stderr",
     "output_type": "stream",
     "text": [
      "100%|███████████████████████████████████████████| 20/20 [00:00<00:00, 55.95it/s]\n"
     ]
    }
   ],
   "source": [
    "# Number of tweets per keyword and language\n",
    "filepath = '../data/tweets_translated/*'\n",
    "df = stats_keyword_lang(filepath)"
   ]
  },
  {
   "cell_type": "code",
   "execution_count": 610,
   "id": "b9da1042",
   "metadata": {},
   "outputs": [
    {
     "data": {
      "text/html": [
       "<div>\n",
       "<style scoped>\n",
       "    .dataframe tbody tr th:only-of-type {\n",
       "        vertical-align: middle;\n",
       "    }\n",
       "\n",
       "    .dataframe tbody tr th {\n",
       "        vertical-align: top;\n",
       "    }\n",
       "\n",
       "    .dataframe thead th {\n",
       "        text-align: right;\n",
       "    }\n",
       "</style>\n",
       "<table border=\"1\" class=\"dataframe\">\n",
       "  <thead>\n",
       "    <tr style=\"text-align: right;\">\n",
       "      <th></th>\n",
       "      <th>nrow</th>\n",
       "      <th>nrow_non_null</th>\n",
       "      <th>pct_non_null</th>\n",
       "    </tr>\n",
       "    <tr>\n",
       "      <th>lang</th>\n",
       "      <th></th>\n",
       "      <th></th>\n",
       "      <th></th>\n",
       "    </tr>\n",
       "  </thead>\n",
       "  <tbody>\n",
       "    <tr>\n",
       "      <th>en</th>\n",
       "      <td>14347</td>\n",
       "      <td>14347</td>\n",
       "      <td>400.0</td>\n",
       "    </tr>\n",
       "    <tr>\n",
       "      <th>de</th>\n",
       "      <td>11465</td>\n",
       "      <td>11465</td>\n",
       "      <td>400.0</td>\n",
       "    </tr>\n",
       "    <tr>\n",
       "      <th>fr</th>\n",
       "      <td>11305</td>\n",
       "      <td>11305</td>\n",
       "      <td>400.0</td>\n",
       "    </tr>\n",
       "    <tr>\n",
       "      <th>es</th>\n",
       "      <td>9895</td>\n",
       "      <td>9895</td>\n",
       "      <td>400.0</td>\n",
       "    </tr>\n",
       "    <tr>\n",
       "      <th>pt</th>\n",
       "      <td>8946</td>\n",
       "      <td>8946</td>\n",
       "      <td>400.0</td>\n",
       "    </tr>\n",
       "  </tbody>\n",
       "</table>\n",
       "</div>"
      ],
      "text/plain": [
       "       nrow  nrow_non_null  pct_non_null\n",
       "lang                                    \n",
       "en    14347          14347         400.0\n",
       "de    11465          11465         400.0\n",
       "fr    11305          11305         400.0\n",
       "es     9895           9895         400.0\n",
       "pt     8946           8946         400.0"
      ]
     },
     "execution_count": 610,
     "metadata": {},
     "output_type": "execute_result"
    }
   ],
   "source": [
    "df.groupby('lang').sum().sort_values('nrow_non_null', ascending = False)"
   ]
  },
  {
   "cell_type": "code",
   "execution_count": 611,
   "id": "6f5ba112",
   "metadata": {},
   "outputs": [
    {
     "data": {
      "text/plain": [
       "41611"
      ]
     },
     "execution_count": 611,
     "metadata": {},
     "output_type": "execute_result"
    }
   ],
   "source": [
    "df[df['lang']!='en']['nrow_non_null'].sum()"
   ]
  },
  {
   "cell_type": "markdown",
   "id": "373ada15",
   "metadata": {},
   "source": [
    "### Translation of tweets to English"
   ]
  },
  {
   "cell_type": "code",
   "execution_count": 626,
   "id": "f2c8ca55",
   "metadata": {},
   "outputs": [
    {
     "name": "stderr",
     "output_type": "stream",
     "text": [
      "/Users/chengxianzhang/anaconda3/envs/huggingface/lib/python3.10/site-packages/transformers/models/auto/modeling_auto.py:907: FutureWarning: The class `AutoModelWithLMHead` is deprecated and will be removed in a future version. Please use `AutoModelForCausalLM` for causal language models, `AutoModelForMaskedLM` for masked language models and `AutoModelForSeq2SeqLM` for encoder-decoder models.\n",
      "  warnings.warn(\n"
     ]
    }
   ],
   "source": [
    "# Pretrained models\n",
    "model_es_en = AutoModelWithLMHead.from_pretrained(\"Helsinki-NLP/opus-mt-es-en\")\n",
    "model_pt_en = AutoModelForSeq2SeqLM.from_pretrained(\"unicamp-dl/translation-pt-en-t5\")\n",
    "model_fr_en = AutoModelWithLMHead.from_pretrained(\"Helsinki-NLP/opus-mt-fr-en\")\n",
    "model_de_en = AutoModelWithLMHead.from_pretrained(\"Helsinki-NLP/opus-mt-de-en\")\n",
    "# model_ru_en = AutoModelWithLMHead.from_pretrained(\"Helsinki-NLP/opus-mt-ru-en\")\n",
    "# model_uk_en = AutoModelWithLMHead.from_pretrained(\"Helsinki-NLP/opus-mt-uk-en\")\n",
    "# model_zh_en = AutoModelWithLMHead.from_pretrained(\"Helsinki-NLP/opus-mt-zh-en\")\n",
    "# model_ja_en = AutoModelWithLMHead.from_pretrained(\"Helsinki-NLP/opus-mt-ja-en\")\n",
    "# model_hi_en = AutoModelWithLMHead.from_pretrained(\"Helsinki-NLP/opus-mt-hi-en\")\n",
    "\n",
    "# Pretrained tokenizers\n",
    "tokenizer_es_en = AutoTokenizer.from_pretrained(\"Helsinki-NLP/opus-mt-es-en\")\n",
    "tokenizer_pt_en = AutoTokenizer.from_pretrained(\"unicamp-dl/translation-pt-en-t5\")\n",
    "tokenizer_fr_en = AutoTokenizer.from_pretrained(\"Helsinki-NLP/opus-mt-fr-en\")\n",
    "tokenizer_de_en = AutoTokenizer.from_pretrained(\"Helsinki-NLP/opus-mt-de-en\")\n",
    "# tokenizer_ru_en = AutoTokenizer.from_pretrained(\"Helsinki-NLP/opus-mt-ru-en\")\n",
    "# tokenizer_uk_en = AutoTokenizer.from_pretrained(\"Helsinki-NLP/opus-mt-uk-en\")\n",
    "# tokenizer_zh_en = AutoTokenizer.from_pretrained(\"Helsinki-NLP/opus-mt-zh-en\")\n",
    "# tokenizer_ja_en = AutoTokenizer.from_pretrained(\"Helsinki-NLP/opus-mt-ja-en\")\n",
    "# tokenizer_hi_en = AutoTokenizer.from_pretrained(\"Helsinki-NLP/opus-mt-hi-en\")\n",
    "\n",
    "# Translation pipelines\n",
    "pipeline_es_en = pipeline(\"translation_es_to_en\", model=model_es_en, tokenizer=tokenizer_es_en)\n",
    "pipeline_pt_en = pipeline(\"text2text-generation\", model=model_pt_en, tokenizer=tokenizer_pt_en)\n",
    "pipeline_fr_en = pipeline(\"translation_fr_to_en\", model=model_fr_en, tokenizer=tokenizer_fr_en)\n",
    "pipeline_de_en = pipeline(\"translation_de_to_en\", model=model_de_en, tokenizer=tokenizer_de_en)\n",
    "# pipeline_ru_en = pipeline(\"translation_ru_to_en\", model=model_ru_en, tokenizer=tokenizer_ru_en)\n",
    "# pipeline_uk_en = pipeline(\"translation_uk_to_en\", model=model_uk_en, tokenizer=tokenizer_uk_en)\n",
    "# pipeline_zh_en = pipeline(\"translation_zh_to_en\", model=model_zh_en, tokenizer=tokenizer_zh_en)\n",
    "# pipeline_ja_en = pipeline(\"translation_ja_to_en\", model=model_ja_en, tokenizer=tokenizer_ja_en)\n",
    "# pipeline_hi_en = pipeline(\"translation_hi_to_en\", model=model_hi_en, tokenizer=tokenizer_hi_en)\n",
    "\n",
    "def translate_es_en(text):\n",
    "    translated_text = pipeline_es_en(text, max_length=400)[0]['translation_text']\n",
    "    return translated_text\n",
    "def translate_pt_en(text):\n",
    "    translated_text = pipeline_pt_en(text, max_length=400)[0]['generated_text']\n",
    "    return translated_text\n",
    "def translate_fr_en(text):\n",
    "    translated_text = pipeline_fr_en(text, max_length=400)[0]['translation_text']\n",
    "    return translated_text\n",
    "def translate_de_en(text):\n",
    "    translated_text = pipeline_de_en(text, max_length=400)[0]['translation_text']\n",
    "    return translated_text\n",
    "# def translate_ru_en(text):\n",
    "#     translated_text = pipeline_ru_en(text, max_length=400)[0]['translation_text']\n",
    "#     return translated_text\n",
    "# def translate_uk_en(text):\n",
    "#     translated_text = pipeline_uk_en(text, max_length=400)[0]['translation_text']\n",
    "#     return translated_text\n",
    "# def translate_zh_en(text):\n",
    "#     translated_text = pipeline_zh_en(text, max_length=400)[0]['translation_text']\n",
    "#     return translated_text\n",
    "# def translate_ja_en(text):\n",
    "#     translated_text = pipeline_ja_en(text, max_length=400)[0]['translation_text']\n",
    "#     return translated_text\n",
    "# def translate_hi_en(text):\n",
    "#     translated_text = pipeline_hi_en(text, max_length=400)[0]['translation_text']\n",
    "#     return translated_text"
   ]
  },
  {
   "cell_type": "code",
   "execution_count": null,
   "id": "d37540ec",
   "metadata": {
    "scrolled": true
   },
   "outputs": [
    {
     "name": "stderr",
     "output_type": "stream",
     "text": [
      "\r",
      "  0%|                                                     | 0/4 [00:00<?, ?it/s]"
     ]
    },
    {
     "name": "stdout",
     "output_type": "stream",
     "text": [
      "../data/tweets_translated/tweets_putin_pt.csv\n"
     ]
    },
    {
     "name": "stderr",
     "output_type": "stream",
     "text": [
      "\r",
      " 25%|█████████                           | 1/4 [10:16:31<30:49:34, 36991.40s/it]"
     ]
    },
    {
     "name": "stdout",
     "output_type": "stream",
     "text": [
      "../data/tweets_translated/tweets_zelenskyy_pt.csv\n"
     ]
    },
    {
     "name": "stderr",
     "output_type": "stream",
     "text": [
      "\r",
      " 50%|██████████████████▌                  | 2/4 [11:04:04<9:23:40, 16910.16s/it]"
     ]
    },
    {
     "name": "stdout",
     "output_type": "stream",
     "text": [
      "../data/tweets_translated/tweets_russia_pt.csv\n"
     ]
    },
    {
     "name": "stderr",
     "output_type": "stream",
     "text": [
      "\r",
      " 75%|███████████████████████████▊         | 3/4 [21:03:16<7:06:45, 25605.17s/it]"
     ]
    },
    {
     "name": "stdout",
     "output_type": "stream",
     "text": [
      "../data/tweets_translated/tweets_ukraine_pt.csv\n"
     ]
    }
   ],
   "source": [
    "# langs = ['es', 'pt', 'fr', 'de', 'ru', 'uk', 'zh', 'ja', 'hi']\n",
    "langs = ['pt']\n",
    "for lang in langs:\n",
    "    filepaths = glob.glob(f'../data/tweets_translated/*_{lang}.csv')\n",
    "    for filepath in tqdm(filepaths):\n",
    "        print(filepath)\n",
    "        df = pd.read_csv(filepath,lineterminator='\\n', encoding= 'latin-1')\n",
    "        if lang == 'es':\n",
    "            df['text'] = df['text'].apply(translate_es_en)\n",
    "            df['location_trans'] = df['location'].apply(lambda x: translate_es_en(x).strip('. ') if not pd.isna(x) else x)\n",
    "        elif lang == 'pt':\n",
    "            df['text'] = df['text'].apply(translate_pt_en)\n",
    "            df['location_trans'] = df['location'].apply(lambda x: translate_pt_en(x).strip('. ') if not pd.isna(x) else x)\n",
    "        elif lang == 'fr':\n",
    "            df['text'] = df['text'].apply(translate_fr_en)\n",
    "            df['location_trans'] = df['location'].apply(lambda x: translate_fr_en(x).strip('. ') if not pd.isna(x) else x)\n",
    "        elif lang == 'de':\n",
    "            df['text'] = df['text'].apply(translate_de_en)\n",
    "            df['location_trans'] = df['location'].apply(lambda x: translate_de_en(x).strip('. ') if not pd.isna(x) else x)\n",
    "        elif lang == 'ru':\n",
    "            df['text'] = df['text'].apply(translate_ru_en)\n",
    "            df['location_trans'] = df['location'].apply(lambda x: translate_ru_en(x).strip('. ') if not pd.isna(x) else x)\n",
    "        elif lang == 'uk':\n",
    "            df['text'] = df['text'].apply(translate_uk_en)\n",
    "            df['location_trans'] = df['location'].apply(lambda x: translate_uk_en(x).strip('. ') if not pd.isna(x) else x)\n",
    "        elif lang == 'zh':\n",
    "            df['text'] = df['text'].apply(translate_zh_en)\n",
    "            df['location_trans'] = df['location'].apply(lambda x: translate_zh_en(x).strip('. ') if not pd.isna(x) else x)\n",
    "        elif lang == 'ja':\n",
    "            df['text'] = df['text'].apply(translate_ja_en)\n",
    "            df['location_trans'] = df['location'].apply(lambda x: translate_ja_en(x).strip('. ') if not pd.isna(x) else x)\n",
    "        else:\n",
    "            df['text'] = df['text'].apply(translate_hi_en)\n",
    "        df.to_csv(filepath, index=False)"
   ]
  },
  {
   "cell_type": "code",
   "execution_count": 437,
   "id": "53908775",
   "metadata": {},
   "outputs": [
    {
     "name": "stderr",
     "output_type": "stream",
     "text": [
      "100%|███████████████████████████████████████████| 70/70 [01:03<00:00,  1.10it/s]\n"
     ]
    }
   ],
   "source": [
    "# Number of tweets per keyword and language\n",
    "filepath = '../data/tweets_translated/*'\n",
    "df = stats_keyword_lang(filepath)"
   ]
  },
  {
   "cell_type": "code",
   "execution_count": null,
   "id": "0cdf13db",
   "metadata": {
    "scrolled": true
   },
   "outputs": [],
   "source": [
    "df.groupby('keyword').sum().sort_values('nrow_non_null', ascending = False)"
   ]
  },
  {
   "cell_type": "code",
   "execution_count": null,
   "id": "ac178f2d",
   "metadata": {},
   "outputs": [],
   "source": []
  },
  {
   "cell_type": "code",
   "execution_count": null,
   "id": "813c98aa",
   "metadata": {},
   "outputs": [],
   "source": []
  },
  {
   "cell_type": "code",
   "execution_count": null,
   "id": "8182178d",
   "metadata": {},
   "outputs": [],
   "source": []
  },
  {
   "cell_type": "markdown",
   "id": "6ea7d6e3",
   "metadata": {},
   "source": [
    "### Concatenate translated tweets per keyword"
   ]
  },
  {
   "cell_type": "code",
   "execution_count": null,
   "id": "a45d66e5",
   "metadata": {},
   "outputs": [],
   "source": []
  },
  {
   "cell_type": "markdown",
   "id": "f1e3fa0d",
   "metadata": {},
   "source": [
    "### Get the latitude and longitude of tweets' location"
   ]
  },
  {
   "cell_type": "code",
   "execution_count": null,
   "id": "32c91cf7",
   "metadata": {},
   "outputs": [],
   "source": [
    "df = pd.read_csv('../data/worldcities/worldcities.csv')\n",
    "df[df['iso2']=='ES']"
   ]
  }
 ],
 "metadata": {
  "kernelspec": {
   "display_name": "Python 3 (ipykernel)",
   "language": "python",
   "name": "python3"
  },
  "language_info": {
   "codemirror_mode": {
    "name": "ipython",
    "version": 3
   },
   "file_extension": ".py",
   "mimetype": "text/x-python",
   "name": "python",
   "nbconvert_exporter": "python",
   "pygments_lexer": "ipython3",
   "version": "3.10.4"
  }
 },
 "nbformat": 4,
 "nbformat_minor": 5
}
