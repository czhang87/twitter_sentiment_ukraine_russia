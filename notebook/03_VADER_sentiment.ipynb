{
 "cells": [
  {
   "cell_type": "markdown",
   "id": "4341821e",
   "metadata": {},
   "source": [
    "## 3. Sentiment Analysis Using vaderSentiment"
   ]
  },
  {
   "cell_type": "markdown",
   "id": "7ae26365",
   "metadata": {},
   "source": [
    "### Import packages"
   ]
  },
  {
   "cell_type": "code",
   "execution_count": null,
   "id": "ec492594",
   "metadata": {},
   "outputs": [],
   "source": [
    "import pandas as pd\n",
    "import numpy as np\n",
    "import matplotlib.pyplot as plt\n",
    "from tqdm.auto import tqdm\n",
    "import glob\n",
    "from vaderSentiment.vaderSentiment import SentimentIntensityAnalyzer\n",
    "tqdm.pandas()"
   ]
  },
  {
   "cell_type": "code",
   "execution_count": null,
   "id": "54c25268",
   "metadata": {},
   "outputs": [],
   "source": [
    "# pd.set_option('display.max_colwidth', None)"
   ]
  },
  {
   "cell_type": "markdown",
   "id": "ab05dc5f",
   "metadata": {},
   "source": [
    "### vaderSentiment analysis"
   ]
  },
  {
   "cell_type": "code",
   "execution_count": null,
   "id": "55c6af92",
   "metadata": {},
   "outputs": [],
   "source": [
    "analyzer = SentimentIntensityAnalyzer()"
   ]
  },
  {
   "cell_type": "code",
   "execution_count": null,
   "id": "be04b9ab",
   "metadata": {
    "scrolled": true
   },
   "outputs": [],
   "source": [
    "# Sentiment analysis of English tweets\n",
    "for filepath in tqdm(glob.glob('../data/tweets_en/*')):\n",
    "    df = pd.read_csv(filepath, dtype = {'text':'str'} ,lineterminator='\\n', encoding='latin-1')\n",
    "    df = df.dropna(subset='text')\n",
    "    compound = []\n",
    "    for s in df['text'].apply(analyzer.polarity_scores):\n",
    "        compound.append(s['compound'])\n",
    "    df['compound'] = compound\n",
    "    df.to_csv(filepath, index = False)"
   ]
  },
  {
   "cell_type": "code",
   "execution_count": null,
   "id": "5caddc2e",
   "metadata": {
    "scrolled": true
   },
   "outputs": [],
   "source": [
    "# Sentiment analysis of non-English tweets\n",
    "for filepath in tqdm(glob.glob('../data/tweets_translated/*')):\n",
    "    df = pd.read_csv(filepath, dtype = {'text':'str', 'location_trans':'str'} ,lineterminator='\\n', encoding='latin-1')\n",
    "    df = df.dropna(subset='text')\n",
    "    compound = []\n",
    "    for s in df['text'].apply(analyzer.polarity_scores):\n",
    "        compound.append(s['compound'])\n",
    "    df['compound'] = compound\n",
    "    df.to_csv(filepath, index = False)"
   ]
  }
 ],
 "metadata": {
  "kernelspec": {
   "display_name": "huggingface",
   "language": "python",
   "name": "huggingface"
  },
  "language_info": {
   "codemirror_mode": {
    "name": "ipython",
    "version": 3
   },
   "file_extension": ".py",
   "mimetype": "text/x-python",
   "name": "python",
   "nbconvert_exporter": "python",
   "pygments_lexer": "ipython3",
   "version": "3.10.4"
  }
 },
 "nbformat": 4,
 "nbformat_minor": 5
}
