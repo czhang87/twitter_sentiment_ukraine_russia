{
 "cells": [
  {
   "cell_type": "markdown",
   "id": "4341821e",
   "metadata": {},
   "source": [
    "## 3. Sentiment Analysis Using vaderSentiment"
   ]
  },
  {
   "cell_type": "markdown",
   "id": "7ae26365",
   "metadata": {},
   "source": [
    "### Import packages"
   ]
  },
  {
   "cell_type": "code",
   "execution_count": 1,
   "id": "ec492594",
   "metadata": {},
   "outputs": [
    {
     "name": "stderr",
     "output_type": "stream",
     "text": [
      "/Users/chengxianzhang/anaconda3/envs/huggingface/lib/python3.10/site-packages/tqdm/auto.py:22: TqdmWarning: IProgress not found. Please update jupyter and ipywidgets. See https://ipywidgets.readthedocs.io/en/stable/user_install.html\n",
      "  from .autonotebook import tqdm as notebook_tqdm\n"
     ]
    }
   ],
   "source": [
    "import pandas as pd\n",
    "import numpy as np\n",
    "import matplotlib.pyplot as plt\n",
    "from tqdm.auto import tqdm\n",
    "import glob\n",
    "from vaderSentiment.vaderSentiment import SentimentIntensityAnalyzer\n",
    "tqdm.pandas()"
   ]
  },
  {
   "cell_type": "code",
   "execution_count": 37,
   "id": "54c25268",
   "metadata": {},
   "outputs": [],
   "source": [
    "# pd.set_option('display.max_colwidth', None)"
   ]
  },
  {
   "cell_type": "code",
   "execution_count": 2,
   "id": "55c6af92",
   "metadata": {},
   "outputs": [],
   "source": [
    "analyzer = SentimentIntensityAnalyzer()"
   ]
  },
  {
   "cell_type": "code",
   "execution_count": null,
   "id": "be04b9ab",
   "metadata": {
    "scrolled": true
   },
   "outputs": [],
   "source": [
    "# Sentiment analysis of English tweets\n",
    "for filepath in tqdm(glob.glob('../data/tweets_en/*')):\n",
    "    df = pd.read_csv(filepath, dtype = {'text':'str'} ,lineterminator='\\n', encoding='latin-1')\n",
    "    df = df.dropna(subset='text')\n",
    "    compound = []\n",
    "    for s in df['text'].apply(analyzer.polarity_scores):\n",
    "        compound.append(s['compound'])\n",
    "    df['compound'] = compound\n",
    "    df.to_csv(filepath, index = False)"
   ]
  },
  {
   "cell_type": "code",
   "execution_count": 7,
   "id": "5caddc2e",
   "metadata": {
    "scrolled": true
   },
   "outputs": [
    {
     "name": "stderr",
     "output_type": "stream",
     "text": [
      "  9%|████                                        | 1/11 [00:00<00:04,  2.45it/s]"
     ]
    },
    {
     "name": "stdout",
     "output_type": "stream",
     "text": [
      "<class 'pandas.core.frame.DataFrame'>\n",
      "RangeIndex: 2974 entries, 0 to 2973\n",
      "Data columns (total 9 columns):\n",
      " #   Column          Non-Null Count  Dtype  \n",
      "---  ------          --------------  -----  \n",
      " 0   tweet_id        2974 non-null   float64\n",
      " 1   acct_desc       2650 non-null   object \n",
      " 2   date            2974 non-null   object \n",
      " 3   location        2974 non-null   object \n",
      " 4   friends_ount    2974 non-null   float64\n",
      " 5   followers_ount  2974 non-null   float64\n",
      " 6   text            2974 non-null   object \n",
      " 7   location_trans  2974 non-null   object \n",
      " 8   compound        2974 non-null   float64\n",
      "dtypes: float64(4), object(5)\n",
      "memory usage: 209.2+ KB\n",
      "None\n"
     ]
    },
    {
     "name": "stderr",
     "output_type": "stream",
     "text": [
      "\r",
      " 18%|████████                                    | 2/11 [00:01<00:04,  1.82it/s]"
     ]
    },
    {
     "name": "stdout",
     "output_type": "stream",
     "text": [
      "<class 'pandas.core.frame.DataFrame'>\n",
      "RangeIndex: 2701 entries, 0 to 2700\n",
      "Data columns (total 9 columns):\n",
      " #   Column          Non-Null Count  Dtype  \n",
      "---  ------          --------------  -----  \n",
      " 0   date            2701 non-null   object \n",
      " 1   location        2701 non-null   object \n",
      " 2   text            2701 non-null   object \n",
      " 3   tweet_id        2701 non-null   float64\n",
      " 4   acct_desc       2400 non-null   object \n",
      " 5   friends_ount    2701 non-null   float64\n",
      " 6   followers_ount  2701 non-null   float64\n",
      " 7   location_trans  2700 non-null   object \n",
      " 8   compound        2701 non-null   float64\n",
      "dtypes: float64(4), object(5)\n",
      "memory usage: 190.0+ KB\n",
      "None\n"
     ]
    },
    {
     "name": "stderr",
     "output_type": "stream",
     "text": [
      " 36%|████████████████                            | 4/11 [00:01<00:02,  2.93it/s]"
     ]
    },
    {
     "name": "stdout",
     "output_type": "stream",
     "text": [
      "<class 'pandas.core.frame.DataFrame'>\n",
      "RangeIndex: 2977 entries, 0 to 2976\n",
      "Data columns (total 9 columns):\n",
      " #   Column          Non-Null Count  Dtype  \n",
      "---  ------          --------------  -----  \n",
      " 0   tweet_id        2977 non-null   float64\n",
      " 1   acct_desc       2631 non-null   object \n",
      " 2   date            2977 non-null   object \n",
      " 3   location        2977 non-null   object \n",
      " 4   friends_ount    2977 non-null   float64\n",
      " 5   followers_ount  2977 non-null   float64\n",
      " 6   text            2977 non-null   object \n",
      " 7   location_trans  2977 non-null   object \n",
      " 8   compound        2977 non-null   float64\n",
      "dtypes: float64(4), object(5)\n",
      "memory usage: 209.4+ KB\n",
      "None\n",
      "<class 'pandas.core.frame.DataFrame'>\n",
      "RangeIndex: 970 entries, 0 to 969\n",
      "Data columns (total 9 columns):\n",
      " #   Column          Non-Null Count  Dtype  \n",
      "---  ------          --------------  -----  \n",
      " 0   tweet_id        970 non-null    float64\n",
      " 1   acct_desc       869 non-null    object \n",
      " 2   date            970 non-null    object \n",
      " 3   location        970 non-null    object \n",
      " 4   friends_ount    970 non-null    float64\n",
      " 5   followers_ount  970 non-null    float64\n",
      " 6   text            970 non-null    object \n",
      " 7   location_trans  966 non-null    object \n",
      " 8   compound        970 non-null    float64\n",
      "dtypes: float64(4), object(5)\n",
      "memory usage: 68.3+ KB\n",
      "None\n"
     ]
    },
    {
     "name": "stderr",
     "output_type": "stream",
     "text": [
      " 55%|████████████████████████                    | 6/11 [00:02<00:01,  3.74it/s]"
     ]
    },
    {
     "name": "stdout",
     "output_type": "stream",
     "text": [
      "<class 'pandas.core.frame.DataFrame'>\n",
      "RangeIndex: 2972 entries, 0 to 2971\n",
      "Data columns (total 9 columns):\n",
      " #   Column          Non-Null Count  Dtype  \n",
      "---  ------          --------------  -----  \n",
      " 0   tweet_id        2972 non-null   float64\n",
      " 1   acct_desc       2679 non-null   object \n",
      " 2   date            2972 non-null   object \n",
      " 3   location        2972 non-null   object \n",
      " 4   friends_ount    2972 non-null   float64\n",
      " 5   followers_ount  2972 non-null   float64\n",
      " 6   text            2972 non-null   object \n",
      " 7   location_trans  2964 non-null   object \n",
      " 8   compound        2972 non-null   float64\n",
      "dtypes: float64(4), object(5)\n",
      "memory usage: 209.1+ KB\n",
      "None\n",
      "<class 'pandas.core.frame.DataFrame'>\n",
      "RangeIndex: 264 entries, 0 to 263\n",
      "Data columns (total 9 columns):\n",
      " #   Column          Non-Null Count  Dtype  \n",
      "---  ------          --------------  -----  \n",
      " 0   tweet_id        264 non-null    float64\n",
      " 1   acct_desc       236 non-null    object \n",
      " 2   date            264 non-null    object \n",
      " 3   location        264 non-null    object \n",
      " 4   friends_ount    264 non-null    float64\n",
      " 5   followers_ount  264 non-null    float64\n",
      " 6   text            264 non-null    object \n",
      " 7   location_trans  264 non-null    object \n",
      " 8   compound        264 non-null    float64\n",
      "dtypes: float64(4), object(5)\n",
      "memory usage: 18.7+ KB\n",
      "None\n"
     ]
    },
    {
     "name": "stderr",
     "output_type": "stream",
     "text": [
      "\r",
      " 64%|████████████████████████████                | 7/11 [00:02<00:01,  2.35it/s]"
     ]
    },
    {
     "name": "stdout",
     "output_type": "stream",
     "text": [
      "<class 'pandas.core.frame.DataFrame'>\n",
      "RangeIndex: 2991 entries, 0 to 2990\n",
      "Data columns (total 9 columns):\n",
      " #   Column          Non-Null Count  Dtype  \n",
      "---  ------          --------------  -----  \n",
      " 0   tweet_id        2991 non-null   float64\n",
      " 1   acct_desc       2701 non-null   object \n",
      " 2   date            2991 non-null   object \n",
      " 3   location        2991 non-null   object \n",
      " 4   friends_ount    2991 non-null   float64\n",
      " 5   followers_ount  2991 non-null   float64\n",
      " 6   text            2991 non-null   object \n",
      " 7   location_trans  2991 non-null   object \n",
      " 8   compound        2991 non-null   float64\n",
      "dtypes: float64(4), object(5)\n",
      "memory usage: 210.4+ KB\n",
      "None\n"
     ]
    },
    {
     "name": "stderr",
     "output_type": "stream",
     "text": [
      "\r",
      " 73%|████████████████████████████████            | 8/11 [00:03<00:01,  2.42it/s]"
     ]
    },
    {
     "name": "stdout",
     "output_type": "stream",
     "text": [
      "<class 'pandas.core.frame.DataFrame'>\n",
      "RangeIndex: 2983 entries, 0 to 2982\n",
      "Data columns (total 9 columns):\n",
      " #   Column          Non-Null Count  Dtype  \n",
      "---  ------          --------------  -----  \n",
      " 0   tweet_id        2983 non-null   float64\n",
      " 1   acct_desc       2623 non-null   object \n",
      " 2   date            2983 non-null   object \n",
      " 3   location        2983 non-null   object \n",
      " 4   friends_ount    2983 non-null   float64\n",
      " 5   followers_ount  2983 non-null   float64\n",
      " 6   text            2983 non-null   object \n",
      " 7   location_trans  2983 non-null   object \n",
      " 8   compound        2983 non-null   float64\n",
      "dtypes: float64(4), object(5)\n",
      "memory usage: 209.9+ KB\n",
      "None\n"
     ]
    },
    {
     "name": "stderr",
     "output_type": "stream",
     "text": [
      "\r",
      " 82%|████████████████████████████████████        | 9/11 [00:03<00:00,  2.42it/s]"
     ]
    },
    {
     "name": "stdout",
     "output_type": "stream",
     "text": [
      "<class 'pandas.core.frame.DataFrame'>\n",
      "RangeIndex: 2979 entries, 0 to 2978\n",
      "Data columns (total 9 columns):\n",
      " #   Column          Non-Null Count  Dtype  \n",
      "---  ------          --------------  -----  \n",
      " 0   tweet_id        2979 non-null   float64\n",
      " 1   acct_desc       2700 non-null   object \n",
      " 2   date            2979 non-null   object \n",
      " 3   location        2979 non-null   object \n",
      " 4   friends_ount    2979 non-null   float64\n",
      " 5   followers_ount  2979 non-null   float64\n",
      " 6   text            2979 non-null   object \n",
      " 7   location_trans  2974 non-null   object \n",
      " 8   compound        2979 non-null   float64\n",
      "dtypes: float64(4), object(5)\n",
      "memory usage: 209.6+ KB\n",
      "None\n"
     ]
    },
    {
     "name": "stderr",
     "output_type": "stream",
     "text": [
      "\r",
      " 91%|███████████████████████████████████████    | 10/11 [00:04<00:00,  1.85it/s]"
     ]
    },
    {
     "name": "stdout",
     "output_type": "stream",
     "text": [
      "<class 'pandas.core.frame.DataFrame'>\n",
      "RangeIndex: 2990 entries, 0 to 2989\n",
      "Data columns (total 9 columns):\n",
      " #   Column          Non-Null Count  Dtype  \n",
      "---  ------          --------------  -----  \n",
      " 0   tweet_id        2990 non-null   float64\n",
      " 1   acct_desc       2667 non-null   object \n",
      " 2   date            2990 non-null   object \n",
      " 3   location        2990 non-null   object \n",
      " 4   friends_ount    2990 non-null   float64\n",
      " 5   followers_ount  2990 non-null   float64\n",
      " 6   text            2990 non-null   object \n",
      " 7   location_trans  2988 non-null   object \n",
      " 8   compound        2990 non-null   float64\n",
      "dtypes: float64(4), object(5)\n",
      "memory usage: 210.4+ KB\n",
      "None\n"
     ]
    },
    {
     "name": "stderr",
     "output_type": "stream",
     "text": [
      "100%|███████████████████████████████████████████| 11/11 [00:04<00:00,  2.29it/s]"
     ]
    },
    {
     "name": "stdout",
     "output_type": "stream",
     "text": [
      "<class 'pandas.core.frame.DataFrame'>\n",
      "RangeIndex: 2974 entries, 0 to 2973\n",
      "Data columns (total 10 columns):\n",
      " #   Column          Non-Null Count  Dtype  \n",
      "---  ------          --------------  -----  \n",
      " 0   tweet_id        2974 non-null   int64  \n",
      " 1   acct_desc       2755 non-null   object \n",
      " 2   date            2974 non-null   object \n",
      " 3   location        2974 non-null   object \n",
      " 4   friends_ount    2974 non-null   float64\n",
      " 5   followers_ount  2974 non-null   int64  \n",
      " 6   text            2974 non-null   object \n",
      " 7   text\r",
      "           0 non-null      float64\n",
      " 8   location_trans  2962 non-null   object \n",
      " 9   compound        2974 non-null   float64\n",
      "dtypes: float64(3), int64(2), object(5)\n",
      "memory usage: 232.5+ KB\n",
      "None\n"
     ]
    },
    {
     "name": "stderr",
     "output_type": "stream",
     "text": [
      "\n"
     ]
    }
   ],
   "source": [
    "# Sentiment analysis of non-English tweets\n",
    "for filepath in tqdm(glob.glob('../data/tweets_translated/*')):\n",
    "    df = pd.read_csv(filepath, dtype = {'text':'str', 'location_trans':'str'} ,lineterminator='\\n', encoding='latin-1')\n",
    "    df = df.dropna(subset='text')\n",
    "    compound = []\n",
    "    for s in df['text'].apply(analyzer.polarity_scores):\n",
    "        compound.append(s['compound'])\n",
    "    df['compound'] = compound\n",
    "    df.to_csv(filepath, index = False)\n",
    "    print(df.info())"
   ]
  },
  {
   "cell_type": "code",
   "execution_count": 8,
   "id": "2e300d72",
   "metadata": {},
   "outputs": [
    {
     "name": "stderr",
     "output_type": "stream",
     "text": [
      " 18%|████████                                    | 2/11 [00:00<00:00, 17.25it/s]"
     ]
    },
    {
     "name": "stdout",
     "output_type": "stream",
     "text": [
      "../data/tweets_translated/tweets_ukraine_fr.csv\n",
      "<class 'pandas.core.frame.DataFrame'>\n",
      "RangeIndex: 2974 entries, 0 to 2973\n",
      "Data columns (total 9 columns):\n",
      " #   Column          Non-Null Count  Dtype  \n",
      "---  ------          --------------  -----  \n",
      " 0   tweet_id        2974 non-null   float64\n",
      " 1   acct_desc       2650 non-null   object \n",
      " 2   date            2974 non-null   object \n",
      " 3   location        2974 non-null   object \n",
      " 4   friends_ount    2974 non-null   float64\n",
      " 5   followers_ount  2974 non-null   float64\n",
      " 6   text            2974 non-null   object \n",
      " 7   location_trans  2974 non-null   object \n",
      " 8   compound        2974 non-null   float64\n",
      "dtypes: float64(4), object(5)\n",
      "memory usage: 209.2+ KB\n",
      "None\n",
      "../data/tweets_translated/tweets_putin_pt.csv\n",
      "<class 'pandas.core.frame.DataFrame'>\n",
      "RangeIndex: 2701 entries, 0 to 2700\n",
      "Data columns (total 9 columns):\n",
      " #   Column          Non-Null Count  Dtype  \n",
      "---  ------          --------------  -----  \n",
      " 0   date            2701 non-null   object \n",
      " 1   location        2701 non-null   object \n",
      " 2   text            2701 non-null   object \n",
      " 3   tweet_id        2701 non-null   float64\n",
      " 4   acct_desc       2400 non-null   object \n",
      " 5   friends_ount    2701 non-null   float64\n",
      " 6   followers_ount  2701 non-null   float64\n",
      " 7   location_trans  2700 non-null   object \n",
      " 8   compound        2701 non-null   float64\n",
      "dtypes: float64(4), object(5)\n",
      "memory usage: 190.0+ KB\n",
      "None\n",
      "../data/tweets_translated/tweets_russia_fr.csv\n",
      "<class 'pandas.core.frame.DataFrame'>\n",
      "RangeIndex: 2977 entries, 0 to 2976\n",
      "Data columns (total 9 columns):\n",
      " #   Column          Non-Null Count  Dtype  \n",
      "---  ------          --------------  -----  \n",
      " 0   tweet_id        2977 non-null   float64\n",
      " 1   acct_desc       2631 non-null   object \n",
      " 2   date            2977 non-null   object \n",
      " 3   location        2977 non-null   object \n",
      " 4   friends_ount    2977 non-null   float64\n",
      " 5   followers_ount  2977 non-null   float64\n",
      " 6   text            2977 non-null   object \n",
      " 7   location_trans  2977 non-null   object \n",
      " 8   compound        2977 non-null   float64\n",
      "dtypes: float64(4), object(5)\n",
      "memory usage: 209.4+ KB\n",
      "None\n",
      "../data/tweets_translated/tweets_zelenskyy_es.csv\n",
      "<class 'pandas.core.frame.DataFrame'>\n",
      "RangeIndex: 970 entries, 0 to 969\n",
      "Data columns (total 9 columns):\n",
      " #   Column          Non-Null Count  Dtype  \n",
      "---  ------          --------------  -----  \n",
      " 0   tweet_id        970 non-null    float64\n",
      " 1   acct_desc       869 non-null    object \n",
      " 2   date            970 non-null    object \n",
      " 3   location        970 non-null    object \n",
      " 4   friends_ount    970 non-null    float64\n",
      " 5   followers_ount  970 non-null    float64\n",
      " 6   text            970 non-null    object \n",
      " 7   location_trans  966 non-null    object \n",
      " 8   compound        970 non-null    float64\n",
      "dtypes: float64(4), object(5)\n",
      "memory usage: 68.3+ KB\n",
      "None\n",
      "../data/tweets_translated/tweets_putin_es.csv\n"
     ]
    },
    {
     "name": "stderr",
     "output_type": "stream",
     "text": [
      " 82%|████████████████████████████████████        | 9/11 [00:00<00:00, 22.57it/s]"
     ]
    },
    {
     "name": "stdout",
     "output_type": "stream",
     "text": [
      "<class 'pandas.core.frame.DataFrame'>\n",
      "RangeIndex: 2972 entries, 0 to 2971\n",
      "Data columns (total 9 columns):\n",
      " #   Column          Non-Null Count  Dtype  \n",
      "---  ------          --------------  -----  \n",
      " 0   tweet_id        2972 non-null   float64\n",
      " 1   acct_desc       2679 non-null   object \n",
      " 2   date            2972 non-null   object \n",
      " 3   location        2972 non-null   object \n",
      " 4   friends_ount    2972 non-null   float64\n",
      " 5   followers_ount  2972 non-null   float64\n",
      " 6   text            2972 non-null   object \n",
      " 7   location_trans  2964 non-null   object \n",
      " 8   compound        2972 non-null   float64\n",
      "dtypes: float64(4), object(5)\n",
      "memory usage: 209.1+ KB\n",
      "None\n",
      "../data/tweets_translated/tweets_zelenskyy_pt.csv\n",
      "<class 'pandas.core.frame.DataFrame'>\n",
      "RangeIndex: 264 entries, 0 to 263\n",
      "Data columns (total 9 columns):\n",
      " #   Column          Non-Null Count  Dtype  \n",
      "---  ------          --------------  -----  \n",
      " 0   tweet_id        264 non-null    float64\n",
      " 1   acct_desc       236 non-null    object \n",
      " 2   date            264 non-null    object \n",
      " 3   location        264 non-null    object \n",
      " 4   friends_ount    264 non-null    float64\n",
      " 5   followers_ount  264 non-null    float64\n",
      " 6   text            264 non-null    object \n",
      " 7   location_trans  264 non-null    object \n",
      " 8   compound        264 non-null    float64\n",
      "dtypes: float64(4), object(5)\n",
      "memory usage: 18.7+ KB\n",
      "None\n",
      "../data/tweets_translated/tweets_russia_pt.csv\n",
      "<class 'pandas.core.frame.DataFrame'>\n",
      "RangeIndex: 2991 entries, 0 to 2990\n",
      "Data columns (total 9 columns):\n",
      " #   Column          Non-Null Count  Dtype  \n",
      "---  ------          --------------  -----  \n",
      " 0   tweet_id        2991 non-null   float64\n",
      " 1   acct_desc       2701 non-null   object \n",
      " 2   date            2991 non-null   object \n",
      " 3   location        2991 non-null   object \n",
      " 4   friends_ount    2991 non-null   float64\n",
      " 5   followers_ount  2991 non-null   float64\n",
      " 6   text            2991 non-null   object \n",
      " 7   location_trans  2991 non-null   object \n",
      " 8   compound        2991 non-null   float64\n",
      "dtypes: float64(4), object(5)\n",
      "memory usage: 210.4+ KB\n",
      "None\n",
      "../data/tweets_translated/tweets_putin_fr.csv\n",
      "<class 'pandas.core.frame.DataFrame'>\n",
      "RangeIndex: 2983 entries, 0 to 2982\n",
      "Data columns (total 9 columns):\n",
      " #   Column          Non-Null Count  Dtype  \n",
      "---  ------          --------------  -----  \n",
      " 0   tweet_id        2983 non-null   float64\n",
      " 1   acct_desc       2623 non-null   object \n",
      " 2   date            2983 non-null   object \n",
      " 3   location        2983 non-null   object \n",
      " 4   friends_ount    2983 non-null   float64\n",
      " 5   followers_ount  2983 non-null   float64\n",
      " 6   text            2983 non-null   object \n",
      " 7   location_trans  2983 non-null   object \n",
      " 8   compound        2983 non-null   float64\n",
      "dtypes: float64(4), object(5)\n",
      "memory usage: 209.9+ KB\n",
      "None\n",
      "../data/tweets_translated/tweets_russia_es.csv\n",
      "<class 'pandas.core.frame.DataFrame'>\n",
      "RangeIndex: 2979 entries, 0 to 2978\n",
      "Data columns (total 9 columns):\n",
      " #   Column          Non-Null Count  Dtype  \n",
      "---  ------          --------------  -----  \n",
      " 0   tweet_id        2979 non-null   float64\n",
      " 1   acct_desc       2700 non-null   object \n",
      " 2   date            2979 non-null   object \n",
      " 3   location        2979 non-null   object \n",
      " 4   friends_ount    2979 non-null   float64\n",
      " 5   followers_ount  2979 non-null   float64\n",
      " 6   text            2979 non-null   object \n",
      " 7   location_trans  2974 non-null   object \n",
      " 8   compound        2979 non-null   float64\n",
      "dtypes: float64(4), object(5)\n",
      "memory usage: 209.6+ KB\n",
      "None\n",
      "../data/tweets_translated/tweets_ukraine_pt.csv\n"
     ]
    },
    {
     "name": "stderr",
     "output_type": "stream",
     "text": [
      "\r",
      "100%|███████████████████████████████████████████| 11/11 [00:00<00:00, 22.09it/s]"
     ]
    },
    {
     "name": "stdout",
     "output_type": "stream",
     "text": [
      "<class 'pandas.core.frame.DataFrame'>\n",
      "RangeIndex: 2990 entries, 0 to 2989\n",
      "Data columns (total 9 columns):\n",
      " #   Column          Non-Null Count  Dtype  \n",
      "---  ------          --------------  -----  \n",
      " 0   tweet_id        2990 non-null   float64\n",
      " 1   acct_desc       2667 non-null   object \n",
      " 2   date            2990 non-null   object \n",
      " 3   location        2990 non-null   object \n",
      " 4   friends_ount    2990 non-null   float64\n",
      " 5   followers_ount  2990 non-null   float64\n",
      " 6   text            2990 non-null   object \n",
      " 7   location_trans  2988 non-null   object \n",
      " 8   compound        2990 non-null   float64\n",
      "dtypes: float64(4), object(5)\n",
      "memory usage: 210.4+ KB\n",
      "None\n",
      "../data/tweets_translated/tweets_ukraine_es.csv\n",
      "<class 'pandas.core.frame.DataFrame'>\n",
      "RangeIndex: 2974 entries, 0 to 2973\n",
      "Data columns (total 10 columns):\n",
      " #   Column          Non-Null Count  Dtype  \n",
      "---  ------          --------------  -----  \n",
      " 0   tweet_id        2974 non-null   int64  \n",
      " 1   acct_desc       2755 non-null   object \n",
      " 2   date            2974 non-null   object \n",
      " 3   location        2974 non-null   object \n",
      " 4   friends_ount    2974 non-null   float64\n",
      " 5   followers_ount  2974 non-null   int64  \n",
      " 6   text            2974 non-null   object \n",
      " 7   text\r",
      "           0 non-null      float64\n",
      " 8   location_trans  2962 non-null   object \n",
      " 9   compound        2974 non-null   float64\n",
      "dtypes: float64(3), int64(2), object(5)\n",
      "memory usage: 232.5+ KB\n",
      "None\n"
     ]
    },
    {
     "name": "stderr",
     "output_type": "stream",
     "text": [
      "\n"
     ]
    }
   ],
   "source": [
    "for filepath in tqdm(glob.glob('../data/tweets_translated/*')):\n",
    "    print(filepath)\n",
    "    df = pd.read_csv(filepath, dtype = {'text':'str', 'location_trans':'str'} ,lineterminator='\\n', encoding='latin-1')\n",
    "    print(df.info())\n",
    "    "
   ]
  },
  {
   "cell_type": "code",
   "execution_count": 9,
   "id": "5d461a79",
   "metadata": {},
   "outputs": [
    {
     "name": "stderr",
     "output_type": "stream",
     "text": [
      "\r",
      "  0%|                                                    | 0/10 [00:00<?, ?it/s]"
     ]
    },
    {
     "name": "stdout",
     "output_type": "stream",
     "text": [
      "../data/tweets_en/tweets_ukraine_en.csv\n"
     ]
    },
    {
     "name": "stderr",
     "output_type": "stream",
     "text": [
      "\r",
      " 10%|████▍                                       | 1/10 [00:02<00:22,  2.51s/it]"
     ]
    },
    {
     "name": "stdout",
     "output_type": "stream",
     "text": [
      "<class 'pandas.core.frame.DataFrame'>\n",
      "RangeIndex: 425923 entries, 0 to 425922\n",
      "Data columns (total 9 columns):\n",
      " #   Column          Non-Null Count   Dtype  \n",
      "---  ------          --------------   -----  \n",
      " 0   tweet_id        425923 non-null  float64\n",
      " 1   acct_desc       354458 non-null  object \n",
      " 2   date            425923 non-null  object \n",
      " 3   location        255689 non-null  object \n",
      " 4   friends_ount    425923 non-null  float64\n",
      " 5   followers_ount  425923 non-null  float64\n",
      " 6   text            425923 non-null  object \n",
      " 7   text\r",
      "           0 non-null       float64\n",
      " 8   compound        425923 non-null  float64\n",
      "dtypes: float64(5), object(4)\n",
      "memory usage: 29.2+ MB\n",
      "None\n",
      "../data/tweets_en/tweets_russia_en.csv\n"
     ]
    },
    {
     "name": "stderr",
     "output_type": "stream",
     "text": [
      "\r",
      " 20%|████████▊                                   | 2/10 [00:05<00:20,  2.50s/it]"
     ]
    },
    {
     "name": "stdout",
     "output_type": "stream",
     "text": [
      "<class 'pandas.core.frame.DataFrame'>\n",
      "RangeIndex: 435421 entries, 0 to 435420\n",
      "Data columns (total 8 columns):\n",
      " #   Column          Non-Null Count   Dtype  \n",
      "---  ------          --------------   -----  \n",
      " 0   tweet_id        435421 non-null  float64\n",
      " 1   acct_desc       356739 non-null  object \n",
      " 2   date            435421 non-null  object \n",
      " 3   location        255395 non-null  object \n",
      " 4   friends_ount    435421 non-null  float64\n",
      " 5   followers_ount  435421 non-null  float64\n",
      " 6   text            435421 non-null  object \n",
      " 7   compound        435421 non-null  float64\n",
      "dtypes: float64(4), object(4)\n",
      "memory usage: 26.6+ MB\n",
      "None\n",
      "../data/tweets_en/tweets_eu_en.csv\n"
     ]
    },
    {
     "name": "stderr",
     "output_type": "stream",
     "text": [
      "\r",
      " 30%|█████████████▏                              | 3/10 [00:05<00:12,  1.78s/it]"
     ]
    },
    {
     "name": "stdout",
     "output_type": "stream",
     "text": [
      "<class 'pandas.core.frame.DataFrame'>\n",
      "RangeIndex: 131725 entries, 0 to 131724\n",
      "Data columns (total 9 columns):\n",
      " #   Column          Non-Null Count   Dtype  \n",
      "---  ------          --------------   -----  \n",
      " 0   tweet_id        131725 non-null  int64  \n",
      " 1   acct_desc       111070 non-null  object \n",
      " 2   date            131725 non-null  object \n",
      " 3   location        69049 non-null   object \n",
      " 4   friends_ount    131725 non-null  float64\n",
      " 5   followers_ount  131725 non-null  int64  \n",
      " 6   text            131725 non-null  object \n",
      " 7   text\r",
      "           0 non-null       float64\n",
      " 8   compound        131725 non-null  float64\n",
      "dtypes: float64(3), int64(2), object(4)\n",
      "memory usage: 9.0+ MB\n",
      "None\n",
      "../data/tweets_en/tweets_zelenskyy_en.csv\n"
     ]
    },
    {
     "name": "stderr",
     "output_type": "stream",
     "text": [
      "\r",
      " 40%|█████████████████▌                          | 4/10 [00:07<00:10,  1.73s/it]"
     ]
    },
    {
     "name": "stdout",
     "output_type": "stream",
     "text": [
      "<class 'pandas.core.frame.DataFrame'>\n",
      "RangeIndex: 275011 entries, 0 to 275010\n",
      "Data columns (total 9 columns):\n",
      " #   Column          Non-Null Count   Dtype  \n",
      "---  ------          --------------   -----  \n",
      " 0   tweet_id        275011 non-null  float64\n",
      " 1   acct_desc       220343 non-null  object \n",
      " 2   date            275011 non-null  object \n",
      " 3   location        154910 non-null  object \n",
      " 4   friends_ount    275011 non-null  float64\n",
      " 5   followers_ount  275011 non-null  float64\n",
      " 6   text            275011 non-null  object \n",
      " 7   text\r",
      "           0 non-null       float64\n",
      " 8   compound        275011 non-null  float64\n",
      "dtypes: float64(5), object(4)\n",
      "memory usage: 18.9+ MB\n",
      "None\n",
      "../data/tweets_en/tweets_biden_en.csv\n"
     ]
    },
    {
     "name": "stderr",
     "output_type": "stream",
     "text": [
      "\r",
      " 50%|██████████████████████                      | 5/10 [00:09<00:09,  1.85s/it]"
     ]
    },
    {
     "name": "stdout",
     "output_type": "stream",
     "text": [
      "<class 'pandas.core.frame.DataFrame'>\n",
      "RangeIndex: 419583 entries, 0 to 419582\n",
      "Data columns (total 8 columns):\n",
      " #   Column          Non-Null Count   Dtype  \n",
      "---  ------          --------------   -----  \n",
      " 0   tweet_id        419583 non-null  float64\n",
      " 1   acct_desc       330905 non-null  object \n",
      " 2   date            419583 non-null  object \n",
      " 3   location        230011 non-null  object \n",
      " 4   friends_ount    419583 non-null  float64\n",
      " 5   followers_ount  419583 non-null  float64\n",
      " 6   text            419583 non-null  object \n",
      " 7   compound        419583 non-null  float64\n",
      "dtypes: float64(4), object(4)\n",
      "memory usage: 25.6+ MB\n",
      "None\n",
      "../data/tweets_en/tweets_putin_en.csv\n"
     ]
    },
    {
     "name": "stderr",
     "output_type": "stream",
     "text": [
      "\r",
      " 60%|██████████████████████████▍                 | 6/10 [00:11<00:07,  1.96s/it]"
     ]
    },
    {
     "name": "stdout",
     "output_type": "stream",
     "text": [
      "<class 'pandas.core.frame.DataFrame'>\n",
      "RangeIndex: 429744 entries, 0 to 429743\n",
      "Data columns (total 8 columns):\n",
      " #   Column          Non-Null Count   Dtype  \n",
      "---  ------          --------------   -----  \n",
      " 0   tweet_id        429744 non-null  float64\n",
      " 1   acct_desc       353986 non-null  object \n",
      " 2   date            429744 non-null  object \n",
      " 3   location        256098 non-null  object \n",
      " 4   friends_ount    429744 non-null  float64\n",
      " 5   followers_ount  429744 non-null  float64\n",
      " 6   text            429744 non-null  object \n",
      " 7   compound        429744 non-null  float64\n",
      "dtypes: float64(4), object(4)\n",
      "memory usage: 26.2+ MB\n",
      "None\n",
      "../data/tweets_en/tweets_johnson_en.csv\n"
     ]
    },
    {
     "name": "stderr",
     "output_type": "stream",
     "text": [
      "\r",
      " 70%|██████████████████████████████▊             | 7/10 [00:13<00:05,  2.00s/it]"
     ]
    },
    {
     "name": "stdout",
     "output_type": "stream",
     "text": [
      "<class 'pandas.core.frame.DataFrame'>\n",
      "RangeIndex: 420992 entries, 0 to 420991\n",
      "Data columns (total 8 columns):\n",
      " #   Column          Non-Null Count   Dtype  \n",
      "---  ------          --------------   -----  \n",
      " 0   tweet_id        420992 non-null  float64\n",
      " 1   acct_desc       348945 non-null  object \n",
      " 2   date            420992 non-null  object \n",
      " 3   location        270183 non-null  object \n",
      " 4   friends_ount    420992 non-null  float64\n",
      " 5   followers_ount  420992 non-null  float64\n",
      " 6   text            420992 non-null  object \n",
      " 7   compound        420992 non-null  float64\n",
      "dtypes: float64(4), object(4)\n",
      "memory usage: 25.7+ MB\n",
      "None\n",
      "../data/tweets_en/tweets_nato_en.csv\n"
     ]
    },
    {
     "name": "stderr",
     "output_type": "stream",
     "text": [
      "\r",
      " 80%|███████████████████████████████████▏        | 8/10 [00:16<00:04,  2.05s/it]"
     ]
    },
    {
     "name": "stdout",
     "output_type": "stream",
     "text": [
      "<class 'pandas.core.frame.DataFrame'>\n",
      "RangeIndex: 400267 entries, 0 to 400266\n",
      "Data columns (total 9 columns):\n",
      " #   Column          Non-Null Count   Dtype  \n",
      "---  ------          --------------   -----  \n",
      " 0   tweet_id        400267 non-null  int64  \n",
      " 1   acct_desc       325589 non-null  object \n",
      " 2   date            400267 non-null  object \n",
      " 3   location        231913 non-null  object \n",
      " 4   friends_ount    400267 non-null  float64\n",
      " 5   followers_ount  400267 non-null  int64  \n",
      " 6   text            400267 non-null  object \n",
      " 7   text\r",
      "           0 non-null       float64\n",
      " 8   compound        400267 non-null  float64\n",
      "dtypes: float64(3), int64(2), object(4)\n",
      "memory usage: 27.5+ MB\n",
      "None\n",
      "../data/tweets_en/tweets_scholz_en.csv\n"
     ]
    },
    {
     "name": "stderr",
     "output_type": "stream",
     "text": [
      "\r",
      " 90%|███████████████████████████████████████▌    | 9/10 [00:16<00:01,  1.54s/it]"
     ]
    },
    {
     "name": "stdout",
     "output_type": "stream",
     "text": [
      "<class 'pandas.core.frame.DataFrame'>\n",
      "RangeIndex: 67558 entries, 0 to 67557\n",
      "Data columns (total 8 columns):\n",
      " #   Column          Non-Null Count  Dtype  \n",
      "---  ------          --------------  -----  \n",
      " 0   tweet_id        67558 non-null  float64\n",
      " 1   acct_desc       51037 non-null  object \n",
      " 2   date            67558 non-null  object \n",
      " 3   location        36548 non-null  object \n",
      " 4   friends_ount    67558 non-null  float64\n",
      " 5   followers_ount  67558 non-null  float64\n",
      " 6   text            67558 non-null  object \n",
      " 7   compound        67558 non-null  float64\n",
      "dtypes: float64(4), object(4)\n",
      "memory usage: 4.1+ MB\n",
      "None\n",
      "../data/tweets_en/tweets_macron_en.csv\n"
     ]
    },
    {
     "name": "stderr",
     "output_type": "stream",
     "text": [
      "100%|███████████████████████████████████████████| 10/10 [00:17<00:00,  1.72s/it]"
     ]
    },
    {
     "name": "stdout",
     "output_type": "stream",
     "text": [
      "<class 'pandas.core.frame.DataFrame'>\n",
      "RangeIndex: 140460 entries, 0 to 140459\n",
      "Data columns (total 8 columns):\n",
      " #   Column          Non-Null Count   Dtype  \n",
      "---  ------          --------------   -----  \n",
      " 0   tweet_id        140460 non-null  float64\n",
      " 1   acct_desc       111564 non-null  object \n",
      " 2   date            140460 non-null  object \n",
      " 3   location        77583 non-null   object \n",
      " 4   friends_ount    140460 non-null  float64\n",
      " 5   followers_ount  140460 non-null  float64\n",
      " 6   text            140460 non-null  object \n",
      " 7   compound        140460 non-null  float64\n",
      "dtypes: float64(4), object(4)\n",
      "memory usage: 8.6+ MB\n",
      "None\n"
     ]
    },
    {
     "name": "stderr",
     "output_type": "stream",
     "text": [
      "\n"
     ]
    }
   ],
   "source": [
    "for filepath in tqdm(glob.glob('../data/tweets_en/*')):\n",
    "    print(filepath)\n",
    "    df = pd.read_csv(filepath, dtype = {'text':'str', 'location_trans':'str'} ,lineterminator='\\n', encoding='latin-1')\n",
    "    print(df.info())"
   ]
  },
  {
   "cell_type": "code",
   "execution_count": 10,
   "id": "85ca820c",
   "metadata": {},
   "outputs": [
    {
     "data": {
      "text/plain": [
       "Index(['tweet_id', 'acct_desc', 'date', 'location', 'friends_ount',\n",
       "       'followers_ount', 'text', 'compound'],\n",
       "      dtype='object')"
      ]
     },
     "execution_count": 10,
     "metadata": {},
     "output_type": "execute_result"
    }
   ],
   "source": [
    "df.columns"
   ]
  },
  {
   "cell_type": "markdown",
   "id": "59539e9e",
   "metadata": {},
   "source": [
    "Average sentiment score\n",
    "ukrain: -0.04\n",
    "russia: -0.08\n",
    "putin: -0.08\n",
    "zelenskyy: 0.028\n",
    "eu: -0.04\n",
    "nato: -0.10\n",
    "biden: -0.02\n",
    "johnson: -0.04\n",
    "macron: -0.02\n",
    "scholz: -0.12"
   ]
  },
  {
   "cell_type": "code",
   "execution_count": 4,
   "id": "93d85f53",
   "metadata": {},
   "outputs": [],
   "source": [
    "df = pd.read_csv('../data/tweets_translated/tweets_russia_es.csv', dtype={'text':'str'}, lineterminator='\\n', encoding='latin-1')"
   ]
  },
  {
   "cell_type": "code",
   "execution_count": 33,
   "id": "4dbb9f83",
   "metadata": {},
   "outputs": [
    {
     "data": {
      "text/plain": [
       "-0.0867171999053751"
      ]
     },
     "execution_count": 33,
     "metadata": {},
     "output_type": "execute_result"
    }
   ],
   "source": [
    "np.mean(df['compound'])"
   ]
  },
  {
   "cell_type": "code",
   "execution_count": 34,
   "id": "bcb94aa3",
   "metadata": {},
   "outputs": [
    {
     "data": {
      "text/plain": [
       "<AxesSubplot:>"
      ]
     },
     "execution_count": 34,
     "metadata": {},
     "output_type": "execute_result"
    },
    {
     "data": {
      "image/png": "[encoded data removed]",
      "text/plain": [
       "<Figure size 432x288 with 1 Axes>"
      ]
     },
     "metadata": {
      "needs_background": "light"
     },
     "output_type": "display_data"
    }
   ],
   "source": [
    "df['compound'].hist(bins='fd')"
   ]
  },
  {
   "cell_type": "code",
   "execution_count": null,
   "id": "9dad6ea0",
   "metadata": {
    "scrolled": true
   },
   "outputs": [],
   "source": [
    "df[df['compound']<= -0.8][:10]['text']"
   ]
  },
  {
   "cell_type": "code",
   "execution_count": null,
   "id": "73fdebe6",
   "metadata": {
    "scrolled": true
   },
   "outputs": [],
   "source": [
    "df[df['compound']<= -0.5][:10]['text']"
   ]
  },
  {
   "cell_type": "code",
   "execution_count": 5,
   "id": "b2dc2c01",
   "metadata": {},
   "outputs": [
    {
     "name": "stdout",
     "output_type": "stream",
     "text": [
      "<class 'pandas.core.frame.DataFrame'>\n",
      "RangeIndex: 2979 entries, 0 to 2978\n",
      "Data columns (total 8 columns):\n",
      " #   Column          Non-Null Count  Dtype  \n",
      "---  ------          --------------  -----  \n",
      " 0   tweet_id        2979 non-null   float64\n",
      " 1   acct_desc       2700 non-null   object \n",
      " 2   date            2979 non-null   object \n",
      " 3   location        2979 non-null   object \n",
      " 4   friends_ount    2979 non-null   float64\n",
      " 5   followers_ount  2979 non-null   float64\n",
      " 6   text            2979 non-null   object \n",
      " 7   location_trans  2974 non-null   object \n",
      "dtypes: float64(3), object(5)\n",
      "memory usage: 186.3+ KB\n"
     ]
    }
   ],
   "source": [
    "df.info()"
   ]
  },
  {
   "cell_type": "code",
   "execution_count": null,
   "id": "f258ad81",
   "metadata": {},
   "outputs": [],
   "source": []
  }
 ],
 "metadata": {
  "kernelspec": {
   "display_name": "huggingface",
   "language": "python",
   "name": "huggingface"
  },
  "language_info": {
   "codemirror_mode": {
    "name": "ipython",
    "version": 3
   },
   "file_extension": ".py",
   "mimetype": "text/x-python",
   "name": "python",
   "nbconvert_exporter": "python",
   "pygments_lexer": "ipython3",
   "version": "3.10.4"
  }
 },
 "nbformat": 4,
 "nbformat_minor": 5
}
