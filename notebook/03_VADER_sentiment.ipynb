{
 "cells": [
  {
   "cell_type": "markdown",
   "id": "7ae26365",
   "metadata": {},
   "source": [
    "### Import packages"
   ]
  },
  {
   "cell_type": "code",
   "execution_count": 1,
   "id": "ec492594",
   "metadata": {},
   "outputs": [
    {
     "name": "stderr",
     "output_type": "stream",
     "text": [
      "/Users/chengxianzhang/anaconda3/envs/huggingface/lib/python3.10/site-packages/tqdm/auto.py:22: TqdmWarning: IProgress not found. Please update jupyter and ipywidgets. See https://ipywidgets.readthedocs.io/en/stable/user_install.html\n",
      "  from .autonotebook import tqdm as notebook_tqdm\n"
     ]
    }
   ],
   "source": [
    "import pandas as pd\n",
    "import numpy as np\n",
    "import matplotlib.pyplot as plt\n",
    "from tqdm.auto import tqdm\n",
    "import glob\n",
    "from vaderSentiment.vaderSentiment import SentimentIntensityAnalyzer\n",
    "tqdm.pandas()"
   ]
  },
  {
   "cell_type": "code",
   "execution_count": 37,
   "id": "54c25268",
   "metadata": {},
   "outputs": [],
   "source": [
    "pd.set_option('display.max_colwidth', None)"
   ]
  },
  {
   "cell_type": "code",
   "execution_count": 31,
   "id": "55c6af92",
   "metadata": {},
   "outputs": [],
   "source": [
    "analyzer = SentimentIntensityAnalyzer()\n"
   ]
  },
  {
   "cell_type": "code",
   "execution_count": null,
   "id": "be04b9ab",
   "metadata": {
    "scrolled": true
   },
   "outputs": [],
   "source": [
    "for filepath in tqdm(glob.glob('../data/tweets_en/*')):\n",
    "    df = pd.read_csv(filepath, dtype = {'text':'str'} ,lineterminator='\\n', encoding='latin-1')\n",
    "    df = df.dropna(subset='text')\n",
    "    compound = []\n",
    "    for s in df['text'].apply(analyzer.polarity_scores):\n",
    "        compound.append(s['compound'])\n",
    "    df['compound'] = compound\n",
    "    df.to_csv(filepath, index = False)"
   ]
  },
  {
   "cell_type": "markdown",
   "id": "59539e9e",
   "metadata": {},
   "source": [
    "Average sentiment score\n",
    "ukrain: -0.04\n",
    "russia: -0.08\n",
    "putin: -0.08\n",
    "zelenskyy: 0.028\n",
    "eu: -0.04\n",
    "nato: -0.10\n",
    "biden: -0.02\n",
    "johnson: -0.04\n",
    "macron: -0.02\n",
    "scholz: -0.12"
   ]
  },
  {
   "cell_type": "code",
   "execution_count": 32,
   "id": "93d85f53",
   "metadata": {},
   "outputs": [],
   "source": [
    "df = pd.read_csv('../data/tweets_en/tweets_russia_en.csv', dtype={'text':'str'}, lineterminator='\\n', encoding='latin-1')"
   ]
  },
  {
   "cell_type": "code",
   "execution_count": 33,
   "id": "4dbb9f83",
   "metadata": {},
   "outputs": [
    {
     "data": {
      "text/plain": [
       "-0.0867171999053751"
      ]
     },
     "execution_count": 33,
     "metadata": {},
     "output_type": "execute_result"
    }
   ],
   "source": [
    "np.mean(df['compound'])"
   ]
  },
  {
   "cell_type": "code",
   "execution_count": 34,
   "id": "bcb94aa3",
   "metadata": {},
   "outputs": [
    {
     "data": {
      "text/plain": [
       "<AxesSubplot:>"
      ]
     },
     "execution_count": 34,
     "metadata": {},
     "output_type": "execute_result"
    },
    {
     "data": {
      "image/png": "[encoded data removed]",
      "text/plain": [
       "<Figure size 432x288 with 1 Axes>"
      ]
     },
     "metadata": {
      "needs_background": "light"
     },
     "output_type": "display_data"
    }
   ],
   "source": [
    "df['compound'].hist(bins='fd')"
   ]
  },
  {
   "cell_type": "code",
   "execution_count": null,
   "id": "9dad6ea0",
   "metadata": {
    "scrolled": true
   },
   "outputs": [],
   "source": [
    "df[df['compound']<= -0.8][:10]['text']"
   ]
  },
  {
   "cell_type": "code",
   "execution_count": null,
   "id": "73fdebe6",
   "metadata": {
    "scrolled": true
   },
   "outputs": [],
   "source": [
    "df[df['compound']<= -0.5][:10]['text']"
   ]
  },
  {
   "cell_type": "code",
   "execution_count": null,
   "id": "b2dc2c01",
   "metadata": {},
   "outputs": [],
   "source": []
  }
 ],
 "metadata": {
  "kernelspec": {
   "display_name": "huggingface",
   "language": "python",
   "name": "huggingface"
  },
  "language_info": {
   "codemirror_mode": {
    "name": "ipython",
    "version": 3
   },
   "file_extension": ".py",
   "mimetype": "text/x-python",
   "name": "python",
   "nbconvert_exporter": "python",
   "pygments_lexer": "ipython3",
   "version": "3.10.4"
  }
 },
 "nbformat": 4,
 "nbformat_minor": 5
}
