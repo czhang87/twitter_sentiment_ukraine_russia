{
 "cells": [
  {
   "cell_type": "markdown",
   "id": "710de282",
   "metadata": {},
   "source": [
    "## 6. Word Cloud"
   ]
  },
  {
   "cell_type": "markdown",
   "id": "75c96103",
   "metadata": {},
   "source": [
    "### Import packages"
   ]
  },
  {
   "cell_type": "code",
   "execution_count": null,
   "id": "41a5be59",
   "metadata": {},
   "outputs": [],
   "source": [
    "import numpy as np\n",
    "import pandas as pd\n",
    "from os import path\n",
    "from PIL import Image\n",
    "from wordcloud import WordCloud, STOPWORDS, ImageColorGenerator\n",
    "import matplotlib.pyplot as plt\n",
    "from tqdm.auto import tqdm"
   ]
  },
  {
   "cell_type": "markdown",
   "id": "2cd0f2df",
   "metadata": {},
   "source": [
    "### Word cloud of positive tweets"
   ]
  },
  {
   "cell_type": "code",
   "execution_count": null,
   "id": "5df4c755",
   "metadata": {
    "scrolled": true
   },
   "outputs": [],
   "source": [
    "startdate =pd.to_datetime('2022-02-24').date()\n",
    "keywords = ['ukraine', 'russia', 'eu', 'zelenskyy', 'biden', 'putin', 'johnson', 'nato', 'scholz', 'macron']\n",
    "\n",
    "for keyword in tqdm(keywords):\n",
    "    df = pd.read_csv(f'../data/tweets_en/tweets_{keyword}_en.csv',dtype={'date':'str'}, parse_dates = ['date'], lineterminator='\\n', encoding='latin-1')\n",
    "    df['date'] = pd.DatetimeIndex(df['date']).date\n",
    "    \n",
    "    # positive tweets\n",
    "    df = df[(df['date']>startdate) & (df['compound']>0.5)]\n",
    "    print(keyword, df.shape)\n",
    "    \n",
    "    # Concatenate tweets in one string\n",
    "    text_temp = ''\n",
    "    for text in df['text']:\n",
    "        text_temp += text\n",
    "    \n",
    "    # Create wordcloud\n",
    "    wordcloud = WordCloud(background_color=\"white\").generate(text)\n",
    "#     plt.figure()\n",
    "#     plt.imshow(wordcloud, interpolation=\"bilinear\")\n",
    "#     plt.axis(\"off\")\n",
    "#     plt.show()\n",
    "    \n",
    "    # Save the image in the img folder:\n",
    "    wordcloud.to_file(f\"../shinyapp/www/{keyword}_positive.png\")  "
   ]
  },
  {
   "cell_type": "markdown",
   "id": "d7a8dea0",
   "metadata": {},
   "source": [
    "### Word cloud of negative tweets"
   ]
  },
  {
   "cell_type": "code",
   "execution_count": null,
   "id": "df70cfd2",
   "metadata": {},
   "outputs": [],
   "source": [
    "for keyword in tqdm(keywords):\n",
    "    df = pd.read_csv(f'../data/tweets_en/tweets_{keyword}_en.csv',dtype={'date':'str'}, parse_dates = ['date'], lineterminator='\\n', encoding='latin-1')\n",
    "    df['date'] = pd.DatetimeIndex(df['date']).date\n",
    "    \n",
    "    # positive tweets\n",
    "    df = df[(df['date']>startdate) & (df['compound'] < -0.5)]\n",
    "    print(keyword, df.shape)\n",
    "    \n",
    "    # Concatenate tweets in one string\n",
    "    text_temp = ''\n",
    "    for text in df['text']:\n",
    "        text_temp += text\n",
    "    \n",
    "    # Create wordcloud\n",
    "    wordcloud = WordCloud(background_color=\"white\").generate(text)\n",
    "    \n",
    "    # Save the image in the img folder:\n",
    "    wordcloud.to_file(f\"../shinyapp/www/{keyword}_negative.png\")  "
   ]
  }
 ],
 "metadata": {
  "kernelspec": {
   "display_name": "Python 3 (ipykernel)",
   "language": "python",
   "name": "python3"
  },
  "language_info": {
   "codemirror_mode": {
    "name": "ipython",
    "version": 3
   },
   "file_extension": ".py",
   "mimetype": "text/x-python",
   "name": "python",
   "nbconvert_exporter": "python",
   "pygments_lexer": "ipython3",
   "version": "3.7.13"
  }
 },
 "nbformat": 4,
 "nbformat_minor": 5
}
