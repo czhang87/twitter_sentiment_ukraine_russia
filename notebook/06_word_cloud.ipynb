{
 "cells": [
  {
   "cell_type": "markdown",
   "id": "710de282",
   "metadata": {},
   "source": [
    "## 6. Word Cloud"
   ]
  },
  {
   "cell_type": "code",
   "execution_count": 3,
   "id": "41a5be59",
   "metadata": {},
   "outputs": [],
   "source": [
    "import numpy as np\n",
    "import pandas as pd\n",
    "from os import path\n",
    "from PIL import Image\n",
    "from wordcloud import WordCloud, STOPWORDS, ImageColorGenerator\n",
    "import matplotlib.pyplot as plt\n",
    "from tqdm.auto import tqdm"
   ]
  },
  {
   "cell_type": "markdown",
   "id": "2cd0f2df",
   "metadata": {},
   "source": [
    "### Positive word cloud"
   ]
  },
  {
   "cell_type": "code",
   "execution_count": 18,
   "id": "5df4c755",
   "metadata": {
    "scrolled": true
   },
   "outputs": [
    {
     "data": {
      "application/vnd.jupyter.widget-view+json": {
       "model_id": "62b0e634e1c445a49372ede6adc0e574",
       "version_major": 2,
       "version_minor": 0
      },
      "text/plain": [
       "  0%|          | 0/10 [00:00<?, ?it/s]"
      ]
     },
     "metadata": {},
     "output_type": "display_data"
    },
    {
     "name": "stdout",
     "output_type": "stream",
     "text": [
      "ukraine (86141, 11)\n",
      "russia (61886, 11)\n",
      "eu (23695, 11)\n",
      "zelenskyy (58177, 11)\n",
      "biden (74416, 11)\n",
      "putin (65167, 10)\n",
      "johnson (66274, 10)\n",
      "nato (63458, 10)\n",
      "scholz (10446, 10)\n",
      "macron (27214, 10)\n"
     ]
    }
   ],
   "source": [
    "startdate =pd.to_datetime('2022-02-24').date()\n",
    "keywords = ['ukraine', 'russia', 'eu', 'zelenskyy', 'biden', 'putin', 'johnson', 'nato', 'scholz', 'macron']\n",
    "\n",
    "for keyword in tqdm(keywords):\n",
    "    df = pd.read_csv(f'../data/tweets_en/tweets_{keyword}_en.csv',dtype={'date':'str'}, parse_dates = ['date'], lineterminator='\\n', encoding='latin-1')\n",
    "    df['date'] = pd.DatetimeIndex(df['date']).date\n",
    "    \n",
    "    # positive tweets\n",
    "    df = df[(df['date']>startdate) & (df['compound']>0.5)]\n",
    "    print(keyword, df.shape)\n",
    "    \n",
    "    # Concatenate tweets in one string\n",
    "    text_temp = ''\n",
    "    for text in df['text']:\n",
    "        text_temp += text\n",
    "    \n",
    "    # Create wordcloud\n",
    "    wordcloud = WordCloud(background_color=\"white\").generate(text)\n",
    "#     plt.figure()\n",
    "#     plt.imshow(wordcloud, interpolation=\"bilinear\")\n",
    "#     plt.axis(\"off\")\n",
    "#     plt.show()\n",
    "    \n",
    "    # Save the image in the img folder:\n",
    "    wordcloud.to_file(f\"../shinyapp/www/{keyword}_positive.png\")  "
   ]
  },
  {
   "cell_type": "markdown",
   "id": "d7a8dea0",
   "metadata": {},
   "source": [
    "### Negative word cloud"
   ]
  },
  {
   "cell_type": "code",
   "execution_count": 21,
   "id": "df70cfd2",
   "metadata": {},
   "outputs": [
    {
     "data": {
      "application/vnd.jupyter.widget-view+json": {
       "model_id": "418bb9101e6c4485a75910f5f7a32ffc",
       "version_major": 2,
       "version_minor": 0
      },
      "text/plain": [
       "  0%|          | 0/10 [00:00<?, ?it/s]"
      ]
     },
     "metadata": {},
     "output_type": "display_data"
    },
    {
     "name": "stdout",
     "output_type": "stream",
     "text": [
      "ukraine (99001, 11)\n",
      "russia (110263, 11)\n",
      "eu (31643, 11)\n",
      "zelenskyy (53098, 11)\n",
      "biden (89923, 11)\n",
      "putin (112679, 10)\n",
      "johnson (90883, 10)\n",
      "nato (117202, 10)\n",
      "scholz (20775, 10)\n",
      "macron (31306, 10)\n"
     ]
    }
   ],
   "source": [
    "for keyword in tqdm(keywords):\n",
    "    df = pd.read_csv(f'../data/tweets_en/tweets_{keyword}_en.csv',dtype={'date':'str'}, parse_dates = ['date'], lineterminator='\\n', encoding='latin-1')\n",
    "    df['date'] = pd.DatetimeIndex(df['date']).date\n",
    "    \n",
    "    # positive tweets\n",
    "    df = df[(df['date']>startdate) & (df['compound'] < -0.5)]\n",
    "    print(keyword, df.shape)\n",
    "    \n",
    "    # Concatenate tweets in one string\n",
    "    text_temp = ''\n",
    "    for text in df['text']:\n",
    "        text_temp += text\n",
    "    \n",
    "    # Create wordcloud\n",
    "    wordcloud = WordCloud(background_color=\"white\").generate(text)\n",
    "    \n",
    "    # Save the image in the img folder:\n",
    "    wordcloud.to_file(f\"../shinyapp/www/{keyword}_negative.png\")  "
   ]
  },
  {
   "cell_type": "code",
   "execution_count": null,
   "id": "67f3dd95",
   "metadata": {},
   "outputs": [],
   "source": []
  }
 ],
 "metadata": {
  "kernelspec": {
   "display_name": "Python 3 (ipykernel)",
   "language": "python",
   "name": "python3"
  },
  "language_info": {
   "codemirror_mode": {
    "name": "ipython",
    "version": 3
   },
   "file_extension": ".py",
   "mimetype": "text/x-python",
   "name": "python",
   "nbconvert_exporter": "python",
   "pygments_lexer": "ipython3",
   "version": "3.7.13"
  }
 },
 "nbformat": 4,
 "nbformat_minor": 5
}
